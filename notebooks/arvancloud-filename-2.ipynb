{
 "cells": [
  {
   "attachments": {},
   "cell_type": "markdown",
   "metadata": {},
   "source": [
    "# arvancloud: filename\n",
    "\n",
    "https://docs.arvancloud.ir/fa/developer-tools/sdk/object-storage/upload-object/"
   ]
  },
  {
   "cell_type": "code",
   "execution_count": 1,
   "metadata": {},
   "outputs": [
    {
     "name": "stderr",
     "output_type": "stream",
     "text": [
      "🌀  bluer_objects-6.144.1.bluer_ai-12.160.1.bluer_objects-6.144.1.bluer_options-5.127.1.torch-2.2.2.Python 3.12.9.Darwin 23.6.0..Jupyter-Notebook,\n",
      "built on 29 May 2025, 15:37:09\n"
     ]
    }
   ],
   "source": [
    "from bluer_options import string\n",
    "\n",
    "from bluer_objects import objects\n",
    "from bluer_objects.host import signature\n",
    "from bluer_objects.testing import create_test_asset\n",
    "from bluer_objects.storage import ArvancloudInterface\n",
    "from bluer_objects import file\n",
    "from bluer_objects.logger import logger\n",
    "\n",
    "logger.info(f\"{'.'.join(signature())},\\nbuilt on {string.pretty_date()}\")"
   ]
  },
  {
   "cell_type": "code",
   "execution_count": 2,
   "metadata": {},
   "outputs": [],
   "source": [
    "storage = ArvancloudInterface()"
   ]
  },
  {
   "cell_type": "code",
   "execution_count": 3,
   "metadata": {},
   "outputs": [],
   "source": [
    "# filename = \"test-00.png\"\n",
    "\n",
    "# filename = \"this.yaml\"\n",
    "\n",
    "filename = \"subfolder/this.yaml\""
   ]
  },
  {
   "cell_type": "code",
   "execution_count": 4,
   "metadata": {},
   "outputs": [
    {
     "name": "stderr",
     "output_type": "stream",
     "text": [
      "🌀  📂 test-arvancloud-2025-05-29-15-37-09-duf3ho\n"
     ]
    }
   ],
   "source": [
    "object_name = objects.unique_object(\"test-arvancloud\")\n",
    "\n",
    "local_path=objects.path_of(\n",
    "        object_name=object_name,\n",
    "        filename=filename,\n",
    "    )"
   ]
  },
  {
   "cell_type": "code",
   "execution_count": 5,
   "metadata": {},
   "outputs": [
    {
     "name": "stderr",
     "output_type": "stream",
     "text": [
      "🌀  bluer_objects.testing.functions.create_test_asset: test-arvancloud-2025-05-29-15-37-09-duf3ho\n",
      "🌀  bluer_objects.file.save.save_image: 512x512x3:uint8 -> /Users/kamangir/storage/abcli/test-arvancloud-2025-05-29-15-37-09-duf3ho/test-00.png\n",
      "🌀  bluer_objects.file.save.save_image: 512x512x3:uint8 -> /Users/kamangir/storage/abcli/test-arvancloud-2025-05-29-15-37-09-duf3ho/test-01.png\n",
      "🌀  bluer_objects.file.save.save_image: 512x512x3:uint8 -> /Users/kamangir/storage/abcli/test-arvancloud-2025-05-29-15-37-09-duf3ho/test-02.png\n",
      "🌀  bluer_objects.file.save.save_image: 512x512x3:uint8 -> /Users/kamangir/storage/abcli/test-arvancloud-2025-05-29-15-37-09-duf3ho/test-03.png\n",
      "🌀  bluer_objects.file.save.save_image: 512x512x3:uint8 -> /Users/kamangir/storage/abcli/test-arvancloud-2025-05-29-15-37-09-duf3ho/test-04.png\n",
      "🌀  bluer_objects.file.save.save_image: 512x512x3:uint8 -> /Users/kamangir/storage/abcli/test-arvancloud-2025-05-29-15-37-09-duf3ho/test-05.png\n",
      "🌀  bluer_objects.file.save.save_image: 512x512x3:uint8 -> /Users/kamangir/storage/abcli/test-arvancloud-2025-05-29-15-37-09-duf3ho/test-06.png\n",
      "🌀  bluer_objects.file.save.save_image: 512x512x3:uint8 -> /Users/kamangir/storage/abcli/test-arvancloud-2025-05-29-15-37-09-duf3ho/test-07.png\n",
      "🌀  bluer_objects.file.save.save_image: 512x512x3:uint8 -> /Users/kamangir/storage/abcli/test-arvancloud-2025-05-29-15-37-09-duf3ho/test-08.png\n",
      "🌀  bluer_objects.file.save.save_image: 512x512x3:uint8 -> /Users/kamangir/storage/abcli/test-arvancloud-2025-05-29-15-37-09-duf3ho/test-09.png\n",
      "🌀  bluer_objects.file.save.save_yaml: atf5prddax, 9scuqos11x, 7krjbuoa18, xbm7or3u2y, 1zkctfy38u, v5stp89qci, ehdfknjzi4, v3c1ive9cg, f2r4qpwmys, j595ujw9ut -> /Users/kamangir/storage/abcli/test-arvancloud-2025-05-29-15-37-09-duf3ho/this.yaml.\n",
      "🌀  bluer_objects.file.save.save_yaml: atf5prddax, 9scuqos11x, 7krjbuoa18, xbm7or3u2y, 1zkctfy38u, v5stp89qci, ehdfknjzi4, v3c1ive9cg, f2r4qpwmys, j595ujw9ut -> /Users/kamangir/storage/abcli/test-arvancloud-2025-05-29-15-37-09-duf3ho/that.yaml.\n",
      "🌀  bluer_objects.file.save.save_yaml: atf5prddax, 9scuqos11x, 7krjbuoa18, xbm7or3u2y, 1zkctfy38u, v5stp89qci, ehdfknjzi4, v3c1ive9cg, f2r4qpwmys, j595ujw9ut -> /Users/kamangir/storage/abcli/test-arvancloud-2025-05-29-15-37-09-duf3ho/subfolder/this.yaml.\n",
      "🌀  bluer_objects.file.save.save_yaml: atf5prddax, 9scuqos11x, 7krjbuoa18, xbm7or3u2y, 1zkctfy38u, v5stp89qci, ehdfknjzi4, v3c1ive9cg, f2r4qpwmys, j595ujw9ut -> /Users/kamangir/storage/abcli/test-arvancloud-2025-05-29-15-37-09-duf3ho/subfolder/that.yaml.\n",
      "🌀  bluer_objects.file.save.save_yaml: atf5prddax, 9scuqos11x, 7krjbuoa18, xbm7or3u2y, 1zkctfy38u, v5stp89qci, ehdfknjzi4, v3c1ive9cg, f2r4qpwmys, j595ujw9ut -> /Users/kamangir/storage/abcli/test-arvancloud-2025-05-29-15-37-09-duf3ho/test.yaml.\n"
     ]
    }
   ],
   "source": [
    "assert create_test_asset(object_name)"
   ]
  },
  {
   "attachments": {},
   "cell_type": "markdown",
   "metadata": {},
   "source": [
    "---"
   ]
  },
  {
   "cell_type": "markdown",
   "metadata": {},
   "source": [
    "# upload"
   ]
  },
  {
   "cell_type": "code",
   "execution_count": 6,
   "metadata": {},
   "outputs": [
    {
     "name": "stderr",
     "output_type": "stream",
     "text": [
      "🌀  ArvancloudInterface.upload test-arvancloud-2025-05-29-15-37-09-duf3ho/subfolder/this.yaml\n"
     ]
    }
   ],
   "source": [
    "assert storage.upload(\n",
    "    object_name=object_name,\n",
    "    filename=filename,\n",
    ")"
   ]
  },
  {
   "cell_type": "code",
   "execution_count": 7,
   "metadata": {},
   "outputs": [],
   "source": [
    "assert file.delete(local_path)"
   ]
  },
  {
   "cell_type": "markdown",
   "metadata": {},
   "source": [
    "# download"
   ]
  },
  {
   "cell_type": "code",
   "execution_count": 8,
   "metadata": {},
   "outputs": [
    {
     "name": "stderr",
     "output_type": "stream",
     "text": [
      "🌀  ArvancloudInterface.download test-arvancloud-2025-05-29-15-37-09-duf3ho/subfolder/this.yaml\n"
     ]
    }
   ],
   "source": [
    "assert storage.download(\n",
    "    object_name=object_name,\n",
    "    filename=filename,\n",
    ")"
   ]
  },
  {
   "cell_type": "code",
   "execution_count": 9,
   "metadata": {},
   "outputs": [
    {
     "name": "stdout",
     "output_type": "stream",
     "text": [
      "/Users/kamangir/storage/abcli/test-arvancloud-2025-05-29-15-37-09-duf3ho/subfolder/this.yaml\n"
     ]
    }
   ],
   "source": [
    "! ls {local_path}"
   ]
  },
  {
   "attachments": {},
   "cell_type": "markdown",
   "metadata": {},
   "source": [
    "---"
   ]
  },
  {
   "cell_type": "code",
   "execution_count": 10,
   "metadata": {},
   "outputs": [],
   "source": [
    "# END"
   ]
  }
 ],
 "metadata": {
  "kernelspec": {
   "display_name": "base",
   "language": "python",
   "name": "python3"
  },
  "language_info": {
   "codemirror_mode": {
    "name": "ipython",
    "version": 3
   },
   "file_extension": ".py",
   "mimetype": "text/x-python",
   "name": "python",
   "nbconvert_exporter": "python",
   "pygments_lexer": "ipython3",
   "version": "3.12.9"
  },
  "toc": {
   "base_numbering": 1,
   "nav_menu": {},
   "number_sections": true,
   "sideBar": true,
   "skip_h1_title": false,
   "title_cell": "Table of Contents",
   "title_sidebar": "Contents",
   "toc_cell": false,
   "toc_position": {},
   "toc_section_display": true,
   "toc_window_display": false
  }
 },
 "nbformat": 4,
 "nbformat_minor": 2
}
