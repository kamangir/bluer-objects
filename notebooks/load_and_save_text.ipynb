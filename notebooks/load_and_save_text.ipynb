{
 "cells": [
  {
   "attachments": {},
   "cell_type": "markdown",
   "metadata": {},
   "source": [
    "# 🌀 file.load_text and save_text"
   ]
  },
  {
   "cell_type": "code",
   "execution_count": 1,
   "metadata": {},
   "outputs": [
    {
     "name": "stderr",
     "output_type": "stream",
     "text": [
      "🌀  bluer_objects-6.104.1.bluer_ai-12.140.1.bluer_objects-6.104.1.bluer_options-5.88.1.torch-2.2.2.Python 3.12.9.Darwin 23.6.0..Jupyter-Notebook,\n",
      "built on 25 April 2025, 11:12:01\n"
     ]
    }
   ],
   "source": [
    "from bluer_sandbox import notebooks\n",
    "\n",
    "from bluer_options import string\n",
    "from bluer_objects import objects, testing\n",
    "from bluer_objects import file\n",
    "\n",
    "from bluer_objects.host import signature\n",
    "from bluer_objects.logger import logger\n",
    "\n",
    "logger.info(f\"{'.'.join(signature())},\\nbuilt on {string.pretty_date()}\")"
   ]
  },
  {
   "cell_type": "code",
   "execution_count": 2,
   "metadata": {},
   "outputs": [
    {
     "name": "stderr",
     "output_type": "stream",
     "text": [
      "🌀  📂 bluer-sandbox-notebook-2025-04-25-11-12-01-c53ujv\n"
     ]
    }
   ],
   "source": [
    "object_name = objects.unique_object(\"bluer-sandbox-notebook\")"
   ]
  },
  {
   "attachments": {},
   "cell_type": "markdown",
   "metadata": {},
   "source": [
    "---"
   ]
  },
  {
   "cell_type": "code",
   "execution_count": 3,
   "metadata": {},
   "outputs": [
    {
     "name": "stderr",
     "output_type": "stream",
     "text": [
      "🌀  bluer_objects.testing.functions.create_test_asset: bluer-sandbox-notebook-2025-04-25-11-12-01-c53ujv\n",
      "🌀  bluer_objects.file.save.save_image: 512x512x3:uint8 -> /Users/kamangir/storage/abcli/bluer-sandbox-notebook-2025-04-25-11-12-01-c53ujv/test-00.png\n",
      "🌀  bluer_objects.file.save.save_image: 512x512x3:uint8 -> /Users/kamangir/storage/abcli/bluer-sandbox-notebook-2025-04-25-11-12-01-c53ujv/test-01.png\n",
      "🌀  bluer_objects.file.save.save_image: 512x512x3:uint8 -> /Users/kamangir/storage/abcli/bluer-sandbox-notebook-2025-04-25-11-12-01-c53ujv/test-02.png\n",
      "🌀  bluer_objects.file.save.save_image: 512x512x3:uint8 -> /Users/kamangir/storage/abcli/bluer-sandbox-notebook-2025-04-25-11-12-01-c53ujv/test-03.png\n",
      "🌀  bluer_objects.file.save.save_image: 512x512x3:uint8 -> /Users/kamangir/storage/abcli/bluer-sandbox-notebook-2025-04-25-11-12-01-c53ujv/test-04.png\n",
      "🌀  bluer_objects.file.save.save_yaml: v0cxm, xyayd, zlg5b, taka4, gep2k -> /Users/kamangir/storage/abcli/bluer-sandbox-notebook-2025-04-25-11-12-01-c53ujv/this.yaml.\n",
      "🌀  bluer_objects.file.save.save_yaml: v0cxm, xyayd, zlg5b, taka4, gep2k -> /Users/kamangir/storage/abcli/bluer-sandbox-notebook-2025-04-25-11-12-01-c53ujv/that.yaml.\n",
      "🌀  bluer_objects.file.save.save_yaml: v0cxm, xyayd, zlg5b, taka4, gep2k -> /Users/kamangir/storage/abcli/bluer-sandbox-notebook-2025-04-25-11-12-01-c53ujv/subfolder/this.yaml.\n",
      "🌀  bluer_objects.file.save.save_yaml: v0cxm, xyayd, zlg5b, taka4, gep2k -> /Users/kamangir/storage/abcli/bluer-sandbox-notebook-2025-04-25-11-12-01-c53ujv/subfolder/that.yaml.\n",
      "🌀  bluer_objects.file.save.save_yaml: v0cxm, xyayd, zlg5b, taka4, gep2k -> /Users/kamangir/storage/abcli/bluer-sandbox-notebook-2025-04-25-11-12-01-c53ujv/test.yaml.\n"
     ]
    }
   ],
   "source": [
    "assert testing.create_test_asset(object_name=object_name, depth=5)"
   ]
  },
  {
   "cell_type": "code",
   "execution_count": 4,
   "metadata": {},
   "outputs": [],
   "source": [
    "filename_input = objects.path_of(\n",
    "        object_name=object_name,\n",
    "        filename=\"this.yaml\",\n",
    "    )\n",
    "\n",
    "filename_output = objects.path_of(\n",
    "        object_name=object_name,\n",
    "        filename=\"this_saved.yaml\",\n",
    "    )"
   ]
  },
  {
   "cell_type": "code",
   "execution_count": 5,
   "metadata": {},
   "outputs": [
    {
     "name": "stderr",
     "output_type": "stream",
     "text": [
      "🌀  loaded 5 line(s) from /Users/kamangir/storage/abcli/bluer-sandbox-notebook-2025-04-25-11-12-01-c53ujv/this.yaml.\n",
      "🌀  ['gep2k: 6f4hg', 'taka4: ynmv9', 'v0cxm: yr3wj', 'xyayd: 31n7p', 'zlg5b: xaul2']\n"
     ]
    }
   ],
   "source": [
    "success, text = file.load_text(\n",
    "    filename_input,\n",
    "    log=True\n",
    ")\n",
    "assert success\n",
    "\n",
    "logger.info(text)"
   ]
  },
  {
   "cell_type": "code",
   "execution_count": 6,
   "metadata": {},
   "outputs": [
    {
     "name": "stderr",
     "output_type": "stream",
     "text": [
      "🌀  bluer_objects.file.save.save_text: 5 line(s) -> /Users/kamangir/storage/abcli/bluer-sandbox-notebook-2025-04-25-11-12-01-c53ujv/this_saved.yaml\n"
     ]
    }
   ],
   "source": [
    "success = file.save_text(\n",
    "    filename_output,\n",
    "    text,\n",
    "    log=True,\n",
    ")\n",
    "assert success"
   ]
  },
  {
   "cell_type": "code",
   "execution_count": 7,
   "metadata": {},
   "outputs": [
    {
     "name": "stdout",
     "output_type": "stream",
     "text": [
      "gep2k: 6f4hg\n",
      "taka4: ynmv9\n",
      "v0cxm: yr3wj\n",
      "xyayd: 31n7p\n",
      "zlg5b: xaul2\n",
      "---\n"
     ]
    }
   ],
   "source": [
    "! cat {filename_input}\n",
    "print(\"---\")"
   ]
  },
  {
   "cell_type": "code",
   "execution_count": 8,
   "metadata": {},
   "outputs": [
    {
     "name": "stdout",
     "output_type": "stream",
     "text": [
      "gep2k: 6f4hg\n",
      "taka4: ynmv9\n",
      "v0cxm: yr3wj\n",
      "xyayd: 31n7p\n",
      "zlg5b: xaul2\n",
      "---\n"
     ]
    }
   ],
   "source": [
    "! cat {filename_output}\n",
    "print(\"---\")"
   ]
  },
  {
   "attachments": {},
   "cell_type": "markdown",
   "metadata": {},
   "source": [
    "---"
   ]
  },
  {
   "cell_type": "code",
   "execution_count": 9,
   "metadata": {},
   "outputs": [],
   "source": [
    "# END"
   ]
  }
 ],
 "metadata": {
  "kernelspec": {
   "display_name": "base",
   "language": "python",
   "name": "python3"
  },
  "language_info": {
   "codemirror_mode": {
    "name": "ipython",
    "version": 3
   },
   "file_extension": ".py",
   "mimetype": "text/x-python",
   "name": "python",
   "nbconvert_exporter": "python",
   "pygments_lexer": "ipython3",
   "version": "3.12.9"
  },
  "toc": {
   "base_numbering": 1,
   "nav_menu": {},
   "number_sections": true,
   "sideBar": true,
   "skip_h1_title": false,
   "title_cell": "Table of Contents",
   "title_sidebar": "Contents",
   "toc_cell": false,
   "toc_position": {},
   "toc_section_display": true,
   "toc_window_display": false
  }
 },
 "nbformat": 4,
 "nbformat_minor": 2
}
