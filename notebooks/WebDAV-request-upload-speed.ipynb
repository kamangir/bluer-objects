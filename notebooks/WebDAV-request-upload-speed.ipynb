{
 "cells": [
  {
   "attachments": {},
   "cell_type": "markdown",
   "metadata": {},
   "source": [
    "# WebDAV - request: upload speed\n",
    "\n",
    "https://chatgpt.com/c/6824cf43-6738-8005-8733-54b6a77f20ee"
   ]
  },
  {
   "cell_type": "code",
   "execution_count": 1,
   "metadata": {},
   "outputs": [
    {
     "name": "stderr",
     "output_type": "stream",
     "text": [
      "🌀  bluer_objects-6.123.1.bluer_ai-12.141.1.bluer_objects-6.123.1.bluer_options-5.97.1.torch-2.2.2.Python 3.12.9.Darwin 23.6.0..Jupyter-Notebook,\n",
      "built on 16 May 2025, 14:55:17\n"
     ]
    }
   ],
   "source": [
    "from bluer_options import string\n",
    "\n",
    "from bluer_options.elapsed_timer import ElapsedTimer\n",
    "from bluer_objects import objects\n",
    "from bluer_objects.host import signature\n",
    "from bluer_objects.testing import create_test_asset\n",
    "from bluer_objects.storage import WebDAVRequestInterface\n",
    "from bluer_objects.logger import logger\n",
    "\n",
    "logger.info(f\"{'.'.join(signature())},\\nbuilt on {string.pretty_date()}\")"
   ]
  },
  {
   "cell_type": "code",
   "execution_count": 2,
   "metadata": {},
   "outputs": [],
   "source": [
    "storage = WebDAVRequestInterface()"
   ]
  },
  {
   "cell_type": "code",
   "execution_count": 3,
   "metadata": {},
   "outputs": [
    {
     "name": "stderr",
     "output_type": "stream",
     "text": [
      "🌀  📂 test-WebDAV-2025-05-16-14-55-17-9nfxju\n"
     ]
    }
   ],
   "source": [
    "object_name = objects.unique_object(\"test-WebDAV\")\n",
    "\n",
    "local_path=objects.object_path(object_name=object_name)"
   ]
  },
  {
   "cell_type": "code",
   "execution_count": 4,
   "metadata": {},
   "outputs": [
    {
     "name": "stderr",
     "output_type": "stream",
     "text": [
      "🌀  bluer_objects.testing.functions.create_test_asset: test-WebDAV-2025-05-16-14-55-17-9nfxju\n",
      "🌀  bluer_objects.file.save.save_image: 512x512x3:uint8 -> /Users/kamangir/storage/abcli/test-WebDAV-2025-05-16-14-55-17-9nfxju/test-00.png\n",
      "🌀  bluer_objects.file.save.save_image: 512x512x3:uint8 -> /Users/kamangir/storage/abcli/test-WebDAV-2025-05-16-14-55-17-9nfxju/test-01.png\n",
      "🌀  bluer_objects.file.save.save_image: 512x512x3:uint8 -> /Users/kamangir/storage/abcli/test-WebDAV-2025-05-16-14-55-17-9nfxju/test-02.png\n",
      "🌀  bluer_objects.file.save.save_image: 512x512x3:uint8 -> /Users/kamangir/storage/abcli/test-WebDAV-2025-05-16-14-55-17-9nfxju/test-03.png\n",
      "🌀  bluer_objects.file.save.save_image: 512x512x3:uint8 -> /Users/kamangir/storage/abcli/test-WebDAV-2025-05-16-14-55-17-9nfxju/test-04.png\n",
      "🌀  bluer_objects.file.save.save_image: 512x512x3:uint8 -> /Users/kamangir/storage/abcli/test-WebDAV-2025-05-16-14-55-17-9nfxju/test-05.png\n",
      "🌀  bluer_objects.file.save.save_image: 512x512x3:uint8 -> /Users/kamangir/storage/abcli/test-WebDAV-2025-05-16-14-55-17-9nfxju/test-06.png\n",
      "🌀  bluer_objects.file.save.save_image: 512x512x3:uint8 -> /Users/kamangir/storage/abcli/test-WebDAV-2025-05-16-14-55-17-9nfxju/test-07.png\n",
      "🌀  bluer_objects.file.save.save_image: 512x512x3:uint8 -> /Users/kamangir/storage/abcli/test-WebDAV-2025-05-16-14-55-17-9nfxju/test-08.png\n",
      "🌀  bluer_objects.file.save.save_image: 512x512x3:uint8 -> /Users/kamangir/storage/abcli/test-WebDAV-2025-05-16-14-55-17-9nfxju/test-09.png\n",
      "🌀  bluer_objects.file.save.save_yaml: 5fsek83mkm, fa9r2y3g7r, betgsnmpua, 37dc5vgih2, 67zex5ex8w, 1a2ouwzxax, aufrzyrebl, kotlm3fhg6, 8ck9859ue3, 3xm1o1zmxz -> /Users/kamangir/storage/abcli/test-WebDAV-2025-05-16-14-55-17-9nfxju/this.yaml.\n",
      "🌀  bluer_objects.file.save.save_yaml: 5fsek83mkm, fa9r2y3g7r, betgsnmpua, 37dc5vgih2, 67zex5ex8w, 1a2ouwzxax, aufrzyrebl, kotlm3fhg6, 8ck9859ue3, 3xm1o1zmxz -> /Users/kamangir/storage/abcli/test-WebDAV-2025-05-16-14-55-17-9nfxju/that.yaml.\n",
      "🌀  bluer_objects.file.save.save_yaml: 5fsek83mkm, fa9r2y3g7r, betgsnmpua, 37dc5vgih2, 67zex5ex8w, 1a2ouwzxax, aufrzyrebl, kotlm3fhg6, 8ck9859ue3, 3xm1o1zmxz -> /Users/kamangir/storage/abcli/test-WebDAV-2025-05-16-14-55-17-9nfxju/subfolder/this.yaml.\n",
      "🌀  bluer_objects.file.save.save_yaml: 5fsek83mkm, fa9r2y3g7r, betgsnmpua, 37dc5vgih2, 67zex5ex8w, 1a2ouwzxax, aufrzyrebl, kotlm3fhg6, 8ck9859ue3, 3xm1o1zmxz -> /Users/kamangir/storage/abcli/test-WebDAV-2025-05-16-14-55-17-9nfxju/subfolder/that.yaml.\n",
      "🌀  bluer_objects.file.save.save_yaml: 5fsek83mkm, fa9r2y3g7r, betgsnmpua, 37dc5vgih2, 67zex5ex8w, 1a2ouwzxax, aufrzyrebl, kotlm3fhg6, 8ck9859ue3, 3xm1o1zmxz -> /Users/kamangir/storage/abcli/test-WebDAV-2025-05-16-14-55-17-9nfxju/test.yaml.\n"
     ]
    }
   ],
   "source": [
    "assert create_test_asset(object_name)"
   ]
  },
  {
   "attachments": {},
   "cell_type": "markdown",
   "metadata": {},
   "source": [
    "---"
   ]
  },
  {
   "cell_type": "code",
   "execution_count": null,
   "metadata": {},
   "outputs": [
    {
     "name": "stderr",
     "output_type": "stream",
     "text": [
      "  0%|          | 0/18 [00:00<?, ?it/s]🌀  WebDAVRequestInterface.mkdir /test-WebDAV-2025-05-16-14-55-17-9nfxju/\n",
      "🌀  WebDAVRequestInterface.mkdir /test-WebDAV-2025-05-16-14-55-17-9nfxju/subfolder/\n",
      "🌀  WebDAVRequestInterface.upload test-WebDAV-2025-05-16-14-55-17-9nfxju/subfolder/that.yaml\n",
      " 17%|█▋        | 3/18 [00:04<00:23,  1.60s/it]🌀  WebDAVRequestInterface.upload test-WebDAV-2025-05-16-14-55-17-9nfxju/subfolder/this.yaml\n",
      " 22%|██▏       | 4/18 [00:09<00:34,  2.47s/it]🌀  WebDAVRequestInterface.upload test-WebDAV-2025-05-16-14-55-17-9nfxju/test-00.png\n",
      " 28%|██▊       | 5/18 [00:15<00:48,  3.71s/it]🌀  WebDAVRequestInterface.upload test-WebDAV-2025-05-16-14-55-17-9nfxju/test-01.png\n",
      " 33%|███▎      | 6/18 [00:24<01:04,  5.36s/it]🌀  WebDAVRequestInterface.upload test-WebDAV-2025-05-16-14-55-17-9nfxju/test-02.png\n",
      " 39%|███▉      | 7/18 [00:29<00:57,  5.20s/it]🌀  WebDAVRequestInterface.upload test-WebDAV-2025-05-16-14-55-17-9nfxju/test-03.png\n",
      " 44%|████▍     | 8/18 [00:35<00:54,  5.44s/it]"
     ]
    }
   ],
   "source": [
    "timer = ElapsedTimer()\n",
    "assert storage.upload(object_name=object_name)\n",
    "logger.info(f\"took {timer.elapsed_pretty()}.\")"
   ]
  },
  {
   "attachments": {},
   "cell_type": "markdown",
   "metadata": {},
   "source": [
    "---"
   ]
  },
  {
   "cell_type": "code",
   "execution_count": null,
   "metadata": {},
   "outputs": [],
   "source": [
    "# END"
   ]
  }
 ],
 "metadata": {
  "kernelspec": {
   "display_name": "base",
   "language": "python",
   "name": "python3"
  },
  "language_info": {
   "codemirror_mode": {
    "name": "ipython",
    "version": 3
   },
   "file_extension": ".py",
   "mimetype": "text/x-python",
   "name": "python",
   "nbconvert_exporter": "python",
   "pygments_lexer": "ipython3",
   "version": "3.12.9"
  },
  "toc": {
   "base_numbering": 1,
   "nav_menu": {},
   "number_sections": true,
   "sideBar": true,
   "skip_h1_title": false,
   "title_cell": "Table of Contents",
   "title_sidebar": "Contents",
   "toc_cell": false,
   "toc_position": {},
   "toc_section_display": true,
   "toc_window_display": false
  }
 },
 "nbformat": 4,
 "nbformat_minor": 2
}
