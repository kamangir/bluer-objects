{
 "cells": [
  {
   "attachments": {},
   "cell_type": "markdown",
   "metadata": {},
   "source": [
    "# arvancloud: filename\n",
    "\n",
    "https://docs.arvancloud.ir/fa/developer-tools/sdk/object-storage/upload-object/"
   ]
  },
  {
   "cell_type": "code",
   "execution_count": 1,
   "metadata": {},
   "outputs": [
    {
     "name": "stderr",
     "output_type": "stream",
     "text": [
      "🌀  bluer_objects-6.148.1.bluer_ai-12.160.1.bluer_objects-6.148.1.bluer_options-5.127.1.torch-2.2.2.Python 3.12.9.Darwin 23.6.0..Jupyter-Notebook,\n",
      "built on 29 May 2025, 16:45:56\n"
     ]
    }
   ],
   "source": [
    "from bluer_options import string\n",
    "\n",
    "from bluer_objects import objects\n",
    "from bluer_objects.host import signature\n",
    "from bluer_objects.testing import create_test_asset\n",
    "from bluer_objects.storage import S3Interface\n",
    "from bluer_objects import file\n",
    "from bluer_objects.logger import logger\n",
    "\n",
    "logger.info(f\"{'.'.join(signature())},\\nbuilt on {string.pretty_date()}\")"
   ]
  },
  {
   "cell_type": "code",
   "execution_count": 2,
   "metadata": {},
   "outputs": [],
   "source": [
    "storage = S3Interface()"
   ]
  },
  {
   "cell_type": "code",
   "execution_count": 3,
   "metadata": {},
   "outputs": [],
   "source": [
    "# filename = \"test-00.png\"\n",
    "\n",
    "# filename = \"this.yaml\"\n",
    "\n",
    "filename = \"subfolder/this.yaml\""
   ]
  },
  {
   "cell_type": "code",
   "execution_count": 4,
   "metadata": {},
   "outputs": [
    {
     "name": "stderr",
     "output_type": "stream",
     "text": [
      "🌀  📂 test-s3-2025-05-29-16-45-56-2gj7mh\n"
     ]
    }
   ],
   "source": [
    "object_name = objects.unique_object(\"test-s3\")\n",
    "\n",
    "local_path=objects.path_of(\n",
    "        object_name=object_name,\n",
    "        filename=filename,\n",
    "    )"
   ]
  },
  {
   "cell_type": "code",
   "execution_count": 5,
   "metadata": {},
   "outputs": [
    {
     "name": "stderr",
     "output_type": "stream",
     "text": [
      "🌀  bluer_objects.testing.functions.create_test_asset: test-s3-2025-05-29-16-45-56-2gj7mh\n",
      "🌀  bluer_objects.file.save.save_image: 512x512x3:uint8 -> /Users/kamangir/storage/abcli/test-s3-2025-05-29-16-45-56-2gj7mh/test-00.png\n",
      "🌀  bluer_objects.file.save.save_image: 512x512x3:uint8 -> /Users/kamangir/storage/abcli/test-s3-2025-05-29-16-45-56-2gj7mh/test-01.png\n",
      "🌀  bluer_objects.file.save.save_image: 512x512x3:uint8 -> /Users/kamangir/storage/abcli/test-s3-2025-05-29-16-45-56-2gj7mh/test-02.png\n",
      "🌀  bluer_objects.file.save.save_image: 512x512x3:uint8 -> /Users/kamangir/storage/abcli/test-s3-2025-05-29-16-45-56-2gj7mh/test-03.png\n",
      "🌀  bluer_objects.file.save.save_image: 512x512x3:uint8 -> /Users/kamangir/storage/abcli/test-s3-2025-05-29-16-45-56-2gj7mh/test-04.png\n",
      "🌀  bluer_objects.file.save.save_image: 512x512x3:uint8 -> /Users/kamangir/storage/abcli/test-s3-2025-05-29-16-45-56-2gj7mh/test-05.png\n",
      "🌀  bluer_objects.file.save.save_image: 512x512x3:uint8 -> /Users/kamangir/storage/abcli/test-s3-2025-05-29-16-45-56-2gj7mh/test-06.png\n",
      "🌀  bluer_objects.file.save.save_image: 512x512x3:uint8 -> /Users/kamangir/storage/abcli/test-s3-2025-05-29-16-45-56-2gj7mh/test-07.png\n",
      "🌀  bluer_objects.file.save.save_image: 512x512x3:uint8 -> /Users/kamangir/storage/abcli/test-s3-2025-05-29-16-45-56-2gj7mh/test-08.png\n",
      "🌀  bluer_objects.file.save.save_image: 512x512x3:uint8 -> /Users/kamangir/storage/abcli/test-s3-2025-05-29-16-45-56-2gj7mh/test-09.png\n",
      "🌀  bluer_objects.file.save.save_yaml: 5v44io1qq0, 15itbyu7jz, 5c1ei8lccm, yszd6a2pv3, g0t5v6rd2p, va7l8ijb2v, 0dgqtxpysh, w4gze06zb2, 9i6spvn7ve, gdkznptvqr -> /Users/kamangir/storage/abcli/test-s3-2025-05-29-16-45-56-2gj7mh/this.yaml.\n",
      "🌀  bluer_objects.file.save.save_yaml: 5v44io1qq0, 15itbyu7jz, 5c1ei8lccm, yszd6a2pv3, g0t5v6rd2p, va7l8ijb2v, 0dgqtxpysh, w4gze06zb2, 9i6spvn7ve, gdkznptvqr -> /Users/kamangir/storage/abcli/test-s3-2025-05-29-16-45-56-2gj7mh/that.yaml.\n",
      "🌀  bluer_objects.file.save.save_yaml: 5v44io1qq0, 15itbyu7jz, 5c1ei8lccm, yszd6a2pv3, g0t5v6rd2p, va7l8ijb2v, 0dgqtxpysh, w4gze06zb2, 9i6spvn7ve, gdkznptvqr -> /Users/kamangir/storage/abcli/test-s3-2025-05-29-16-45-56-2gj7mh/subfolder/this.yaml.\n",
      "🌀  bluer_objects.file.save.save_yaml: 5v44io1qq0, 15itbyu7jz, 5c1ei8lccm, yszd6a2pv3, g0t5v6rd2p, va7l8ijb2v, 0dgqtxpysh, w4gze06zb2, 9i6spvn7ve, gdkznptvqr -> /Users/kamangir/storage/abcli/test-s3-2025-05-29-16-45-56-2gj7mh/subfolder/that.yaml.\n",
      "🌀  bluer_objects.file.save.save_yaml: 5v44io1qq0, 15itbyu7jz, 5c1ei8lccm, yszd6a2pv3, g0t5v6rd2p, va7l8ijb2v, 0dgqtxpysh, w4gze06zb2, 9i6spvn7ve, gdkznptvqr -> /Users/kamangir/storage/abcli/test-s3-2025-05-29-16-45-56-2gj7mh/test.yaml.\n"
     ]
    }
   ],
   "source": [
    "assert create_test_asset(object_name)"
   ]
  },
  {
   "attachments": {},
   "cell_type": "markdown",
   "metadata": {},
   "source": [
    "---"
   ]
  },
  {
   "cell_type": "markdown",
   "metadata": {},
   "source": [
    "# upload"
   ]
  },
  {
   "cell_type": "code",
   "execution_count": 6,
   "metadata": {},
   "outputs": [
    {
     "name": "stderr",
     "output_type": "stream",
     "text": [
      "🌀  S3Interface.upload test-s3-2025-05-29-16-45-56-2gj7mh/subfolder/this.yaml\n"
     ]
    }
   ],
   "source": [
    "assert storage.upload(\n",
    "    object_name=object_name,\n",
    "    filename=filename,\n",
    ")"
   ]
  },
  {
   "cell_type": "code",
   "execution_count": 7,
   "metadata": {},
   "outputs": [],
   "source": [
    "assert file.delete(local_path)"
   ]
  },
  {
   "cell_type": "markdown",
   "metadata": {},
   "source": [
    "# download"
   ]
  },
  {
   "cell_type": "code",
   "execution_count": 8,
   "metadata": {},
   "outputs": [
    {
     "name": "stderr",
     "output_type": "stream",
     "text": [
      "🌀  S3Interface.download test-s3-2025-05-29-16-45-56-2gj7mh/subfolder/this.yaml\n"
     ]
    }
   ],
   "source": [
    "assert storage.download(\n",
    "    object_name=object_name,\n",
    "    filename=filename,\n",
    ")"
   ]
  },
  {
   "cell_type": "code",
   "execution_count": 9,
   "metadata": {},
   "outputs": [
    {
     "name": "stdout",
     "output_type": "stream",
     "text": [
      "/Users/kamangir/storage/abcli/test-s3-2025-05-29-16-45-56-2gj7mh/subfolder/this.yaml\n"
     ]
    }
   ],
   "source": [
    "! ls {local_path}"
   ]
  },
  {
   "attachments": {},
   "cell_type": "markdown",
   "metadata": {},
   "source": [
    "---"
   ]
  },
  {
   "cell_type": "code",
   "execution_count": 10,
   "metadata": {},
   "outputs": [],
   "source": [
    "# END"
   ]
  }
 ],
 "metadata": {
  "kernelspec": {
   "display_name": "base",
   "language": "python",
   "name": "python3"
  },
  "language_info": {
   "codemirror_mode": {
    "name": "ipython",
    "version": 3
   },
   "file_extension": ".py",
   "mimetype": "text/x-python",
   "name": "python",
   "nbconvert_exporter": "python",
   "pygments_lexer": "ipython3",
   "version": "3.12.9"
  },
  "toc": {
   "base_numbering": 1,
   "nav_menu": {},
   "number_sections": true,
   "sideBar": true,
   "skip_h1_title": false,
   "title_cell": "Table of Contents",
   "title_sidebar": "Contents",
   "toc_cell": false,
   "toc_position": {},
   "toc_section_display": true,
   "toc_window_display": false
  }
 },
 "nbformat": 4,
 "nbformat_minor": 2
}
