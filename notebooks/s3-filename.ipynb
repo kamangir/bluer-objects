{
 "cells": [
  {
   "attachments": {},
   "cell_type": "markdown",
   "metadata": {},
   "source": [
    "# arvancloud: filename\n",
    "\n",
    "https://docs.arvancloud.ir/fa/developer-tools/sdk/object-storage/upload-object/"
   ]
  },
  {
   "cell_type": "code",
   "execution_count": 10,
   "metadata": {},
   "outputs": [
    {
     "name": "stderr",
     "output_type": "stream",
     "text": [
      "🌀  bluer_objects-6.148.1.bluer_ai-12.160.1.bluer_objects-6.148.1.bluer_options-5.127.1.torch-2.2.2.Python 3.12.9.Darwin 23.6.0..Jupyter-Notebook,\n",
      "built on 29 May 2025, 16:45:44\n"
     ]
    }
   ],
   "source": [
    "from bluer_options import string\n",
    "\n",
    "from bluer_objects import objects\n",
    "from bluer_objects.host import signature\n",
    "from bluer_objects.testing import create_test_asset\n",
    "from bluer_objects import file, env, path\n",
    "from bluer_objects.logger import logger\n",
    "\n",
    "logger.info(f\"{'.'.join(signature())},\\nbuilt on {string.pretty_date()}\")"
   ]
  },
  {
   "cell_type": "code",
   "execution_count": 11,
   "metadata": {},
   "outputs": [],
   "source": [
    "# filename = \"test-00.png\"\n",
    "\n",
    "# filename = \"this.yaml\"\n",
    "\n",
    "filename = \"subfolder/this.yaml\""
   ]
  },
  {
   "cell_type": "code",
   "execution_count": 12,
   "metadata": {},
   "outputs": [
    {
     "name": "stderr",
     "output_type": "stream",
     "text": [
      "🌀  📂 test-s3-2025-05-29-16-45-44-xz4eu6\n"
     ]
    }
   ],
   "source": [
    "object_name = objects.unique_object(\"test-s3\")\n",
    "\n",
    "local_path=objects.path_of(\n",
    "        object_name=object_name,\n",
    "        filename=filename,\n",
    "    )"
   ]
  },
  {
   "cell_type": "code",
   "execution_count": 13,
   "metadata": {},
   "outputs": [
    {
     "name": "stderr",
     "output_type": "stream",
     "text": [
      "🌀  bluer_objects.testing.functions.create_test_asset: test-s3-2025-05-29-16-45-44-xz4eu6\n",
      "🌀  bluer_objects.file.save.save_image: 512x512x3:uint8 -> /Users/kamangir/storage/abcli/test-s3-2025-05-29-16-45-44-xz4eu6/test-00.png\n",
      "🌀  bluer_objects.file.save.save_image: 512x512x3:uint8 -> /Users/kamangir/storage/abcli/test-s3-2025-05-29-16-45-44-xz4eu6/test-01.png\n",
      "🌀  bluer_objects.file.save.save_image: 512x512x3:uint8 -> /Users/kamangir/storage/abcli/test-s3-2025-05-29-16-45-44-xz4eu6/test-02.png\n",
      "🌀  bluer_objects.file.save.save_image: 512x512x3:uint8 -> /Users/kamangir/storage/abcli/test-s3-2025-05-29-16-45-44-xz4eu6/test-03.png\n",
      "🌀  bluer_objects.file.save.save_image: 512x512x3:uint8 -> /Users/kamangir/storage/abcli/test-s3-2025-05-29-16-45-44-xz4eu6/test-04.png\n",
      "🌀  bluer_objects.file.save.save_image: 512x512x3:uint8 -> /Users/kamangir/storage/abcli/test-s3-2025-05-29-16-45-44-xz4eu6/test-05.png\n",
      "🌀  bluer_objects.file.save.save_image: 512x512x3:uint8 -> /Users/kamangir/storage/abcli/test-s3-2025-05-29-16-45-44-xz4eu6/test-06.png\n",
      "🌀  bluer_objects.file.save.save_image: 512x512x3:uint8 -> /Users/kamangir/storage/abcli/test-s3-2025-05-29-16-45-44-xz4eu6/test-07.png\n",
      "🌀  bluer_objects.file.save.save_image: 512x512x3:uint8 -> /Users/kamangir/storage/abcli/test-s3-2025-05-29-16-45-44-xz4eu6/test-08.png\n",
      "🌀  bluer_objects.file.save.save_image: 512x512x3:uint8 -> /Users/kamangir/storage/abcli/test-s3-2025-05-29-16-45-44-xz4eu6/test-09.png\n",
      "🌀  bluer_objects.file.save.save_yaml: tucln6qwxz, jaigcuxhtw, dstfjss2pf, moj6frqtvx, qfsmkgffj1, dg4wjabbsr, pd4gq2tljd, 14vk6csql8, d1yr1mws3x, 9se75da84r -> /Users/kamangir/storage/abcli/test-s3-2025-05-29-16-45-44-xz4eu6/this.yaml.\n",
      "🌀  bluer_objects.file.save.save_yaml: tucln6qwxz, jaigcuxhtw, dstfjss2pf, moj6frqtvx, qfsmkgffj1, dg4wjabbsr, pd4gq2tljd, 14vk6csql8, d1yr1mws3x, 9se75da84r -> /Users/kamangir/storage/abcli/test-s3-2025-05-29-16-45-44-xz4eu6/that.yaml.\n",
      "🌀  bluer_objects.file.save.save_yaml: tucln6qwxz, jaigcuxhtw, dstfjss2pf, moj6frqtvx, qfsmkgffj1, dg4wjabbsr, pd4gq2tljd, 14vk6csql8, d1yr1mws3x, 9se75da84r -> /Users/kamangir/storage/abcli/test-s3-2025-05-29-16-45-44-xz4eu6/subfolder/this.yaml.\n",
      "🌀  bluer_objects.file.save.save_yaml: tucln6qwxz, jaigcuxhtw, dstfjss2pf, moj6frqtvx, qfsmkgffj1, dg4wjabbsr, pd4gq2tljd, 14vk6csql8, d1yr1mws3x, 9se75da84r -> /Users/kamangir/storage/abcli/test-s3-2025-05-29-16-45-44-xz4eu6/subfolder/that.yaml.\n",
      "🌀  bluer_objects.file.save.save_yaml: tucln6qwxz, jaigcuxhtw, dstfjss2pf, moj6frqtvx, qfsmkgffj1, dg4wjabbsr, pd4gq2tljd, 14vk6csql8, d1yr1mws3x, 9se75da84r -> /Users/kamangir/storage/abcli/test-s3-2025-05-29-16-45-44-xz4eu6/test.yaml.\n"
     ]
    }
   ],
   "source": [
    "assert create_test_asset(object_name)"
   ]
  },
  {
   "attachments": {},
   "cell_type": "markdown",
   "metadata": {},
   "source": [
    "---"
   ]
  },
  {
   "cell_type": "markdown",
   "metadata": {},
   "source": [
    "# upload"
   ]
  },
  {
   "cell_type": "code",
   "execution_count": 14,
   "metadata": {},
   "outputs": [],
   "source": [
    "import boto3\n",
    "import logging\n",
    "from botocore.exceptions import ClientError\n",
    "\n",
    "# Configure logging\n",
    "logging.basicConfig(level=logging.INFO)\n",
    "\n",
    "try:\n",
    "   s3_resource = boto3.resource(\n",
    "       's3',\n",
    "       endpoint_url=env.S3_STORAGE_ENDPOINT_URL,\n",
    "       aws_access_key_id=env.S3_STORAGE_AWS_ACCESS_KEY_ID,\n",
    "       aws_secret_access_key=env.S3_STORAGE_AWS_SECRET_ACCESS_KEY\n",
    "   )\n",
    "\n",
    "except Exception as exc:\n",
    "   logging.error(exc)\n",
    "else:\n",
    "   try:\n",
    "       bucket = s3_resource.Bucket(env.S3_STORAGE_BUCKET)\n",
    "       file_path = local_path\n",
    "       object_name_ = f\"{object_name}/{filename}\"\n",
    "\n",
    "       with open(file_path, \"rb\") as fp:\n",
    "           bucket.put_object(\n",
    "               ACL='private',\n",
    "               Body=fp,\n",
    "               Key=object_name_\n",
    "           )\n",
    "   except ClientError as e:\n",
    "       logging.error(e)\n"
   ]
  },
  {
   "cell_type": "code",
   "execution_count": 15,
   "metadata": {},
   "outputs": [],
   "source": [
    "assert file.delete(local_path)"
   ]
  },
  {
   "cell_type": "markdown",
   "metadata": {},
   "source": [
    "# download"
   ]
  },
  {
   "cell_type": "code",
   "execution_count": 16,
   "metadata": {},
   "outputs": [],
   "source": [
    "import boto3\n",
    "import logging\n",
    "from botocore.exceptions import ClientError\n",
    "\n",
    "logging.basicConfig(level=logging.INFO)\n",
    "\n",
    "assert path.create(file.path(local_path))\n",
    "\n",
    "try:\n",
    "   s3_resource = boto3.resource(\n",
    "       's3',\n",
    "       endpoint_url=env.S3_STORAGE_ENDPOINT_URL,\n",
    "       aws_access_key_id=env.S3_STORAGE_AWS_ACCESS_KEY_ID,\n",
    "       aws_secret_access_key=env.S3_STORAGE_AWS_SECRET_ACCESS_KEY\n",
    "   )\n",
    "except Exception as exc:\n",
    "   logging.error(exc)\n",
    "else:\n",
    "   try:\n",
    "       # bucket\n",
    "       bucket = s3_resource.Bucket(env.S3_STORAGE_BUCKET)\n",
    "\n",
    "       object_name_ = f\"{object_name}/{filename}\"\n",
    "       download_path = local_path\n",
    "\n",
    "       bucket.download_file(\n",
    "           object_name_,\n",
    "           download_path\n",
    "       )\n",
    "   except ClientError as e:\n",
    "       logging.error(e)\n"
   ]
  },
  {
   "cell_type": "code",
   "execution_count": 17,
   "metadata": {},
   "outputs": [
    {
     "name": "stdout",
     "output_type": "stream",
     "text": [
      "/Users/kamangir/storage/abcli/test-s3-2025-05-29-16-45-44-xz4eu6/subfolder/this.yaml\n"
     ]
    }
   ],
   "source": [
    "! ls {local_path}"
   ]
  },
  {
   "attachments": {},
   "cell_type": "markdown",
   "metadata": {},
   "source": [
    "---"
   ]
  },
  {
   "cell_type": "code",
   "execution_count": 18,
   "metadata": {},
   "outputs": [],
   "source": [
    "# END"
   ]
  }
 ],
 "metadata": {
  "kernelspec": {
   "display_name": "base",
   "language": "python",
   "name": "python3"
  },
  "language_info": {
   "codemirror_mode": {
    "name": "ipython",
    "version": 3
   },
   "file_extension": ".py",
   "mimetype": "text/x-python",
   "name": "python",
   "nbconvert_exporter": "python",
   "pygments_lexer": "ipython3",
   "version": "3.12.9"
  },
  "toc": {
   "base_numbering": 1,
   "nav_menu": {},
   "number_sections": true,
   "sideBar": true,
   "skip_h1_title": false,
   "title_cell": "Table of Contents",
   "title_sidebar": "Contents",
   "toc_cell": false,
   "toc_position": {},
   "toc_section_display": true,
   "toc_window_display": false
  }
 },
 "nbformat": 4,
 "nbformat_minor": 2
}
