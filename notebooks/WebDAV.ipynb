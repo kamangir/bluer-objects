{
 "cells": [
  {
   "attachments": {},
   "cell_type": "markdown",
   "metadata": {},
   "source": [
    "# WebDAV\n",
    "\n",
    "https://pypi.org/project/webdavclient3/"
   ]
  },
  {
   "cell_type": "code",
   "execution_count": 1,
   "metadata": {},
   "outputs": [
    {
     "name": "stderr",
     "output_type": "stream",
     "text": [
      "🌀  bluer_objects-6.29.1.bluer_ai-12.20.1.bluer_objects-6.29.1.bluer_options-5.28.1.torch-2.2.2.Python 3.12.9.Darwin 23.6.0..Jupyter-Notebook,\n",
      "built on 31 March 2025, 19:55:56\n"
     ]
    }
   ],
   "source": [
    "from bluer_options import string\n",
    "\n",
    "from bluer_objects import objects\n",
    "from bluer_objects.host import signature\n",
    "from bluer_objects import file, storage\n",
    "from bluer_objects.logger import logger\n",
    "\n",
    "logger.info(f\"{'.'.join(signature())},\\nbuilt on {string.pretty_date()}\")"
   ]
  },
  {
   "cell_type": "code",
   "execution_count": 2,
   "metadata": {},
   "outputs": [
    {
     "name": "stderr",
     "output_type": "stream",
     "text": [
      "🌀  📂 WebDAVzip-2025-03-31-19-55-56-w8sxt8\n",
      "🌀  bluer_objects.file.save.save_yaml: pxw0vjfovmg0lft4up4ax74oouwuj0z6ma9xx4iustld532d4964tm1qujqweh641bwuew3eb90zgbmghb8q0aqopvhd8n4hdr2k, ithda7847fq9dl0p2gw8dvcwwnxnkx7r2f4ho8qwm3h84mrwmjpphjteu9qkfp4bj68qjzof5cgo5p5rbb16i9srs1oivr79616g, 0m255xi6lwb9pnu3v0do0tk0wemgj0d7ka3hzrrrwl79hl5y4r6ayjdy24u62l1m4p2iuh5rug8zko3qikxkgkmcixyrgkwmjhiw, bufnzv7cpvwk7jq53375xggl3lhj6y1g768z32gg2x7b315tfa0ago44xylo6rv7x75qqgf1crc2hqz5ax7vbmws3fjmbseot1pu, yjar5anry0cm04fayiv55kwusabe6el50hofb5dk6k5s425dljfd70x11qa1ox08pzo7lagadurgz68rzlbdytc0eara1tdjk1av, fch21w2aindlqzbkfe9ica9iy84mhbzmc6abp2g7bruojretg73x1i7p9olau2kkcpsg0rthc5wsk2jkwsqrwy6rt5pgtctr6fa4, gm1n7z6etickonr8oowodijl04qv1x8tph45zyfa1h4tck45rzpcoluxtvpukhemno45yzzbpfzpfcsr0epwzvj0blgrc2sa49ag, jzr03zvrrwb45apb9hpslfv6ok11f110bftahn54r3cnt947soeuxfwbksudebesq77y0myvu5qdmbahmrgbxo0px1la91cr4peo, 5nw07k5obcp06p40hg3p6jq528eoa2fopmsckk2joistmqrd9gy1mvxnps6fuklkxnh2vpjcd7zxskrcu20ylnpwjr6dz3fgjjus, 0qpbq7xb5mpaki8adm73y8iuduyj412zm2ib8l10ilh1vv6m1ytc8ey7lc4v1yxcb2rgwv4fnzpbkakxeiulszr5f46afv2ddgz4, shxie3sd1blgyp4sxwbmmusmwqwaytgttd5ua0v5skr0kw2n9uy3uv9klnw7su9jmci5pevgb5r61u2mqo002bbrmxfwwmhs8982, f3x3suki9cgor0dejlq4f6h7rri8a0l5d010rst5on7f7j32wkg7fv5n756ldh5c09f80wukegpei2k96c1y7nkwturtqu0q0e8m, d42u6kop786pcpq9xm3qvntk8lbvoadl8v2tnyb02l3srunnt8y12pkp30i5nk41rfx2ig2liupi1ejmhakbv7g3hdvfox7h2gyg, 8e1mnzz4p3vm4nw045ssn5s2qq9x7h3n3yforjkj2yw5rvh2aqb77q5rztg4qfyl83vsu2slh0xtdue7kx46nplrlahj7qa0pf7u, 50vgrctsqwp49qfqy2miw0g2pmf4jwtsbm1rlcgde4sjewfj4ppj85rlme1av7wzyfjv3kcztnbmuwx00i8fxjhjcdud84vb4b0z, l6kbwirldid2layb7a6jkkyj81uwfrazek06w5mamno3wgyip47dsdrsvonpl4a94xpjf4h9g5uv8n19fat4ku0qlhrtprrib1h6, l6u2g4yxatm5r3ubty1b01x031s01lyjug1kktw20jj34rvpyv58hdhpk52y5ifzb3n95efx019d2hc1x7l3oz9n9lxifhu8hres, vhgglrpmczoqjlx7peohxgviz3s0cxur076tcyl1baxyvwrjkt9dfc8veoidglbrqahq1azmzpxdxox0sacex5n6ni8xlsbf3nmc, i00al7m012wcd4l8y4b7x37tx3hcgugzskv45y8ypzluv2abyjeov9db0e46ijs88x89yiaqmzzgn3x53twrhd34veebnnol77oe, 6eac6zl681hxab24iezinesbzb93nit6atz2lwdhoe2pobyyjj9j6fwgfmnauhll3ebkyz3u7pfgvncj9ic2i0je9rakm6fwpefm, 9on88221eo9bivw98h3l95le0y35j4v6wnv9givcdzadakhxefai33t8wjdnahztpwxsk5mr7fr61xdpkxqmk7z2bw3uq97ejxi0, 99tt6j8gbqdygl1p6asz9lenk7vcjleztauijym5w4ee3wqza131kjj0qcd2ea98yvoz8xtwncbbom2esnxhu24u0v7xt8oheb83, 8zwkz64u0tfbf4lpd8qfh7wydhb7wuqvpgq3juufq5qwx1navrtbnplwhpl3f17e07k8vz721wj2s94s4n392fd4z6wbyex3is9e, ghctv5eo96s6b4j5mpuwapxlf1cy2fwc48emrf6tfc7u44d0g60p7g9aoes2cqtaz5cdpsy0q0rhjo6x172pyshlqvjb3cerc763, a2tltu80qscnjkgajjyihg908j1kijw01xqv52w6ww2zrnaz4in947r4pwwwq6pi79cev1n7m74viy53t54bf8c7e8xevb7bta4r, x2oik6h3icabmsosbzbl02neeqx9jfpc2bj3pfv9cjh4167j49q2el4syta62xri4icj24euqim5vuz2kwlg8zkw6070y29k5bzx, 81szwmljio083ixn48tpbz33cy7bq9ovijznx97hu7z8dmqmcgftgtgwyttc17yssvm9yv0rzmd6b51105b432whiufwcix93dr9, 3deilplfoxo7wqvd2o185tzt1ie9q6z128wio1ab3lgc61qx6xhkgmacavjecghq9fv5afrsolywi4m4tlh2e9iepn736fn3wkh6, 1i5mzw71n37lvwqguv3ydydj1pxz6h9tz2wt7glye16ekhhna2yj27ni999h7wfo93qzxz78ku2sicyv5xrpoitpevxmgo4oni15, 801i2nori21rd4z53gjc2q0a7sdm17lb9x2a5sz9m0kzdvjcdmnei31r7snyzh22y8pea826qbc1nc2xeqzibrsbewfo0jmz6a0e, e6cbn83v9gkenjz7135p2ob4i9oj5spz3jkp1j8m6no97j7mfk69lfcw80mie0o4xdw3gth705w14oni2fb40922u56jo91jy2er, 3d1nwir2m0oq0sy5vjumwda4clyx3zcwygblpwo9xzg8k7yegego5n6dldcbi55m624gnr9mev1riu8vy5c6j81rczyy6xp3kr6v, 5itb0morisy6d4kcjbuqlog4e9ihag2rqbm1a5wtrtbz2p8cqr4ry5n8qnkkc2nevlj8vdrz8u7vdaz8p8x24m1x9q6n0gun49e4, 2mw78yn7k59x63tnwrt92ka8nct3fdogs8y3r86g28bgpeub3oke4on5fhz3t07u6dtjg73v2v2lz287ekekif5w5lesozb61bxs, 4ih38qhamhgivrl1omc2txm4x3j1jjx8ajl92k8ei7ri416bu2p39py07jygb0xhflb07j6eebc9ukke2czbvz5h7a0zmn9rgxbj, dum3u81tj4ktg9w3dnuouq363hi1fkwguakgg6edbvi901mc14mecncs96y9re4vpraksmmh31ryf17292w4qsk91klnkze0dco7, s8vpzjzmix5zv8e7ikd65xozjrntw6mslbx4klrnzl70hy9u0u6f7822g3wblo8ee7lavkngt9b2t91ld319nmnhrqz03n2l2nja, oce9pb9a3um8chgzffuquoof445uh57rwi7bvgj3u6b0kkfe03od2rbvnpjm561hen96cacl2c16mxvdyn15wr4i11fcowpc916z, t6q3j3hcylk6bto8z45pbvf52r88220cz9jv5155yzd2gpp4xjefekoduvazpx4wgyjkqw8lbypgc8aii2a1r78oxb1kprz2hqx6, jcxhtz4qa4aimsran00vtula15rdzy8mv1vi98muk57ku7fqe3hn1awza093dmtxtgm09ldhspx3mrzvsq2o0ni7wap38hx5wf95, yra24oou054aalgymf3j1klr9hwri1f9ilhulos377ur76n8sl4kdmer802wk70j3yn4o5m0uur1xjb0t0jt7ehzl3tzo202rjvk, l0f2a8t4g45dmsl7zb9gd1yecvmeu7xc303d2wtvnwdint2wlac1ye9p9cb92n4c5yzxuskzdu43uoytphgq3slya3re3y3g5z47, shrudrouvlpllsphk7yv8czvpplqvbhvp1pwvjagadyl2c6dctuyojnpzv7ydrewwk7lx07nu23rlt8yj9ztiede9if93ir200e9, mnysmbrxpea84jsiktvmlqp1v2d53r37z1vio5acm7s7g6ufuaf8bypsddcnc87asuj89mg8531megwxkhl6yldi99w4ugvbjvd2, 5jugp5cv5xz77uazw9ksckbe5xwjhlps3unk3sqdxouu9b975kj1x1ygyl18tjbisk8vx834ap11eftnmc5f8lze0sv2zjjufb6j, 7sedx61zrlz4gflqj2vo6p299civzcdh8wg33o8qzpf7up7x88wdfy0xrjituaf989p3sbheqxy6ok7x8pfsz2084xk2mv62brz4, na6s5m7fxbynz8zzaoxrgdo1rylj5ri6kh8qdpnfyrkj2n10cun7yyjt5cv2c4njpifsid8o2oco5vwfv9finmixjaw0sr1hyxxm, q2q0cnt1915j6hqr4haa0elual2a2kp7btxt5g5ztbuqywyj3798mtx88flup92xykxr4s2acrbfmhdgqvo1zjshebq8yyvq6f7p, 92cn50bmwpswdi2sqs2m08c44cv8y4e9ojvbqse10l3vs5f1h8dbpi215r6l423s0yf2v1s8av0di1m5x0iatgs67bj9pc9a05r8, qnhk587794i77pn03qzxzwd35sfonigcsuhogfsevt76p7mzq1d1ekf7p6t4tkdi0mmffv7wtobjq1j53fa680woc3yl95dj7fsc, zpst3ypq81t8vnt0ygied8cusntbr6czw4tqmyf1qnlq7mzive8aehd2vt7bzjow72fl8l2o5q62sy2tir3xc0advbuoj29sdztk, rz15xlj7kqgueuh1rflv1ncs8bmanp9599ars7lr1jkp2v6ellzybcg63w6v6ifd9dm6410zpdtjh2guiqqvcalyezuuai9s3oog, xczj9sv4g9ipvfdyy7kbq6je16nstalqo52d2gd1lx3fq9ivs0i4a3hb32kotz378lgtgv7k5s58ms62dy731e4iksyhalttgc0u, ko3qqsjilrlt8m1hhhpg5r72kpqci5b3n4ckyy3d15bayonu0kprjeqssrus7k7rrqu6zdxf6ufa74jtovn2e9j5n5htc680h2xq, h015q0x5u72qygi1glnicue309hyyx3cnmpt7g11k0lgdpjz8mqpbar56ppqcxuqap0v5rfwkkmy8uv9o44up0z6736tjru1jc7i, z47t0d7ifn7dafavn7e170xdx0big2raf6bgs62a52dc7410tgw18l6hr1hpxegupc66jrzzt5q9k517nx0loanchvuok8tc69dj, umhsujwfcoruyj4whvr8eqdd6rv2kqx13u2oo1blb3krdc9jgwg12hn26mrx2a2s9pirv46bdirhri5m3y1hfmm7qe5z3vfd1tae, dlntldk9ipsqraw8v1wyj2fvamr77eg2jpkm7b3p3beg1iplw7vayg7qk8lizgh4lfnvllc79ll3povubufb1m5hz1a785wccoyn, dbdzcxcjw58iny2hfi0bg0oy6tq3gk1g9atbs048bjgi7gf6jxbbaqzuv6ic25kkjhqa86ybomjnn812eij89t8hk84tbhm5a8mr, uw5l9y37wfxbsvwhmxav3ce672rqm41sncznqnzhf86detryu7wa5666voj3iyj2127rr6183ydi3jg4ogummg8e64rfjuzr21cu, ly7t9fbzq7hp0jnalm6jx3xnkllrdkde7v28pujum3ri78tawkrunhx799x866k4ysm4zvcsb5bo1xyta7okesnj06ws65baf85n, l1n74vxec2ndgdvmx60cfpsnenbczkmeqrnn0md4if89tlb7zitny7gu718lf1zyub3vjrrg7ymly1wm4seky1mmfh2e3qwc75l9, w0gdp6kmd6sjd3di6f461gzx59e89hv6a0d6x9pmmb4u3sgb8elppkr165d9c2a8yx7zkpnu6qeoukeqpdae7y20h3yy6f0b1t53, ilds7j0l0azwnyg1deqo4d75zt0f54sdojmndktfy5tifx5pecmpyae7g2yq6cwvsbjdlcn9ngmny7adbthwjrqctoftickv333a, t3dvxwal4jnyd3jx1wz8tzsaray839xqwegp739aaa7dm6s6s52qwjt5hi05u1hsefr6r2t4vz9bziekb46tb0c9p49msopr2c34, 7u7atkukjpt5h4go1r22ax69om7j02elk9kt8wi9ho4wa3pqjyi8o9ulk67sj4eda2zmtyy2vk4pavfm2gwxxbjn03bwql4175us, e8wcm7oc178d0x0nrhz3rt6xsj0tpjtf2zhlqbc8uehqenewun19c9mk0rfd1w634yojx7pch4o1sm49w7t3y8tfnuzwejom73v2, uazoaij0v64tnsjgo2dnnh3meohufcb9s5te5m2yy6tdwhwqge2x5dpeyspfy89dq3c2d0f3eth2hfisjuitbi5u8zfsut9lj0dz, zi6os28t4d16xpps8v2gcz1iv5oamt8cri5h7cx4gcxf5cryrbb78y8hh6t6z3tpmok5iqgu26vyrbryet3345da26a6hkp0oc8j, vr9fu0j81cvyvercanx92tnfkfl1ktwnmnz4nj5q8rwe3535nwdntp3z4zynim1ebev4du8tek91t138wwi87659pp639gzmtotv, vav7soypptdoxo46l1imllqyufzi7avkzpsb1zqo6qocjjbtzbnleypl9yjl51s1vt8oor28whoopae4mxwv1npcx875y1pz2gnp, 0bmmx79i71u9m6qopdilwhm9cstoz0lzb4zr1huu8tgqh0vf35v09cnzhsti667g1xogealgftxkrhz4q1udt1y1a8hu1sh62aey, vocir30l857zy32ft9qg0xjwj3upy68o3kdhfdgaurbga11p6f9egsodvfbt1m2dzfxenv7a705a76tzxmf06f2626rftu22b4h6, 32e1djquv0vc1l7rmdhhumbifwhhf9hf23aph4u14iufimted9p0xpq4orx8gl4yjgvobdnrnj104vv2x6hr91ngduydk8odqmlc, 4iki4zk4pn3555atz80bza9lmeajbv8psncmgf6glfj512hmlitfrz5oid2tsptdc23ffh18dxtbqiqxrn5gcvm11gohubl56zlu, umo9y11w0w2j7mbqr6opmj03qzxw6q3hegzk87lf0e7thbhxrvnnhmkg0xmneblbq2w6w3y4cqr8dqav2fm2e8g1gu6tysl80jfa, 5fc39b1dyjdjobxdpofvxzwhr62mksijzlbpehnsqewg1fj0mnmzbd7k04xwy12n1ubugm7cpo6vs6m12rwfqahf1eqxhq83omr9, d064amq2ksdrnau1h0q8d5yls444ygq2fu7aom401cx3t3e1zv29zcgk7h2e43f7bn2rog1e5t0v27q2a5j61koa7klmrv1kl9ij, 115b514wd301mb2bgl5779t9w4886mgmeho541ctjgwsd9b0dkwfkujgky3rai5su78z8kd6kzp5sx46lxx6j5qy5keamxalez0e, 1s00mmnpu0xuc04w6bvfo1c1bghpjjffikohxzm6hbubkuk8jpxluf5f2auxg8go455qyyn2fordh893w8sgadcqiixgqn0fmkza, wub26tifohb5zibr8h7f268jooqcb4lk81yjaimowik6tl1k9uafd3yq9emvombtpbgjxk7aeduu473v9ovommylfbfifdrihomg, j2fzulz30ycavr6z9wmnhjxhb1infzqyerx7zy34o7947boar79l8aceqdm8i0i0q0wcst7yg1yrhmntoap8ap94c2oikymucxlz, 6kjb0232wag1pdvr3bpohphj4izk9eg052qylb803xia8k3v45toeha0sy1ydgsh2j74axxnkqynt1gxmxvrz53sfcxu1819huan, ggdvtqc0o7aqjdslh0gdonenufduxlz3nq1wn4d9gz547nviar8snch9cy1l0oa6d3tdll1thans4ap3mexpw54mhyv6w1n5st1l, xndgrby6prwkxqcwt7hhedz2s433gzu9xehcjacmif6i0gfmwk8qyxbx4eoo86302d0skkl6lfa80tjxihhv0fwq4p2kc0j18mwh, fqsdkml9h4eubm4dwef83xcwukgdfaa7f7bka0c9pfypo04km69my74fpw8ua4ysr78wlbon5s9mqaxfrse6sv6ul6m1b052i8rx, jlukk6kcl33wrnkyjur5ryp5o0flsvlqh19jrzbrj45h044hgotkbtj7eb7b8wxpbj8g4qaq92zbsvis3b7otcjyb20lnga7zrb5, 9pmirn8pjgvf2pzdxt4grpwdgi4poelii9snmip9q9gzuq9wqy430rwrsnpofmvpvddryhyxi8cdfx5tpe4f0s75yys5ck1nb665, 6651dvjkia59m578nhizjibbntih7m61hwmlnwozncdis79gidof5uck7nhv0nt6ywhj5ae8cd72bxcujoeq0exfudyupk3uyypl, vvblr8cpp1kcut2tnf9jph2qlrz36bx8szu55xxxtt8nxihym0xbx3i1ewbt9fjjbvnkfzjm7ob5c07jlw79bc60jtdmp33dudjf, wtcv1la6fdic548mwbqgm7wocwerp6cm0nma6gimz832fdx6osv16ms0od54vqjvwzjflztxqnjlluobdd2xa1fzssvuuychk4yw, 3tu8e3vrozotulru29eh8gs57ekhq67m5kf2hfo0w9rjm89f6uxt8kmjpen0mvi8r1zp55lxbhi1wp23f55gvw67o1kjruebuhtw, 03yu7mhrgotw38z0f6k1g4tlsdymgzx7y0dhf9qy0tsb863217bg4qb82sjo0yp0iw69mmn80xntf61ph4hb3db43n3lrytp47h6, t9m7yne9fapyeznjl12mcgn84cxl5thc114u8cmi366uvm55vcapqvidu4ck5a4nk97vdftlrr56e95y7149n4i90nx6cx9uzm4y, 8gkongy9k6otsu454hubtoo28sjibfgv0mi2kbykn5ap6yjl5mkqo8gcqht0pfi9904vd9utn5ol1rot1q2fahu5efqbq165i65l, s0n05qqvd0hgswr33sf0c52i6nwqx0aoy0jgmu58iczv91f4v1z2jnf2jom3ujmw358805f3fbyvnqoo4u6ecsfm7msmkujcamih, 0umvuwq0h0sxca2s5crz7mqa55r3baxm1jx2m9n52d3pesks8mc4q8k6ezj7fsj3ktznpatiujfekj1g8h1e63naha8l3yl5iacx, 3vrn6s9iyvsaxq0jdjs6dsxglyzj2ixzfzllknd03agwwkympzepocjl6rsxxbao1oukalyyqjw05khel0beof591aacp0uksybm, 1ujegbb4ckvx56zlqg2oqqcllv009c9hy6yuxeszdfr1n9s0g2zvi4fdgfa3eki3xnm9b3cape2qpfzejlne5tu46fbd69usyaye, h1cpq59pb2ueiw7d8mdptgecxm1guu95702mswgiz026xs0uiautq6fr5z003pouyqowcqkh76qzny6f136oyqveh9hyredbvfy5 -> /Users/kamangir/storage/abcli/WebDAVzip-2025-03-31-19-55-56-w8sxt8/test.txt.\n"
     ]
    }
   ],
   "source": [
    "filename = \"test.txt\"\n",
    "depth = 100\n",
    "\n",
    "object_name = objects.unique_object(\"WebDAVzip\")\n",
    "\n",
    "assert file.save_yaml(\n",
    "        objects.path_of(\n",
    "            object_name=object_name,\n",
    "            filename=filename,\n",
    "            ),\n",
    "        {\n",
    "            string.random(length=depth): string.random(length=depth)\n",
    "            for _ in range(depth)\n",
    "        },\n",
    "    )"
   ]
  },
  {
   "attachments": {},
   "cell_type": "markdown",
   "metadata": {},
   "source": [
    "---"
   ]
  },
  {
   "cell_type": "code",
   "execution_count": 3,
   "metadata": {},
   "outputs": [
    {
     "name": "stderr",
     "output_type": "stream",
     "text": [
      "🌀  bluer_objects.host.functions.shell(zip -r \"../WebDAVzip-2025-03-31-19-55-56-w8sxt8.zip\" \".\")\n"
     ]
    },
    {
     "name": "stdout",
     "output_type": "stream",
     "text": [
      "  adding: test.txt (deflated 33%)\n"
     ]
    },
    {
     "name": "stderr",
     "output_type": "stream",
     "text": [
      "🌀  WebDAVzipInterface.upload WebDAVzip-2025-03-31-19-55-56-w8sxt8\n"
     ]
    }
   ],
   "source": [
    "assert storage.upload(\n",
    "    object_name=object_name,\n",
    "    filename=filename,\n",
    ")"
   ]
  },
  {
   "cell_type": "code",
   "execution_count": 4,
   "metadata": {},
   "outputs": [
    {
     "name": "stderr",
     "output_type": "stream",
     "text": [
      "🌀  bluer_objects.host.functions.shell(unzip -o \"/Users/kamangir/storage/abcli/WebDAVzip-2025-03-31-19-55-56-w8sxt8.zip\" -d \"/Users/kamangir/storage/abcli/WebDAVzip-2025-03-31-19-55-56-w8sxt8\")\n",
      "🌀  WebDAVzipInterface.download WebDAVzip-2025-03-31-19-55-56-w8sxt8\n"
     ]
    },
    {
     "name": "stdout",
     "output_type": "stream",
     "text": [
      "Archive:  /Users/kamangir/storage/abcli/WebDAVzip-2025-03-31-19-55-56-w8sxt8.zip\n",
      "  inflating: /Users/kamangir/storage/abcli/WebDAVzip-2025-03-31-19-55-56-w8sxt8/test.txt  \n"
     ]
    }
   ],
   "source": [
    "assert storage.download(\n",
    "    object_name=object_name,\n",
    "    filename=filename,\n",
    ")"
   ]
  },
  {
   "attachments": {},
   "cell_type": "markdown",
   "metadata": {},
   "source": [
    "---"
   ]
  },
  {
   "cell_type": "code",
   "execution_count": 5,
   "metadata": {},
   "outputs": [],
   "source": [
    "# END"
   ]
  }
 ],
 "metadata": {
  "kernelspec": {
   "display_name": "base",
   "language": "python",
   "name": "python3"
  },
  "language_info": {
   "codemirror_mode": {
    "name": "ipython",
    "version": 3
   },
   "file_extension": ".py",
   "mimetype": "text/x-python",
   "name": "python",
   "nbconvert_exporter": "python",
   "pygments_lexer": "ipython3",
   "version": "3.12.9"
  },
  "toc": {
   "base_numbering": 1,
   "nav_menu": {},
   "number_sections": true,
   "sideBar": true,
   "skip_h1_title": false,
   "title_cell": "Table of Contents",
   "title_sidebar": "Contents",
   "toc_cell": false,
   "toc_position": {},
   "toc_section_display": true,
   "toc_window_display": false
  }
 },
 "nbformat": 4,
 "nbformat_minor": 2
}
