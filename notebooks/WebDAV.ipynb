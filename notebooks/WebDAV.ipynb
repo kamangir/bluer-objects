{
 "cells": [
  {
   "attachments": {},
   "cell_type": "markdown",
   "metadata": {},
   "source": [
    "# WebDAV\n",
    "\n",
    "https://pypi.org/project/webdavclient3/"
   ]
  },
  {
   "cell_type": "code",
   "execution_count": 1,
   "metadata": {},
   "outputs": [
    {
     "name": "stderr",
     "output_type": "stream",
     "text": [
      "🌀  bluer_objects-6.25.1.bluer_ai-12.18.1.bluer_objects-6.25.1.bluer_options-5.25.1.torch-2.2.2.Python 3.12.9.Darwin 23.6.0..Jupyter-Notebook,\n",
      "built on 31 March 2025, 17:57:10\n"
     ]
    }
   ],
   "source": [
    "from bluer_options import string\n",
    "\n",
    "from bluer_objects import objects\n",
    "from bluer_objects.host import signature\n",
    "from bluer_objects import file, storage\n",
    "from bluer_objects.logger import logger\n",
    "\n",
    "logger.info(f\"{'.'.join(signature())},\\nbuilt on {string.pretty_date()}\")"
   ]
  },
  {
   "cell_type": "code",
   "execution_count": 2,
   "metadata": {},
   "outputs": [
    {
     "name": "stderr",
     "output_type": "stream",
     "text": [
      "🌀  📂 WebDAVzip-2025-03-31-17-57-10-qitlbh\n",
      "🌀  bluer_objects.file.save.save_yaml: wdsvhokjz9kibhsjwdkh85htr8yspbbgcp36fgj97paob1qkzhat21s8pfyjw9p9nj97u7clbf67q0irkghzme0wy99kj96clzht, 4fa39qvg2iuv5dnufkgbjb1iz7q6cch8jsgkvjzg0np84kzuy9olbzbh8nl1hyov4s8bc3unarjmk2uvbskrryxik419vv3d9s46, 0wi0oxuj72guwoz040sysbbenedtw5z9jld53m4igxsk9pe29q52dh6h1otfu0hmcpb4ozihdgu2g1pgicgeuvrx5x7hv162xw2p, 0vit4azj7ybaqocjfb7v5w6nf6pfkpz1em322a5udf7ktuojn1kwy6beea1sph0jc4ki5yetfw3szhpp8kclgerf6wxyb80zc886, b0rv77lcfwha61y9bzv93t7sxltqdcq54p0kd4as92x04kacchgd03w45r43az5e0vwz0o973d145ew8762tf4ocoidc3pm9ykl6, npsrnp1fcnffxiyp7e1d24kdr2dwoez3vi2kv1idi9zt2bglrmr4s1nk5aoowg7noapfyijzwkyq5ca1v7f5fcetarqf2dp95f5i, whmx0fn8pj6y2mv6i5ung4swkloqqqkt54fsf1s9ssntcm7t53gjep35hp698dtzeqwy74zl3awo67w5lwvc2ug4ds4nmyumwzvm, 79s23ns0wqn3ypj7gd0l7mrjukbdur9ow24tbyys66tg0a1vl9e2u47a093dcuo69ukblrl8078qx4jjm7xiz5qbaaffrz3lqy4p, f4nn5f01s17kwvgt64qf62c4r51z7ws1jg7ajtzdxu0dt1evpa3e44f0v992l57lkvkn16orj6mzcxrubrf7i8f3oiww8vby665j, dofo37mc9ln1ot9bd6sjfhlvzn3290y8t849deup6kawk7pk6emfc2gnaixdjeykzj9lqu4tp7ixmo5sn00wqooh5k8lbmjfy3c6, yvyae7oe9aqti4vt2pje5z1urnhej4wkra9wrawp3k8788ims59rhp9svfz1s5iot35koya7qwgi15ko91vtgrew079lrjtbqbbk, up9msgn8x66kkkitex751l5f2ja8xa3xcdzeuyu3jv86yv98wb8v1p78vqnw4u328gbmv53uh8miuq95ai4pfo7o0hal8664th3r, 4u50dm7ikcgjdq9vfmfwp9u2ng100n1682j2o6pbpwoas5hi78j89v82dkj7940t16lwp6gu0f9yfkicaea1x12awla3u6b0enyh, vwffmak7qhp1nfqx5cvlz8rinwytmeq7x8wj8jkt5tl78xrdgituq11jh3lvw7w6b8x5rmvjwbvvdiwdyf0bvux3y9h783np1z98, xedc35ef61byd68kwrxjyfwznmadskcfqm3bxvjtn4k8xstwen5v9cl1hv77jsiy38jd9q8of7fm8zgxja1tgypgjar6qnpzpb0q, kni93zm2qyauqowqk5f1345qzlu65ngefyt48ndfbnwdy0qodlfjzsmrkluvrz5wruotlbsdg7nrx5qrtwkla4404e71a3xalyj8, ua45wx4hg9lu9wbx0vrke9lnsqh4y34ydyr689m08ia3i8ce9q5ztfa2r0da9wu7d6bq96flgryi2atuefclwkezl4gg23uwhrlf, v7sxe1jpo3fnl1easr1oubfqriptmhzfqarv9ctwpd2htj4960fhho9ca0r5jdqtmob39u2o8sq1xef7jnkpdz0b9rx4odsxleog, 0zkjaj99l30klt4g4atrqfjp0vqfhsm6cz17k5qgzavp6gp7y9n2u4a265hj193tt9yhymx1w5qor8kni3qgnisae43o6zma19d7, 6yjwqxtb2gdukbqavs70wdzjwc5gwzww2ygdq8exx1j1ra6ztj2918cdtcfp2n02s78b8wvf1sks70dj4l82smnfbsuoq7o8h0mx, 0ltpwqt95iagprurypso2tumpz3hfcmocd6a7b1j1fl6yya8iccuu7ecebubs8s94nx4j311bpjno555lfey9nhpeg80kbar9fyh, hikgzrerw31h2v6bj18xm60hqb2fhnqavkp1otqhbb89z3ngufibctpqqcjo0lifk1x05zfxaae6wv1amzfoot5yexrwmic2u6za, o0trn88fxdfxwys2htyx8h00hoxhqinqtvxict9o7io164joja2ef8y4zz3j2yxmuui97pjboi2tpjxs889fly9948cwcwbj6z2k, 5vg76ktxmacc3tuv0y7zweu12b5sq02e1qo2ofsuatgu37xgwb8usgp9wdb5hztlbz28pyhypvvmli7dp61zs31y7efn51yvdpjm, gosy8lxp7tbnijf0rfugid6fb8pjjjjmdezknu17sb1dt8kedpymwavglyxifcdp561ld5f9nvyq5or9se935w4zzujgmwmaxbfx, 5iu0waflt6jvky2g0yn2jygdr0nsj28jbtp0ihiml882l30n7x5ex12wbxby8gmec6q1fm1qm1r675pctcs58v5m58yjgo9zaxbn, 9om8jeqgxwtau8cui5i3732qqbvjgzj4dexgh7p8xb97xjsgpin94vr8j4ngpxz52g5famat7eb7eoylbfd1rjdycwdqe6nkuf3i, el7qhewjnjzzjb2bnd7gs10mqmyp9yqgu60s2osxeibz7c3t4xp98en1f87hjr9xcn99bgoszdvuaruedvtzr8wzz2jasu4hsxk7, q0pnzkp04dnhjmwsq3pn0rf07syhrk106h9qgrexpmyo6h14iz0a5f33ghy3g0ngy2gi3zcjs86l5js5z5pjgck55ayzns5515y9, ln9ra0os53ysb3djxsramtoemm982vnsw0bxsny6gdu8nhv8174xwih31zyzm5q61ksbbu0jzr0hz4rmvbzk6t2dw1gi85swn0pg, au9ha326nfgk2boqyo7nbtex7w3qtumdpfby9bdhivnjsyqdkqxm0me8xf8mkvlvzcmre6i1vi1jjkcu50bodegwwwd7iehdne9c, 51d7mz3425vgdyu6q8tzjxlyfpm2ts6ecy9ybf8sf4m735pzi1nut2mtkcpidf0sipxnqkgsxilndkqhzvqjikt5oy197n2o9zd2, 03v0tkzhz00mai6aniihpkhd2ufwqwd2l1b7iycc2yjq5m8btklc9i9wmp31jq89rg7y0ds6s7mkats1s7tr8uqg7bxen3sbx20m, 4ppn1yiulmk2j5v948qsyhq769ayxd4xdrg7uhga6eironh2ictzzyq02h8jqhqq33tvjdh4ew5qw73m4z6q2hd932mg22xg4nc0, o7z1g1m0qbvg35jhzxnm9fdg4k8tbuimzbi1f7y826th801bi598yog07kb2cfrnk1r1h9o6b7zqms0c34qnm6zi7ki9o36r6jep, ljmzhfd3e29sldmrcha4a3qg770kd0dqpy3zumdy8n5gbx52b4xzni2k7ens055ethleusvpon6oia45bbjs2lo6rn90ptdlijch, 3xqxn0yylfq02sr24cmz3gyy3ijetek0ttmf59qqjcxbll0gn60f6sqxv40kbcd9rty7xgk8q5eqd1246e0uxd6kt1h0d91y3gye, zwyukwlx87e9trgl7j8mrcrzmp6fha7lps9pk6uroyj3d47dma97byc5iz3w2znx9zgqpuhv1jdvtatbxi1feoq9nqox1oyy8r5d, v3z1my13bihhblmqo0hg75jcb7s0jzve8h4p5p2i7s3jse102fupm4pojj1jynb6fadujczf8v05qb24ufxlvm641epgtg1tvabb, 5wpgvk3wb4cd36f14rx9vmat2h7uhgjtaoswegt70c5fiwd445ef1izwsyymaasjrhznpkxcbs3qhhe8c0pp2vtl5d4wwshbnhza, g5eomq2fky0eucgdq67tapgmwoek0g82t5waju8hr6jnmrtxq0calqrjn2jnzl3wk0olg6f0qr1u3n4qd0emxk5b5oj563863p60, syy6uswkm4p1weozrozn47q44b70qhylxdgmv9ubh8ecl9s7jyohai8l6vhen478ta70ftx7pkjzcsxmujplrkyihv20mer0vxlg, iq3uz5hbame8h2fo620n89k0r1i7p9n1emi1jwtud10zcufila8j185s0khqf9ln890a4oakpqu4zf17ba02iti50oevw66s3vnl, wvlckxkm0u6nh4gc7ud5b82pgm13mpxymsbwn3x1n0isg152757ansrz6z19x911py313qr1lfdc5tnrl8ih53wpwh5cjoatl8ca, 58tjl9ywskh3inzax572t42f6olnm08jx9zf28mgdt6praw8ncjq10npkcb32x3jpojdepez76zwnpqlbbtoze7kxwwdd3qkb0gu, z3gx4qje18swe54onktpzacej7nbuuld1c0neill1rnwymw83lkoy3ppdvikw9de80vp4y16wxs6gtbpftjmkk08oemmilcfbime, 1y5qqr4faf541mlvsd8eouc3cuoob1vty4pxp58dwqct24hy4jwb7xlzlbxl65ppzkpg82t8qw4bhxhamkkfmlo0rws51sgwlvqy, qqnmjizsobprfsht9i0wu61tkrwi6mdrjwf50pm1wov43likakr22gl79mljd7nxea3eerryre8rbdx1earim3zh78oowb0z7tjs, 6rvp8yifbb3d3md3ncsgx6wivcd8ow6rwx2vvor8yky10b1hahaue31f0opifm6ogqfduxa930reoz9urxtozhy8pmaiyi284h1o, 69dkug8xrgxdh7p4o9pct02yo9vu9ewhkmke9stx4w3pn2jds88jrvgib0yim8lbx2fi04lnprdt74nm3n0n6f4yebvtg1hbgabm, e18vpki0ceggwmgleq1tb4e06cxnz2sz93g50enhxa99c86vabmrd7chze6zp1yzigy191n8o82f2plfv5t2ezm8l5a5chckcv7f, 4tpi4wazz5xevv57aysvotx3wa7ondpompgm2g3jhxmx12r9d6ndk40lqdwbk398atiq275j0co212o4wxbx6z4cfhgjfv94xffi, 2bh9z2w749rbilfs0hhd22dhmfg4icnolt1ikeldcmtxys0d5grqmrpiv6ei1hyylzz0nctj3jf317bj3cmfzd0qyzeorlrbw7wh, bzyzaq5c9rh3m29v4e58emjfzbn81jzckx4w8k2530zaxheogyy3abr406hnkgsg35fyet112qbvb5chei294x6zkhg2u63agzuf, h0hlxt8mlgx783zogitiugl95q4zb773ksh8uz3antp1qlh7h709tci6gpsval2nupc0k9gn5qrb6i1pb2yu51tdgdqybkk2bbju, byws86j4kylb1zd5aw2sv3y1c5ddb2jsym32u82siryrv6fspxi7i3smwm7nrc6q0540nr3trrq5hdipphrc0szwdtse3t9o2ffx, hojkkk9e2c0nlafa1qop7xb1fpv4r6nve2e3hwar0d2870ory7rpopd5mjtiy5xeskrl31adw4jj817bwtgs9v5mi6k0e5wegu86, y8fxukr1toe1zxes5h2ocdi1hsat43wpasmsvf1n36h8snojs2jnud0zmxjdijqiw4wc30ue13m97o4v7wcci4btki20j4aj696p, 6vgvixqpsku61iued81ktqvc5c68bj6dmvlhfum3k3sma9xy3ezzzfk2up3f16uphi36czhdz3rosj3szvbbfaqwbyia96hczaht, pgftjqq8w6i136ghr6u8qmdb751olnf8ezb68r4347xzjtkngq8xshlyi24xs294si02lt5d4hsy5iiyyu83uulsu3keo2ltrt81, 4cglyxhxp5hyri45ti8x7x0ws29pbv39g6vrt04exwdratckcb81kqxxazf27d08bsn7vzlysch6rk81cdhsfbsc4xc7q876p8qp, 474w2d6rqaky4w4s21xwql2wbfz2lcxbpmnlaoqjwubf2hzzvw4ziesltz6edxu6oratmc4nnllqh8izqpwd03hdsonffmbgp6p3, lubajta98jsvjt1un4kg6dxfomkmsddr57cjs1bgbab1jxfbyc3fpjo5xuikblpmg2fp9t5ejrzu7qmd1thlf5y9fmwu72b1fd1a, mrhre7sc26ksb2a0hvrv0esp2vsqvxewkpieboe9w4eghsuvtl6kag1pbigw3dfx70lepmqkev38iokoe9w56kkv501o3c8s6lzx, e54py8dvmtblc285or0vjl3g6ezf94aq4lyvk58anegwxq2nju0se8rkr1fm9sym6n0dou1q9jshfhj9p1vlaguii1z3i85tn7ut, u1jdwc20zjo529ln1da4wee6a6pk6udndodln5tpg6x128xnco2ve5celr2fjg0w2rvvektfsrtpugs0nqwjz86y2ljfenwlipgt, 5do0d8xwmsns7use8ukll3h7m9jldva0543t8iyckol22mphdi5tvzfeld6tjju4wo41sh7mr3slw4t29xxl1c2asdqviffdoz2z, rj5qle8ew6so4vwjtb75mu08yrnbuq5ytnaaghk20qje4bqduxlq9j92blzsr2xlt1xwpum79o22hho77v8vqvkrzu3zwrh0n1wt, n4f2ji8mjgcvyhu9s9yhrgvbv3p7tbcss7g7m32ecraba9pkl43xm2xsok22jsiwylpooaharto7zxl9yhmijsa9gfcx78tslcj0, fd1du1l2s7j8yhjjywgsumb20qdu1bmf2dm6f1zds7d58j16z1r15hg4u1djck0czrro58wvnpp1apkbav0nady6j55gwl186koq, 9w15fqpxlkti5cinwjniqj18os51pyalu1uwjccjjbb3adzs76xfb5pqcgmkgl1czik40du0fc2vt5hxtm625zfnbicipgmqfjx0, mva7ourno2b8ayn0z58rkl5okp07itphp5k6z5frlo9m0ntmwt7xp0vmuthukzv4rp7nq993xs0zps5rwlq4ylb41wvqnf07wut8, ntd18yk6bxm9umqel4awgf3zpghc3jim50qh3k3apvi5imbx4ef36at2kynhaf95amria79ogf4gnm947h0y867f3krzdakva3ya, 31jradxzb70cenppyc7r9untnbf9lu5b24jxu8bz9i7auzsg8gf6vnsefk3te84m1a2yglxygcw21y6zkjeth7tnhvgrfi4u9jij, mmgdl4u4ewqj0rqsdplznf06qy8qz6gv00rjow64aw2njzn6epkj4b9t3dkca299ud9jbv6kdv71mb6e8gb3jfbk3yzuz82veg0k, 9dk2w00tgwcsd2oze6513u32tngl7hve1r3ohu13dvcn4kv3ns7ph4v56d4utpwglfs8fdogtlsip17yudgnldx300xf5mtlgv9d, 958tt6vc4eypquxipip0ldpru7e4r1ob8viltxa477mk7mhgcrs1m4khx5mp1ha5r8q32ycx4eijo2bzvcaltxpre734copcd1g5, egqomlzlwybulm6axxldo0me5z8ag7b6083yvo1fn2i1416eokldgjj0t4n2lpgycn6pr6ih4oxal1ztjr7tnwudzqpqgz5un2h8, judxvjwrwk61sug8layt9tlkyj34jm00475a7bgzfuls60r9vkgo37o2etlhjdv12hb08jtbc109t9jq04n81cq9bsteqmctq2d6, ljiups7b4cdwndu7ymb8x0lcg9nzayd5z283gs4u7r5envqfr1z42lealmlvpolynjw19patt0gy5poq8b8s9l94kjzl6j1njtj5, 55lsjqym9opeyi8dpfneunncraih7b118rmtx81zt6tl7ft6fqop9clblqt002o72cior3ncn1admin06wcxeemd2f1wlh9ltgrr, n49kcrn45p2r9lw0dphhliggy8t76u99j0ehei1b0cioifjwliaek6i9icerlsdhs2til6whwrwsz3h13hx44c7iza8v0lqcnuju, 1dclmgqi577jqe860avy0sawqisiykkqobao37fmx82xp6ticp9oxid7am98iq8h5ennnawy4b6hi9i2b8e7c7x5vnwt370fvo64, bi2lds5dyrk1a5jr35e2il5sh9lpkihjuvfak7jw9yd5ugjs1sk7j5p6joq36bm00691s4fv9kehdpb56a82u8if1ujqdntkhv3t, yu727b6r29zw4684sl1viundujj6ltlbb84p8rv16qljxe1fza3u31w9d6iog55jb6mw4kh0gmj70k4t0lzkg6njrttjauche15p, voyeg29jvyfw9e9b2d0jxwc43smree3i9y5qy9s6qpix8wopw6q39hs0j8skltah1a50i74v0bcxt1a55nrw71jnonz82bcukwd8, 3r0fsd6b61cq13aoxdr7p4qlzn292vu7b0r1e6db5g9fmfcpx1x60d5yqtb2jxy7ytgmi3csrbe2rtf8340sky9kunlplxu8wkyb, x4e90ncwms2svjcas1tcsxvh8dcjsehd99mcpmccbnzc7ihe75jd1j9wwqiuogk9tp9o24kjjjocnl1l0r1fg7ncr1j2rghn4j4n, mmvatzdi1hjzxh51gp11br5eonfze2f6we6au22bt01a2k7nbiz8opx544asm3zl25x0jwbmw1moyvnb7z7bmpwf9py72hq6g706, c38031ztxj7fgrg8l1m6u0d8zz06k8i2axkhdjvxj5uxj8octlim0900au1ep3i4toobrgfe76if2glff2ap1jv1yv00peezrnry, qr3r9dzftq2lu0mgp36ixyasr3a8vhncohtqpvo3d8kaghnvmx66eerfy0f360yyr9zgu9sm7i1ie1jvsdsg9l91ydvfyxcbbz8b, 3bie2gogmtyde6uw4e2jbn6es0j9km0cum9mnqzo4z1p5z7cyrhbx7zgxdohkak6d0br828hvd16ce3h97iifiboefb2602w4f8o, x0stj4r6nvbi5jekcddvse1795xdvakfhfubdcvzh4jayz9wy5vovngvxlypr5ahwpc6uodurchacli0lz3m6dctphcerdl7kp56, sjjhl7mm2lehcrnl268qpgdtao5hvthos5yyba0vxug351rma6z5xd9bxj530t5k2oel7uy6jmni4z8wi8wwzagyv05n7twt1lpp, uk8o22q9t77t466tabwby8qgwfzjvwlowm2jsbohasvlm17nas2i1y22zh4rmzko5v1m2a267tnulactaskgt6igz1l2fwbp4uoi, nk0k81hnbokmvkiadq2pnwmsw8mlixhipcycm4d18cvilh3pi59qfmr8n7lsr0rgujstasp4nhk23w8vwfy5xktitvxzvqrunw6w, i467cdrhw4fpa18we54v15x4u32kcnx509l55xhnozkqsk2y93dwu772irsun7ulr3mxl7q13w8iriz0i0trfii75pyxbwjfunlg, e1zu814iodsqfxd1ecwe1dkfd3pmxiaozflz4uynb73cndc5alzlr4uvj11lrrcqvlwn1ankxtgrwg4eyiyd2r5ixq49ujbg27pz, 8dc3lz76a3io3u2fiy32tdtotasa4ibv1zc9e6qc4738xerh1qdig8yv2ce8s0qwradot2rk6kl80todwi0w0rlar3sy1sepqyeh, yfa3efxtaldjf9ldggznjoa5uy8gciensi025niklgryvgb8h1flz0b0m7olq3m74m6fga01w8ewxjkexzsgezoqpgqdi4wrxpvu -> /Users/kamangir/storage/abcli/WebDAVzip-2025-03-31-17-57-10-qitlbh/test.txt.\n"
     ]
    }
   ],
   "source": [
    "filename = \"test.txt\"\n",
    "depth = 100\n",
    "\n",
    "object_name = objects.unique_object(\"WebDAVzip\")\n",
    "\n",
    "assert file.save_yaml(\n",
    "        objects.path_of(\n",
    "            object_name=object_name,\n",
    "            filename=filename,\n",
    "            ),\n",
    "        {\n",
    "            string.random(length=depth): string.random(length=depth)\n",
    "            for _ in range(depth)\n",
    "        },\n",
    "    )"
   ]
  },
  {
   "attachments": {},
   "cell_type": "markdown",
   "metadata": {},
   "source": [
    "---"
   ]
  },
  {
   "cell_type": "code",
   "execution_count": 3,
   "metadata": {},
   "outputs": [
    {
     "name": "stderr",
     "output_type": "stream",
     "text": [
      "🌀  bluer_objects.host.functions.shell(zip -r \"../WebDAVzip-2025-03-31-17-57-10-qitlbh.zip\" \".\")\n"
     ]
    },
    {
     "name": "stdout",
     "output_type": "stream",
     "text": [
      "  adding: test.txt (deflated 32%)\n"
     ]
    },
    {
     "name": "stderr",
     "output_type": "stream",
     "text": [
      "🌀  WebDAVzipInterface.upload WebDAVzip-2025-03-31-17-57-10-qitlbh\n"
     ]
    }
   ],
   "source": [
    "assert storage.upload(\n",
    "    object_name=object_name,\n",
    "    filename=filename,\n",
    ")"
   ]
  },
  {
   "cell_type": "code",
   "execution_count": 4,
   "metadata": {},
   "outputs": [
    {
     "name": "stderr",
     "output_type": "stream",
     "text": [
      "🌀  bluer_objects.host.functions.shell(unzip -o \"/Users/kamangir/storage/abcli/WebDAVzip-2025-03-31-17-57-10-qitlbh.zip\" -d \"/Users/kamangir/storage/abcli/WebDAVzip-2025-03-31-17-57-10-qitlbh\")\n",
      "🌀  WebDAVzipInterface.download WebDAVzip-2025-03-31-17-57-10-qitlbh\n"
     ]
    },
    {
     "name": "stdout",
     "output_type": "stream",
     "text": [
      "Archive:  /Users/kamangir/storage/abcli/WebDAVzip-2025-03-31-17-57-10-qitlbh.zip\n",
      "  inflating: /Users/kamangir/storage/abcli/WebDAVzip-2025-03-31-17-57-10-qitlbh/test.txt  \n"
     ]
    }
   ],
   "source": [
    "assert storage.download(\n",
    "    object_name=object_name,\n",
    "    filename=filename,\n",
    ")"
   ]
  },
  {
   "attachments": {},
   "cell_type": "markdown",
   "metadata": {},
   "source": [
    "---"
   ]
  },
  {
   "cell_type": "code",
   "execution_count": 5,
   "metadata": {},
   "outputs": [],
   "source": [
    "# END"
   ]
  }
 ],
 "metadata": {
  "kernelspec": {
   "display_name": "base",
   "language": "python",
   "name": "python3"
  },
  "language_info": {
   "codemirror_mode": {
    "name": "ipython",
    "version": 3
   },
   "file_extension": ".py",
   "mimetype": "text/x-python",
   "name": "python",
   "nbconvert_exporter": "python",
   "pygments_lexer": "ipython3",
   "version": "3.12.9"
  },
  "toc": {
   "base_numbering": 1,
   "nav_menu": {},
   "number_sections": true,
   "sideBar": true,
   "skip_h1_title": false,
   "title_cell": "Table of Contents",
   "title_sidebar": "Contents",
   "toc_cell": false,
   "toc_position": {},
   "toc_section_display": true,
   "toc_window_display": false
  }
 },
 "nbformat": 4,
 "nbformat_minor": 2
}
