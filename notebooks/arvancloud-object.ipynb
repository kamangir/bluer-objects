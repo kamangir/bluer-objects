{
 "cells": [
  {
   "attachments": {},
   "cell_type": "markdown",
   "metadata": {},
   "source": [
    "# WebDAV - request: object\n",
    "\n",
    "https://chatgpt.com/c/6824cf43-6738-8005-8733-54b6a77f20ee"
   ]
  },
  {
   "cell_type": "code",
   "execution_count": 1,
   "metadata": {},
   "outputs": [
    {
     "name": "stderr",
     "output_type": "stream",
     "text": [
      "🌀  bluer_objects-6.145.1.bluer_ai-12.160.1.bluer_objects-6.145.1.bluer_options-5.127.1.torch-2.2.2.Python 3.12.9.Darwin 23.6.0..Jupyter-Notebook,\n",
      "built on 29 May 2025, 16:10:24\n"
     ]
    }
   ],
   "source": [
    "from bluer_options import string\n",
    "\n",
    "from bluer_objects import objects\n",
    "from bluer_objects.host import signature\n",
    "from bluer_objects.testing import create_test_asset\n",
    "from bluer_objects.storage import ArvancloudInterface\n",
    "from bluer_objects import path\n",
    "from bluer_objects.logger import logger\n",
    "\n",
    "logger.info(f\"{'.'.join(signature())},\\nbuilt on {string.pretty_date()}\")"
   ]
  },
  {
   "cell_type": "code",
   "execution_count": 2,
   "metadata": {},
   "outputs": [],
   "source": [
    "storage = ArvancloudInterface()"
   ]
  },
  {
   "cell_type": "code",
   "execution_count": 3,
   "metadata": {},
   "outputs": [
    {
     "name": "stderr",
     "output_type": "stream",
     "text": [
      "🌀  📂 test-arvancloud-2025-05-29-16-10-24-5u161f\n"
     ]
    }
   ],
   "source": [
    "object_name = objects.unique_object(\"test-arvancloud\")\n",
    "\n",
    "local_path=objects.object_path(object_name=object_name)"
   ]
  },
  {
   "cell_type": "code",
   "execution_count": 4,
   "metadata": {},
   "outputs": [
    {
     "name": "stderr",
     "output_type": "stream",
     "text": [
      "🌀  bluer_objects.testing.functions.create_test_asset: test-arvancloud-2025-05-29-16-10-24-5u161f\n",
      "🌀  bluer_objects.file.save.save_image: 512x512x3:uint8 -> /Users/kamangir/storage/abcli/test-arvancloud-2025-05-29-16-10-24-5u161f/test-00.png\n",
      "🌀  bluer_objects.file.save.save_image: 512x512x3:uint8 -> /Users/kamangir/storage/abcli/test-arvancloud-2025-05-29-16-10-24-5u161f/test-01.png\n",
      "🌀  bluer_objects.file.save.save_image: 512x512x3:uint8 -> /Users/kamangir/storage/abcli/test-arvancloud-2025-05-29-16-10-24-5u161f/test-02.png\n",
      "🌀  bluer_objects.file.save.save_image: 512x512x3:uint8 -> /Users/kamangir/storage/abcli/test-arvancloud-2025-05-29-16-10-24-5u161f/test-03.png\n",
      "🌀  bluer_objects.file.save.save_image: 512x512x3:uint8 -> /Users/kamangir/storage/abcli/test-arvancloud-2025-05-29-16-10-24-5u161f/test-04.png\n",
      "🌀  bluer_objects.file.save.save_image: 512x512x3:uint8 -> /Users/kamangir/storage/abcli/test-arvancloud-2025-05-29-16-10-24-5u161f/test-05.png\n",
      "🌀  bluer_objects.file.save.save_image: 512x512x3:uint8 -> /Users/kamangir/storage/abcli/test-arvancloud-2025-05-29-16-10-24-5u161f/test-06.png\n",
      "🌀  bluer_objects.file.save.save_image: 512x512x3:uint8 -> /Users/kamangir/storage/abcli/test-arvancloud-2025-05-29-16-10-24-5u161f/test-07.png\n",
      "🌀  bluer_objects.file.save.save_image: 512x512x3:uint8 -> /Users/kamangir/storage/abcli/test-arvancloud-2025-05-29-16-10-24-5u161f/test-08.png\n",
      "🌀  bluer_objects.file.save.save_image: 512x512x3:uint8 -> /Users/kamangir/storage/abcli/test-arvancloud-2025-05-29-16-10-24-5u161f/test-09.png\n",
      "🌀  bluer_objects.file.save.save_yaml: ojkj31ajdr, qoa6r98eis, ttgcd92acs, j9g4jykkoq, y5hqq2xsy8, 4yu9dqq65n, bg31y32014, w011kqjw6o, ziqtoaux1t, v9gn98zwgw -> /Users/kamangir/storage/abcli/test-arvancloud-2025-05-29-16-10-24-5u161f/this.yaml.\n",
      "🌀  bluer_objects.file.save.save_yaml: ojkj31ajdr, qoa6r98eis, ttgcd92acs, j9g4jykkoq, y5hqq2xsy8, 4yu9dqq65n, bg31y32014, w011kqjw6o, ziqtoaux1t, v9gn98zwgw -> /Users/kamangir/storage/abcli/test-arvancloud-2025-05-29-16-10-24-5u161f/that.yaml.\n",
      "🌀  bluer_objects.file.save.save_yaml: ojkj31ajdr, qoa6r98eis, ttgcd92acs, j9g4jykkoq, y5hqq2xsy8, 4yu9dqq65n, bg31y32014, w011kqjw6o, ziqtoaux1t, v9gn98zwgw -> /Users/kamangir/storage/abcli/test-arvancloud-2025-05-29-16-10-24-5u161f/subfolder/this.yaml.\n",
      "🌀  bluer_objects.file.save.save_yaml: ojkj31ajdr, qoa6r98eis, ttgcd92acs, j9g4jykkoq, y5hqq2xsy8, 4yu9dqq65n, bg31y32014, w011kqjw6o, ziqtoaux1t, v9gn98zwgw -> /Users/kamangir/storage/abcli/test-arvancloud-2025-05-29-16-10-24-5u161f/subfolder/that.yaml.\n",
      "🌀  bluer_objects.file.save.save_yaml: ojkj31ajdr, qoa6r98eis, ttgcd92acs, j9g4jykkoq, y5hqq2xsy8, 4yu9dqq65n, bg31y32014, w011kqjw6o, ziqtoaux1t, v9gn98zwgw -> /Users/kamangir/storage/abcli/test-arvancloud-2025-05-29-16-10-24-5u161f/test.yaml.\n"
     ]
    }
   ],
   "source": [
    "assert create_test_asset(object_name)"
   ]
  },
  {
   "attachments": {},
   "cell_type": "markdown",
   "metadata": {},
   "source": [
    "---"
   ]
  },
  {
   "cell_type": "markdown",
   "metadata": {},
   "source": [
    "# ls"
   ]
  },
  {
   "cell_type": "code",
   "execution_count": 5,
   "metadata": {},
   "outputs": [
    {
     "name": "stderr",
     "output_type": "stream",
     "text": [
      "🌀  16 file(s)\n",
      "🌀  #  1: subfolder/that.yaml\n",
      "🌀  #  2: subfolder/this.yaml\n",
      "🌀  #  3: test-00.png\n",
      "🌀  #  4: test-01.png\n",
      "🌀  #  5: test-02.png\n",
      "🌀  #  6: test-03.png\n",
      "🌀  #  7: test-04.png\n",
      "🌀  #  8: test-05.png\n",
      "🌀  #  9: test-06.png\n",
      "🌀  # 10: test-07.png\n",
      "🌀  # 11: test-08.png\n",
      "🌀  # 12: test-09.png\n",
      "🌀  # 13: test.json\n",
      "🌀  # 14: test.yaml\n",
      "🌀  # 15: that.yaml\n",
      "🌀  # 16: this.yaml\n"
     ]
    }
   ],
   "source": [
    "success, list_of_files = storage.ls(object_name=object_name, where=\"local\")\n",
    "assert success\n",
    "\n",
    "logger.info(\"{} file(s)\".format(len(list_of_files)))\n",
    "for index, filename in enumerate(list_of_files):\n",
    "    logger.info(\"#{: 3d}: {}\".format(index+1, filename))"
   ]
  },
  {
   "cell_type": "code",
   "execution_count": 6,
   "metadata": {},
   "outputs": [
    {
     "name": "stderr",
     "output_type": "stream",
     "text": [
      "🌀  0 file(s)\n"
     ]
    }
   ],
   "source": [
    "success, list_of_files = storage.ls(object_name=object_name, where=\"cloud\")\n",
    "assert success\n",
    "\n",
    "logger.info(\"{} file(s)\".format(len(list_of_files)))\n",
    "for index, filename in enumerate(list_of_files):\n",
    "    logger.info(\"#{: 3d}: {}\".format(index+1, filename))"
   ]
  },
  {
   "cell_type": "markdown",
   "metadata": {},
   "source": [
    "# upload"
   ]
  },
  {
   "cell_type": "code",
   "execution_count": 7,
   "metadata": {},
   "outputs": [
    {
     "name": "stderr",
     "output_type": "stream",
     "text": [
      "  0%|          | 0/18 [00:00<?, ?it/s]🌀  ArvancloudInterface.upload test-arvancloud-2025-05-29-16-10-24-5u161f/subfolder/that.yaml\n",
      " 17%|█▋        | 3/18 [00:01<00:06,  2.37it/s]🌀  ArvancloudInterface.upload test-arvancloud-2025-05-29-16-10-24-5u161f/subfolder/this.yaml\n",
      " 22%|██▏       | 4/18 [00:02<00:10,  1.34it/s]🌀  ArvancloudInterface.upload test-arvancloud-2025-05-29-16-10-24-5u161f/test-00.png\n",
      " 28%|██▊       | 5/18 [00:13<00:51,  3.97s/it]🌀  ArvancloudInterface.upload test-arvancloud-2025-05-29-16-10-24-5u161f/test-01.png\n",
      " 33%|███▎      | 6/18 [00:17<00:45,  3.83s/it]🌀  ArvancloudInterface.upload test-arvancloud-2025-05-29-16-10-24-5u161f/test-02.png\n",
      " 39%|███▉      | 7/18 [00:21<00:42,  3.87s/it]🌀  ArvancloudInterface.upload test-arvancloud-2025-05-29-16-10-24-5u161f/test-03.png\n",
      " 44%|████▍     | 8/18 [00:27<00:44,  4.48s/it]🌀  ArvancloudInterface.upload test-arvancloud-2025-05-29-16-10-24-5u161f/test-04.png\n",
      " 50%|█████     | 9/18 [00:30<00:38,  4.29s/it]🌀  ArvancloudInterface.upload test-arvancloud-2025-05-29-16-10-24-5u161f/test-05.png\n",
      " 56%|█████▌    | 10/18 [00:34<00:33,  4.14s/it]🌀  ArvancloudInterface.upload test-arvancloud-2025-05-29-16-10-24-5u161f/test-06.png\n",
      " 61%|██████    | 11/18 [00:39<00:30,  4.38s/it]🌀  ArvancloudInterface.upload test-arvancloud-2025-05-29-16-10-24-5u161f/test-07.png\n",
      " 67%|██████▋   | 12/18 [00:43<00:26,  4.38s/it]🌀  ArvancloudInterface.upload test-arvancloud-2025-05-29-16-10-24-5u161f/test-08.png\n",
      " 72%|███████▏  | 13/18 [00:47<00:21,  4.22s/it]🌀  ArvancloudInterface.upload test-arvancloud-2025-05-29-16-10-24-5u161f/test-09.png\n",
      " 78%|███████▊  | 14/18 [00:51<00:16,  4.00s/it]🌀  ArvancloudInterface.upload test-arvancloud-2025-05-29-16-10-24-5u161f/test.json\n",
      " 83%|████████▎ | 15/18 [01:07<00:22,  7.60s/it]🌀  ArvancloudInterface.upload test-arvancloud-2025-05-29-16-10-24-5u161f/test.yaml\n",
      " 89%|████████▉ | 16/18 [01:08<00:11,  5.76s/it]🌀  ArvancloudInterface.upload test-arvancloud-2025-05-29-16-10-24-5u161f/that.yaml\n",
      " 94%|█████████▍| 17/18 [01:09<00:04,  4.39s/it]🌀  ArvancloudInterface.upload test-arvancloud-2025-05-29-16-10-24-5u161f/this.yaml\n",
      "100%|██████████| 18/18 [01:11<00:00,  3.96s/it]\n"
     ]
    }
   ],
   "source": [
    "assert storage.upload(object_name=object_name)"
   ]
  },
  {
   "cell_type": "code",
   "execution_count": 8,
   "metadata": {},
   "outputs": [
    {
     "name": "stderr",
     "output_type": "stream",
     "text": [
      "🌀  16 file(s)\n",
      "🌀  #  1: subfolder/that.yaml\n",
      "🌀  #  2: subfolder/this.yaml\n",
      "🌀  #  3: test-00.png\n",
      "🌀  #  4: test-01.png\n",
      "🌀  #  5: test-02.png\n",
      "🌀  #  6: test-03.png\n",
      "🌀  #  7: test-04.png\n",
      "🌀  #  8: test-05.png\n",
      "🌀  #  9: test-06.png\n",
      "🌀  # 10: test-07.png\n",
      "🌀  # 11: test-08.png\n",
      "🌀  # 12: test-09.png\n",
      "🌀  # 13: test.json\n",
      "🌀  # 14: test.yaml\n",
      "🌀  # 15: that.yaml\n",
      "🌀  # 16: this.yaml\n"
     ]
    }
   ],
   "source": [
    "success, list_of_files = storage.ls(object_name=object_name, where=\"cloud\")\n",
    "assert success\n",
    "\n",
    "logger.info(\"{} file(s)\".format(len(list_of_files)))\n",
    "for index, filename in enumerate(list_of_files):\n",
    "    logger.info(\"#{: 3d}: {}\".format(index+1, filename))"
   ]
  },
  {
   "cell_type": "code",
   "execution_count": 9,
   "metadata": {},
   "outputs": [],
   "source": [
    "assert path.delete(local_path)"
   ]
  },
  {
   "cell_type": "markdown",
   "metadata": {},
   "source": [
    "# download"
   ]
  },
  {
   "cell_type": "code",
   "execution_count": 10,
   "metadata": {},
   "outputs": [
    {
     "name": "stderr",
     "output_type": "stream",
     "text": [
      "  0%|          | 0/16 [00:00<?, ?it/s]🌀  ArvancloudInterface.download test-arvancloud-2025-05-29-16-10-24-5u161f/subfolder/that.yaml\n",
      "  6%|▋         | 1/16 [00:01<00:21,  1.44s/it]🌀  ArvancloudInterface.download test-arvancloud-2025-05-29-16-10-24-5u161f/subfolder/this.yaml\n",
      " 12%|█▎        | 2/16 [00:02<00:21,  1.51s/it]🌀  ArvancloudInterface.download test-arvancloud-2025-05-29-16-10-24-5u161f/test-00.png\n",
      " 19%|█▉        | 3/16 [00:06<00:31,  2.40s/it]🌀  ArvancloudInterface.download test-arvancloud-2025-05-29-16-10-24-5u161f/test-01.png\n",
      " 25%|██▌       | 4/16 [00:09<00:30,  2.53s/it]🌀  ArvancloudInterface.download test-arvancloud-2025-05-29-16-10-24-5u161f/test-02.png\n",
      " 31%|███▏      | 5/16 [00:12<00:29,  2.65s/it]🌀  ArvancloudInterface.download test-arvancloud-2025-05-29-16-10-24-5u161f/test-03.png\n",
      " 38%|███▊      | 6/16 [00:14<00:25,  2.60s/it]🌀  ArvancloudInterface.download test-arvancloud-2025-05-29-16-10-24-5u161f/test-04.png\n",
      " 44%|████▍     | 7/16 [00:17<00:24,  2.74s/it]🌀  ArvancloudInterface.download test-arvancloud-2025-05-29-16-10-24-5u161f/test-05.png\n",
      " 50%|█████     | 8/16 [00:20<00:21,  2.65s/it]🌀  ArvancloudInterface.download test-arvancloud-2025-05-29-16-10-24-5u161f/test-06.png\n",
      " 56%|█████▋    | 9/16 [00:22<00:18,  2.67s/it]🌀  ArvancloudInterface.download test-arvancloud-2025-05-29-16-10-24-5u161f/test-07.png\n",
      " 62%|██████▎   | 10/16 [00:25<00:15,  2.66s/it]🌀  ArvancloudInterface.download test-arvancloud-2025-05-29-16-10-24-5u161f/test-08.png\n",
      " 69%|██████▉   | 11/16 [00:27<00:12,  2.56s/it]🌀  ArvancloudInterface.download test-arvancloud-2025-05-29-16-10-24-5u161f/test-09.png\n",
      " 75%|███████▌  | 12/16 [00:47<00:31,  7.87s/it]🌀  ArvancloudInterface.download test-arvancloud-2025-05-29-16-10-24-5u161f/test.json\n",
      " 81%|████████▏ | 13/16 [00:49<00:17,  5.92s/it]🌀  ArvancloudInterface.download test-arvancloud-2025-05-29-16-10-24-5u161f/test.yaml\n",
      " 88%|████████▊ | 14/16 [00:50<00:09,  4.57s/it]🌀  ArvancloudInterface.download test-arvancloud-2025-05-29-16-10-24-5u161f/that.yaml\n",
      " 94%|█████████▍| 15/16 [00:52<00:03,  3.64s/it]🌀  ArvancloudInterface.download test-arvancloud-2025-05-29-16-10-24-5u161f/this.yaml\n",
      "100%|██████████| 16/16 [00:53<00:00,  3.35s/it]\n"
     ]
    }
   ],
   "source": [
    "assert storage.download(object_name=object_name)"
   ]
  },
  {
   "cell_type": "code",
   "execution_count": 11,
   "metadata": {},
   "outputs": [
    {
     "name": "stdout",
     "output_type": "stream",
     "text": [
      "\u001b[34msubfolder\u001b[m\u001b[m   test-02.png test-05.png test-08.png test.yaml\n",
      "test-00.png test-03.png test-06.png test-09.png that.yaml\n",
      "test-01.png test-04.png test-07.png test.json   this.yaml\n"
     ]
    }
   ],
   "source": [
    "! ls {local_path}"
   ]
  },
  {
   "attachments": {},
   "cell_type": "markdown",
   "metadata": {},
   "source": [
    "---"
   ]
  },
  {
   "cell_type": "code",
   "execution_count": 12,
   "metadata": {},
   "outputs": [],
   "source": [
    "# END"
   ]
  }
 ],
 "metadata": {
  "kernelspec": {
   "display_name": "base",
   "language": "python",
   "name": "python3"
  },
  "language_info": {
   "codemirror_mode": {
    "name": "ipython",
    "version": 3
   },
   "file_extension": ".py",
   "mimetype": "text/x-python",
   "name": "python",
   "nbconvert_exporter": "python",
   "pygments_lexer": "ipython3",
   "version": "3.12.9"
  },
  "toc": {
   "base_numbering": 1,
   "nav_menu": {},
   "number_sections": true,
   "sideBar": true,
   "skip_h1_title": false,
   "title_cell": "Table of Contents",
   "title_sidebar": "Contents",
   "toc_cell": false,
   "toc_position": {},
   "toc_section_display": true,
   "toc_window_display": false
  }
 },
 "nbformat": 4,
 "nbformat_minor": 2
}
