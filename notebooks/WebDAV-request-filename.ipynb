{
 "cells": [
  {
   "attachments": {},
   "cell_type": "markdown",
   "metadata": {},
   "source": [
    "# WebDAV - request: filename\n",
    "\n",
    "https://chatgpt.com/c/6824cf43-6738-8005-8733-54b6a77f20ee"
   ]
  },
  {
   "cell_type": "code",
   "execution_count": 1,
   "metadata": {},
   "outputs": [
    {
     "name": "stderr",
     "output_type": "stream",
     "text": [
      "🌀  bluer_objects-6.107.1.bluer_ai-12.141.1.bluer_objects-6.107.1.bluer_options-5.97.1.torch-2.2.2.Python 3.12.9.Darwin 23.6.0..Jupyter-Notebook,\n",
      "built on 14 May 2025, 22:24:07\n"
     ]
    }
   ],
   "source": [
    "from bluer_options import string\n",
    "\n",
    "from bluer_objects import objects\n",
    "from bluer_objects.host import signature\n",
    "from bluer_objects.testing import create_test_asset\n",
    "from bluer_objects import file, storage, env\n",
    "from bluer_objects.logger import logger\n",
    "\n",
    "logger.info(f\"{'.'.join(signature())},\\nbuilt on {string.pretty_date()}\")"
   ]
  },
  {
   "cell_type": "code",
   "execution_count": 2,
   "metadata": {},
   "outputs": [],
   "source": [
    "# filename = \"test-00.png\"\n",
    "\n",
    "# filename = \"this.yaml\"\n",
    "\n",
    "filename = \"subfolder/this.yaml\""
   ]
  },
  {
   "cell_type": "code",
   "execution_count": 3,
   "metadata": {},
   "outputs": [
    {
     "name": "stderr",
     "output_type": "stream",
     "text": [
      "🌀  📂 test-WebDAV-2025-05-14-22-24-07-l646v2\n"
     ]
    }
   ],
   "source": [
    "object_name = objects.unique_object(\"test-WebDAV\")\n",
    "\n",
    "local_path=objects.path_of(\n",
    "        object_name=object_name,\n",
    "        filename=filename,\n",
    "    )"
   ]
  },
  {
   "cell_type": "code",
   "execution_count": 4,
   "metadata": {},
   "outputs": [
    {
     "name": "stderr",
     "output_type": "stream",
     "text": [
      "🌀  bluer_objects.testing.functions.create_test_asset: test-WebDAV-2025-05-14-22-24-07-l646v2\n",
      "🌀  bluer_objects.file.save.save_image: 512x512x3:uint8 -> /Users/kamangir/storage/abcli/test-WebDAV-2025-05-14-22-24-07-l646v2/test-00.png\n",
      "🌀  bluer_objects.file.save.save_image: 512x512x3:uint8 -> /Users/kamangir/storage/abcli/test-WebDAV-2025-05-14-22-24-07-l646v2/test-01.png\n",
      "🌀  bluer_objects.file.save.save_image: 512x512x3:uint8 -> /Users/kamangir/storage/abcli/test-WebDAV-2025-05-14-22-24-07-l646v2/test-02.png\n",
      "🌀  bluer_objects.file.save.save_image: 512x512x3:uint8 -> /Users/kamangir/storage/abcli/test-WebDAV-2025-05-14-22-24-07-l646v2/test-03.png\n",
      "🌀  bluer_objects.file.save.save_image: 512x512x3:uint8 -> /Users/kamangir/storage/abcli/test-WebDAV-2025-05-14-22-24-07-l646v2/test-04.png\n",
      "🌀  bluer_objects.file.save.save_image: 512x512x3:uint8 -> /Users/kamangir/storage/abcli/test-WebDAV-2025-05-14-22-24-07-l646v2/test-05.png\n",
      "🌀  bluer_objects.file.save.save_image: 512x512x3:uint8 -> /Users/kamangir/storage/abcli/test-WebDAV-2025-05-14-22-24-07-l646v2/test-06.png\n",
      "🌀  bluer_objects.file.save.save_image: 512x512x3:uint8 -> /Users/kamangir/storage/abcli/test-WebDAV-2025-05-14-22-24-07-l646v2/test-07.png\n",
      "🌀  bluer_objects.file.save.save_image: 512x512x3:uint8 -> /Users/kamangir/storage/abcli/test-WebDAV-2025-05-14-22-24-07-l646v2/test-08.png\n",
      "🌀  bluer_objects.file.save.save_image: 512x512x3:uint8 -> /Users/kamangir/storage/abcli/test-WebDAV-2025-05-14-22-24-07-l646v2/test-09.png\n",
      "🌀  bluer_objects.file.save.save_yaml: 8d3c5d7ywc, wyxrtidpcg, yulzr841pi, lp64o2vr9s, ra9n7mdowd, gxva6qdq1i, z3uhjnjki0, ku9dgxhhib, qegs6vk7ny, 9bwt3nw6a1 -> /Users/kamangir/storage/abcli/test-WebDAV-2025-05-14-22-24-07-l646v2/this.yaml.\n",
      "🌀  bluer_objects.file.save.save_yaml: 8d3c5d7ywc, wyxrtidpcg, yulzr841pi, lp64o2vr9s, ra9n7mdowd, gxva6qdq1i, z3uhjnjki0, ku9dgxhhib, qegs6vk7ny, 9bwt3nw6a1 -> /Users/kamangir/storage/abcli/test-WebDAV-2025-05-14-22-24-07-l646v2/that.yaml.\n",
      "🌀  bluer_objects.file.save.save_yaml: 8d3c5d7ywc, wyxrtidpcg, yulzr841pi, lp64o2vr9s, ra9n7mdowd, gxva6qdq1i, z3uhjnjki0, ku9dgxhhib, qegs6vk7ny, 9bwt3nw6a1 -> /Users/kamangir/storage/abcli/test-WebDAV-2025-05-14-22-24-07-l646v2/subfolder/this.yaml.\n",
      "🌀  bluer_objects.file.save.save_yaml: 8d3c5d7ywc, wyxrtidpcg, yulzr841pi, lp64o2vr9s, ra9n7mdowd, gxva6qdq1i, z3uhjnjki0, ku9dgxhhib, qegs6vk7ny, 9bwt3nw6a1 -> /Users/kamangir/storage/abcli/test-WebDAV-2025-05-14-22-24-07-l646v2/subfolder/that.yaml.\n",
      "🌀  bluer_objects.file.save.save_yaml: 8d3c5d7ywc, wyxrtidpcg, yulzr841pi, lp64o2vr9s, ra9n7mdowd, gxva6qdq1i, z3uhjnjki0, ku9dgxhhib, qegs6vk7ny, 9bwt3nw6a1 -> /Users/kamangir/storage/abcli/test-WebDAV-2025-05-14-22-24-07-l646v2/test.yaml.\n"
     ]
    }
   ],
   "source": [
    "assert create_test_asset(object_name)"
   ]
  },
  {
   "attachments": {},
   "cell_type": "markdown",
   "metadata": {},
   "source": [
    "---"
   ]
  },
  {
   "cell_type": "markdown",
   "metadata": {},
   "source": [
    "# create dir"
   ]
  },
  {
   "cell_type": "code",
   "execution_count": 5,
   "metadata": {},
   "outputs": [
    {
     "name": "stderr",
     "output_type": "stream",
     "text": [
      "🌀  created /test-WebDAV-2025-05-14-22-24-07-l646v2/\n",
      "🌀  created /test-WebDAV-2025-05-14-22-24-07-l646v2/subfolder/\n"
     ]
    }
   ],
   "source": [
    "import requests\n",
    "from requests.auth import HTTPBasicAuth\n",
    "\n",
    "url = f\"{env.WEBDAV_HOSTNAME}/\"\n",
    "folders = [object_name] + [folder for folder in file.path(filename).split(\"/\") if folder]\n",
    "for folder in folders:\n",
    "    url = f\"{url}{folder}/\"\n",
    "\n",
    "    response = requests.request(\n",
    "        'MKCOL', \n",
    "        url, \n",
    "        auth=HTTPBasicAuth(\n",
    "            env.WEBDAV_LOGIN, \n",
    "            env.WEBDAV_PASSWORD,\n",
    "        )\n",
    "    )\n",
    "\n",
    "    if response.status_code in [201, 405]:  # 201 = Created, 405 = Already exists\n",
    "        logger.info(\"created {}\".format(url.split(env.WEBDAV_HOSTNAME,1)[1]))\n",
    "    else:\n",
    "        logger.error(f'failed to create directory: {response.status_code} - {response.text}')\n",
    "        assert False\n"
   ]
  },
  {
   "cell_type": "markdown",
   "metadata": {},
   "source": [
    "# upload file"
   ]
  },
  {
   "cell_type": "code",
   "execution_count": 6,
   "metadata": {},
   "outputs": [
    {
     "name": "stderr",
     "output_type": "stream",
     "text": [
      "🌀  uploaded test-WebDAV-2025-05-14-22-24-07-l646v2/subfolder/this.yaml\n"
     ]
    }
   ],
   "source": [
    "import requests\n",
    "from requests.auth import HTTPBasicAuth\n",
    "\n",
    "url = f\"{env.WEBDAV_HOSTNAME}/{object_name}/{filename}\"\n",
    "\n",
    "with open(local_path, 'rb') as file_data:\n",
    "    response = requests.put(\n",
    "        url, \n",
    "        data=file_data, \n",
    "        auth=HTTPBasicAuth(\n",
    "            env.WEBDAV_LOGIN, \n",
    "            env.WEBDAV_PASSWORD,\n",
    "        )\n",
    "    )\n",
    "\n",
    "if response.status_code in [200, 201, 204]:\n",
    "    logger.info(f'uploaded {object_name}/{filename}')\n",
    "else:\n",
    "    logger.error(f'failed to upload: {response.status_code} - {response.text}')\n",
    "    assert False\n"
   ]
  },
  {
   "cell_type": "code",
   "execution_count": 7,
   "metadata": {},
   "outputs": [],
   "source": [
    "assert file.delete(local_path)"
   ]
  },
  {
   "cell_type": "markdown",
   "metadata": {},
   "source": [
    "# download file"
   ]
  },
  {
   "cell_type": "code",
   "execution_count": 8,
   "metadata": {},
   "outputs": [
    {
     "name": "stderr",
     "output_type": "stream",
     "text": [
      "🌀  downloaded test-WebDAV-2025-05-14-22-24-07-l646v2/subfolder/this.yaml\n"
     ]
    }
   ],
   "source": [
    "import requests\n",
    "from requests.auth import HTTPBasicAuth\n",
    "\n",
    "url = f\"{env.WEBDAV_HOSTNAME}/{object_name}/{filename}\"\n",
    "\n",
    "response = requests.get(\n",
    "    url, \n",
    "    auth=HTTPBasicAuth(\n",
    "        env.WEBDAV_LOGIN, \n",
    "        env.WEBDAV_PASSWORD\n",
    "    )\n",
    ")\n",
    "\n",
    "if response.status_code == 200:\n",
    "    with open(local_path, 'wb') as file_:\n",
    "        file_.write(response.content)\n",
    "    logger.info(f\"downloaded {object_name}/{filename}\")\n",
    "else:\n",
    "    logger.error(f\"failed to download: {response.status_code}\")\n",
    "    assert False\n"
   ]
  },
  {
   "cell_type": "code",
   "execution_count": 9,
   "metadata": {},
   "outputs": [
    {
     "name": "stdout",
     "output_type": "stream",
     "text": [
      "/Users/kamangir/storage/abcli/test-WebDAV-2025-05-14-22-24-07-l646v2/subfolder/this.yaml\n"
     ]
    }
   ],
   "source": [
    "! ls {local_path}"
   ]
  },
  {
   "attachments": {},
   "cell_type": "markdown",
   "metadata": {},
   "source": [
    "---"
   ]
  },
  {
   "cell_type": "code",
   "execution_count": 10,
   "metadata": {},
   "outputs": [],
   "source": [
    "# END"
   ]
  }
 ],
 "metadata": {
  "kernelspec": {
   "display_name": "base",
   "language": "python",
   "name": "python3"
  },
  "language_info": {
   "codemirror_mode": {
    "name": "ipython",
    "version": 3
   },
   "file_extension": ".py",
   "mimetype": "text/x-python",
   "name": "python",
   "nbconvert_exporter": "python",
   "pygments_lexer": "ipython3",
   "version": "3.12.9"
  },
  "toc": {
   "base_numbering": 1,
   "nav_menu": {},
   "number_sections": true,
   "sideBar": true,
   "skip_h1_title": false,
   "title_cell": "Table of Contents",
   "title_sidebar": "Contents",
   "toc_cell": false,
   "toc_position": {},
   "toc_section_display": true,
   "toc_window_display": false
  }
 },
 "nbformat": 4,
 "nbformat_minor": 2
}
