{
 "cells": [
  {
   "attachments": {},
   "cell_type": "markdown",
   "metadata": {},
   "source": [
    "# arvancloud: clear\n",
    "\n",
    "https://docs.arvancloud.ir/fa/developer-tools/sdk/object-storage/upload-object/"
   ]
  },
  {
   "cell_type": "code",
   "execution_count": 1,
   "metadata": {},
   "outputs": [
    {
     "name": "stderr",
     "output_type": "stream",
     "text": [
      "🌀  bluer_objects-6.167.1.bluer_ai-12.168.1.bluer_objects-6.167.1.bluer_options-5.137.1.torch-2.2.2.Python 3.12.9.Darwin 23.6.0..Jupyter-Notebook,\n",
      "built on 02 June 2025, 22:41:05\n"
     ]
    }
   ],
   "source": [
    "import boto3\n",
    "from functools import reduce\n",
    "from tqdm import tqdm\n",
    "\n",
    "from bluer_options import string\n",
    "\n",
    "from bluer_objects.host import signature\n",
    "from bluer_objects import env\n",
    "from bluer_objects.storage import S3Interface\n",
    "from bluer_objects.logger import logger\n",
    "\n",
    "logger.info(f\"{'.'.join(signature())},\\nbuilt on {string.pretty_date()}\")"
   ]
  },
  {
   "cell_type": "code",
   "execution_count": 2,
   "metadata": {},
   "outputs": [],
   "source": [
    "storage = S3Interface()"
   ]
  },
  {
   "cell_type": "code",
   "execution_count": 3,
   "metadata": {},
   "outputs": [
    {
     "name": "stderr",
     "output_type": "stream",
     "text": [
      "🌀  850 object(s) to delete.\n"
     ]
    }
   ],
   "source": [
    "try:\n",
    "    s3 = boto3.client(\n",
    "        \"s3\",\n",
    "        endpoint_url=env.S3_STORAGE_ENDPOINT_URL,\n",
    "        aws_access_key_id=env.S3_STORAGE_AWS_ACCESS_KEY_ID,\n",
    "        aws_secret_access_key=env.S3_STORAGE_AWS_SECRET_ACCESS_KEY,\n",
    "    )\n",
    "\n",
    "    prefix = f\"test\"\n",
    "\n",
    "    paginator = s3.get_paginator(\"list_objects_v2\")\n",
    "    pages = paginator.paginate(\n",
    "        Bucket=env.S3_STORAGE_BUCKET,\n",
    "        Prefix=prefix,\n",
    "    )\n",
    "except Exception as e:\n",
    "    logger.error(e)\n",
    "    assert False\n",
    "\n",
    "list_of_objects = sorted(\n",
    "    list(set(reduce(\n",
    "        lambda x, y: x + y,\n",
    "        [\n",
    "            [\n",
    "                obj[\"Key\"].split(\"/\",1)[0]\n",
    "                for obj in page.get(\"Contents\", [])\n",
    "            ]\n",
    "            for page in pages\n",
    "        ],\n",
    "        [],\n",
    "    )\n",
    ")))\n",
    "\n",
    "logger.info(f\"{len(list_of_objects)} object(s) to delete.\")"
   ]
  },
  {
   "attachments": {},
   "cell_type": "markdown",
   "metadata": {},
   "source": [
    "---"
   ]
  },
  {
   "cell_type": "code",
   "execution_count": 4,
   "metadata": {},
   "outputs": [
    {
     "name": "stderr",
     "output_type": "stream",
     "text": [
      "  0%|          | 0/850 [00:00<?, ?it/s]🌀  S3Interface.delete(test-arvancloud-2025-05-29-15-07-36-e4lexw)\n",
      "  0%|          | 0/850 [00:00<?, ?it/s]\n"
     ]
    }
   ],
   "source": [
    "for object_name in tqdm(list_of_objects):\n",
    "    assert storage.delete(\n",
    "        object_name=object_name,\n",
    "        do_dryrun=False,\n",
    "    )\n",
    "    break"
   ]
  },
  {
   "attachments": {},
   "cell_type": "markdown",
   "metadata": {},
   "source": [
    "---"
   ]
  },
  {
   "cell_type": "code",
   "execution_count": 5,
   "metadata": {},
   "outputs": [],
   "source": [
    "# END"
   ]
  }
 ],
 "metadata": {
  "kernelspec": {
   "display_name": "base",
   "language": "python",
   "name": "python3"
  },
  "language_info": {
   "codemirror_mode": {
    "name": "ipython",
    "version": 3
   },
   "file_extension": ".py",
   "mimetype": "text/x-python",
   "name": "python",
   "nbconvert_exporter": "python",
   "pygments_lexer": "ipython3",
   "version": "3.12.9"
  },
  "toc": {
   "base_numbering": 1,
   "nav_menu": {},
   "number_sections": true,
   "sideBar": true,
   "skip_h1_title": false,
   "title_cell": "Table of Contents",
   "title_sidebar": "Contents",
   "toc_cell": false,
   "toc_position": {},
   "toc_section_display": true,
   "toc_window_display": false
  }
 },
 "nbformat": 4,
 "nbformat_minor": 2
}
