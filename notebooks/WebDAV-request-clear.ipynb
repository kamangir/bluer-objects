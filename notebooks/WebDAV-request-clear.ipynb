{
 "cells": [
  {
   "attachments": {},
   "cell_type": "markdown",
   "metadata": {},
   "source": [
    "# WebDAV - request: clear\n",
    "\n",
    "https://chatgpt.com/c/6824f8d3-d9c0-8005-a7fa-d646f812f4b7"
   ]
  },
  {
   "cell_type": "code",
   "execution_count": 1,
   "metadata": {},
   "outputs": [
    {
     "name": "stderr",
     "output_type": "stream",
     "text": [
      "🌀  bluer_objects-6.122.1.bluer_ai-12.141.1.bluer_objects-6.122.1.bluer_options-5.97.1.torch-2.2.2.Python 3.12.9.Darwin 23.6.0..Jupyter-Notebook,\n",
      "built on 16 May 2025, 14:42:54\n"
     ]
    }
   ],
   "source": [
    "from bluer_options import string\n",
    "\n",
    "from bluer_objects import objects\n",
    "from bluer_objects.host import signature\n",
    "from bluer_objects.testing import create_test_asset\n",
    "from bluer_objects.storage import WebDAVRequestInterface\n",
    "from bluer_objects import path\n",
    "from bluer_objects.logger import logger\n",
    "\n",
    "logger.info(f\"{'.'.join(signature())},\\nbuilt on {string.pretty_date()}\")"
   ]
  },
  {
   "cell_type": "code",
   "execution_count": 2,
   "metadata": {},
   "outputs": [],
   "source": [
    "storage = WebDAVRequestInterface()"
   ]
  },
  {
   "attachments": {},
   "cell_type": "markdown",
   "metadata": {},
   "source": [
    "---"
   ]
  },
  {
   "cell_type": "code",
   "execution_count": 3,
   "metadata": {},
   "outputs": [
    {
     "name": "stderr",
     "output_type": "stream",
     "text": [
      "🌀  WebDAVRequestInterface.clear()\n",
      "  0%|          | 0/77 [00:00<?, ?it/s]🌀  WebDAVRequestInterface.delete(test-WebDAV-2025-05-16-14-23-08-74pllb)\n",
      " 57%|█████▋    | 44/77 [00:01<00:01, 22.31it/s]🌀  WebDAVRequestInterface.delete(test_storage_webdav_request-2025-05-16-14-18-39-9a705e)\n",
      " 66%|██████▌   | 51/77 [00:03<00:02, 11.57it/s]🌀  WebDAVRequestInterface.delete(test_storage_webdav_request-2025-05-16-14-28-01-dksdne)\n",
      "100%|██████████| 77/77 [00:05<00:00, 12.98it/s]\n",
      "🌀  deleted 3 object(s).\n"
     ]
    }
   ],
   "source": [
    "assert storage.clear(do_dryrun=False)"
   ]
  },
  {
   "cell_type": "code",
   "execution_count": null,
   "metadata": {},
   "outputs": [],
   "source": []
  },
  {
   "attachments": {},
   "cell_type": "markdown",
   "metadata": {},
   "source": [
    "---"
   ]
  },
  {
   "cell_type": "code",
   "execution_count": 4,
   "metadata": {},
   "outputs": [],
   "source": [
    "# END"
   ]
  }
 ],
 "metadata": {
  "kernelspec": {
   "display_name": "base",
   "language": "python",
   "name": "python3"
  },
  "language_info": {
   "codemirror_mode": {
    "name": "ipython",
    "version": 3
   },
   "file_extension": ".py",
   "mimetype": "text/x-python",
   "name": "python",
   "nbconvert_exporter": "python",
   "pygments_lexer": "ipython3",
   "version": "3.12.9"
  },
  "toc": {
   "base_numbering": 1,
   "nav_menu": {},
   "number_sections": true,
   "sideBar": true,
   "skip_h1_title": false,
   "title_cell": "Table of Contents",
   "title_sidebar": "Contents",
   "toc_cell": false,
   "toc_position": {},
   "toc_section_display": true,
   "toc_window_display": false
  }
 },
 "nbformat": 4,
 "nbformat_minor": 2
}
