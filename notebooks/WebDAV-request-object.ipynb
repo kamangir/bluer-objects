{
 "cells": [
  {
   "attachments": {},
   "cell_type": "markdown",
   "metadata": {},
   "source": [
    "# WebDAV - request: object\n",
    "\n",
    "https://chatgpt.com/c/6824cf43-6738-8005-8733-54b6a77f20ee"
   ]
  },
  {
   "cell_type": "code",
   "execution_count": 1,
   "metadata": {},
   "outputs": [
    {
     "name": "stderr",
     "output_type": "stream",
     "text": [
      "🌀  bluer_objects-6.122.1.bluer_ai-12.141.1.bluer_objects-6.122.1.bluer_options-5.97.1.torch-2.2.2.Python 3.12.9.Darwin 23.6.0..Jupyter-Notebook,\n",
      "built on 16 May 2025, 14:45:46\n"
     ]
    }
   ],
   "source": [
    "from bluer_options import string\n",
    "\n",
    "from bluer_objects import objects\n",
    "from bluer_objects.host import signature\n",
    "from bluer_objects.testing import create_test_asset\n",
    "from bluer_objects.storage import WebDAVRequestInterface\n",
    "from bluer_objects import path\n",
    "from bluer_objects.logger import logger\n",
    "\n",
    "logger.info(f\"{'.'.join(signature())},\\nbuilt on {string.pretty_date()}\")"
   ]
  },
  {
   "cell_type": "code",
   "execution_count": 2,
   "metadata": {},
   "outputs": [],
   "source": [
    "storage = WebDAVRequestInterface()"
   ]
  },
  {
   "cell_type": "code",
   "execution_count": 3,
   "metadata": {},
   "outputs": [
    {
     "name": "stderr",
     "output_type": "stream",
     "text": [
      "🌀  📂 test-WebDAV-2025-05-16-14-45-46-yuv5w3\n"
     ]
    }
   ],
   "source": [
    "object_name = objects.unique_object(\"test-WebDAV\")\n",
    "\n",
    "local_path=objects.object_path(object_name=object_name)"
   ]
  },
  {
   "cell_type": "code",
   "execution_count": 4,
   "metadata": {},
   "outputs": [
    {
     "name": "stderr",
     "output_type": "stream",
     "text": [
      "🌀  bluer_objects.testing.functions.create_test_asset: test-WebDAV-2025-05-16-14-45-46-yuv5w3\n",
      "🌀  bluer_objects.file.save.save_image: 512x512x3:uint8 -> /Users/kamangir/storage/abcli/test-WebDAV-2025-05-16-14-45-46-yuv5w3/test-00.png\n",
      "🌀  bluer_objects.file.save.save_image: 512x512x3:uint8 -> /Users/kamangir/storage/abcli/test-WebDAV-2025-05-16-14-45-46-yuv5w3/test-01.png\n",
      "🌀  bluer_objects.file.save.save_image: 512x512x3:uint8 -> /Users/kamangir/storage/abcli/test-WebDAV-2025-05-16-14-45-46-yuv5w3/test-02.png\n",
      "🌀  bluer_objects.file.save.save_image: 512x512x3:uint8 -> /Users/kamangir/storage/abcli/test-WebDAV-2025-05-16-14-45-46-yuv5w3/test-03.png\n",
      "🌀  bluer_objects.file.save.save_image: 512x512x3:uint8 -> /Users/kamangir/storage/abcli/test-WebDAV-2025-05-16-14-45-46-yuv5w3/test-04.png\n",
      "🌀  bluer_objects.file.save.save_image: 512x512x3:uint8 -> /Users/kamangir/storage/abcli/test-WebDAV-2025-05-16-14-45-46-yuv5w3/test-05.png\n",
      "🌀  bluer_objects.file.save.save_image: 512x512x3:uint8 -> /Users/kamangir/storage/abcli/test-WebDAV-2025-05-16-14-45-46-yuv5w3/test-06.png\n",
      "🌀  bluer_objects.file.save.save_image: 512x512x3:uint8 -> /Users/kamangir/storage/abcli/test-WebDAV-2025-05-16-14-45-46-yuv5w3/test-07.png\n",
      "🌀  bluer_objects.file.save.save_image: 512x512x3:uint8 -> /Users/kamangir/storage/abcli/test-WebDAV-2025-05-16-14-45-46-yuv5w3/test-08.png\n",
      "🌀  bluer_objects.file.save.save_image: 512x512x3:uint8 -> /Users/kamangir/storage/abcli/test-WebDAV-2025-05-16-14-45-46-yuv5w3/test-09.png\n",
      "🌀  bluer_objects.file.save.save_yaml: 7pqtt4um00, 0soauqj7hz, lnxue37gf0, 46tkywpdkb, 1lf1ah1feu, v668t5n13h, m9w0g67hav, 5152muunvu, 0im9ib18rd, vp7osy57p5 -> /Users/kamangir/storage/abcli/test-WebDAV-2025-05-16-14-45-46-yuv5w3/this.yaml.\n",
      "🌀  bluer_objects.file.save.save_yaml: 7pqtt4um00, 0soauqj7hz, lnxue37gf0, 46tkywpdkb, 1lf1ah1feu, v668t5n13h, m9w0g67hav, 5152muunvu, 0im9ib18rd, vp7osy57p5 -> /Users/kamangir/storage/abcli/test-WebDAV-2025-05-16-14-45-46-yuv5w3/that.yaml.\n",
      "🌀  bluer_objects.file.save.save_yaml: 7pqtt4um00, 0soauqj7hz, lnxue37gf0, 46tkywpdkb, 1lf1ah1feu, v668t5n13h, m9w0g67hav, 5152muunvu, 0im9ib18rd, vp7osy57p5 -> /Users/kamangir/storage/abcli/test-WebDAV-2025-05-16-14-45-46-yuv5w3/subfolder/this.yaml.\n",
      "🌀  bluer_objects.file.save.save_yaml: 7pqtt4um00, 0soauqj7hz, lnxue37gf0, 46tkywpdkb, 1lf1ah1feu, v668t5n13h, m9w0g67hav, 5152muunvu, 0im9ib18rd, vp7osy57p5 -> /Users/kamangir/storage/abcli/test-WebDAV-2025-05-16-14-45-46-yuv5w3/subfolder/that.yaml.\n",
      "🌀  bluer_objects.file.save.save_yaml: 7pqtt4um00, 0soauqj7hz, lnxue37gf0, 46tkywpdkb, 1lf1ah1feu, v668t5n13h, m9w0g67hav, 5152muunvu, 0im9ib18rd, vp7osy57p5 -> /Users/kamangir/storage/abcli/test-WebDAV-2025-05-16-14-45-46-yuv5w3/test.yaml.\n"
     ]
    }
   ],
   "source": [
    "assert create_test_asset(object_name)"
   ]
  },
  {
   "attachments": {},
   "cell_type": "markdown",
   "metadata": {},
   "source": [
    "---"
   ]
  },
  {
   "cell_type": "markdown",
   "metadata": {},
   "source": [
    "# ls"
   ]
  },
  {
   "cell_type": "code",
   "execution_count": 5,
   "metadata": {},
   "outputs": [
    {
     "name": "stderr",
     "output_type": "stream",
     "text": [
      "🌀  16 file(s)\n",
      "🌀  #  1: subfolder/that.yaml\n",
      "🌀  #  2: subfolder/this.yaml\n",
      "🌀  #  3: test-00.png\n",
      "🌀  #  4: test-01.png\n",
      "🌀  #  5: test-02.png\n",
      "🌀  #  6: test-03.png\n",
      "🌀  #  7: test-04.png\n",
      "🌀  #  8: test-05.png\n",
      "🌀  #  9: test-06.png\n",
      "🌀  # 10: test-07.png\n",
      "🌀  # 11: test-08.png\n",
      "🌀  # 12: test-09.png\n",
      "🌀  # 13: test.json\n",
      "🌀  # 14: test.yaml\n",
      "🌀  # 15: that.yaml\n",
      "🌀  # 16: this.yaml\n"
     ]
    }
   ],
   "source": [
    "success, list_of_files = storage.ls(object_name=object_name, where=\"local\")\n",
    "assert success\n",
    "\n",
    "logger.info(\"{} file(s)\".format(len(list_of_files)))\n",
    "for index, filename in enumerate(list_of_files):\n",
    "    logger.info(\"#{: 3d}: {}\".format(index+1, filename))"
   ]
  },
  {
   "cell_type": "code",
   "execution_count": 6,
   "metadata": {},
   "outputs": [
    {
     "name": "stderr",
     "output_type": "stream",
     "text": [
      "🌀  0 file(s)\n"
     ]
    }
   ],
   "source": [
    "success, list_of_files = storage.ls(object_name=object_name, where=\"cloud\")\n",
    "assert success\n",
    "\n",
    "logger.info(\"{} file(s)\".format(len(list_of_files)))\n",
    "for index, filename in enumerate(list_of_files):\n",
    "    logger.info(\"#{: 3d}: {}\".format(index+1, filename))"
   ]
  },
  {
   "cell_type": "markdown",
   "metadata": {},
   "source": [
    "# upload"
   ]
  },
  {
   "cell_type": "code",
   "execution_count": 7,
   "metadata": {},
   "outputs": [
    {
     "name": "stderr",
     "output_type": "stream",
     "text": [
      "🌀  WebDAVRequestInterface.mkdir /test-WebDAV-2025-05-16-14-45-46-yuv5w3/\n",
      "🌀  WebDAVRequestInterface.mkdir /test-WebDAV-2025-05-16-14-45-46-yuv5w3/subfolder/\n",
      "🌀  WebDAVRequestInterface.upload test-WebDAV-2025-05-16-14-45-46-yuv5w3/subfolder/that.yaml\n",
      "🌀  WebDAVRequestInterface.upload test-WebDAV-2025-05-16-14-45-46-yuv5w3/subfolder/this.yaml\n",
      "🌀  WebDAVRequestInterface.upload test-WebDAV-2025-05-16-14-45-46-yuv5w3/test.yaml\n",
      "🌀  WebDAVRequestInterface.upload test-WebDAV-2025-05-16-14-45-46-yuv5w3/that.yaml\n",
      "🌀  WebDAVRequestInterface.upload test-WebDAV-2025-05-16-14-45-46-yuv5w3/test.json\n",
      "🌀  WebDAVRequestInterface.upload test-WebDAV-2025-05-16-14-45-46-yuv5w3/test-09.png\n",
      "🌀  WebDAVRequestInterface.upload test-WebDAV-2025-05-16-14-45-46-yuv5w3/test-08.png\n",
      "🌀  WebDAVRequestInterface.upload test-WebDAV-2025-05-16-14-45-46-yuv5w3/test-05.png\n",
      "🌀  WebDAVRequestInterface.upload test-WebDAV-2025-05-16-14-45-46-yuv5w3/test-04.png\n",
      "🌀  WebDAVRequestInterface.upload test-WebDAV-2025-05-16-14-45-46-yuv5w3/test-06.png\n",
      "🌀  WebDAVRequestInterface.upload test-WebDAV-2025-05-16-14-45-46-yuv5w3/test-07.png\n",
      "🌀  WebDAVRequestInterface.upload test-WebDAV-2025-05-16-14-45-46-yuv5w3/test-03.png\n",
      "🌀  WebDAVRequestInterface.upload test-WebDAV-2025-05-16-14-45-46-yuv5w3/test-02.png\n",
      "🌀  WebDAVRequestInterface.upload test-WebDAV-2025-05-16-14-45-46-yuv5w3/test-00.png\n",
      "🌀  WebDAVRequestInterface.upload test-WebDAV-2025-05-16-14-45-46-yuv5w3/test-01.png\n",
      "🌀  WebDAVRequestInterface.upload test-WebDAV-2025-05-16-14-45-46-yuv5w3/this.yaml\n"
     ]
    }
   ],
   "source": [
    "assert storage.upload(object_name=object_name)"
   ]
  },
  {
   "cell_type": "code",
   "execution_count": 8,
   "metadata": {},
   "outputs": [
    {
     "name": "stderr",
     "output_type": "stream",
     "text": [
      "🌀  16 file(s)\n",
      "🌀  #  1: subfolder/that.yaml\n",
      "🌀  #  2: subfolder/this.yaml\n",
      "🌀  #  3: test-00.png\n",
      "🌀  #  4: test-01.png\n",
      "🌀  #  5: test-02.png\n",
      "🌀  #  6: test-03.png\n",
      "🌀  #  7: test-04.png\n",
      "🌀  #  8: test-05.png\n",
      "🌀  #  9: test-06.png\n",
      "🌀  # 10: test-07.png\n",
      "🌀  # 11: test-08.png\n",
      "🌀  # 12: test-09.png\n",
      "🌀  # 13: test.json\n",
      "🌀  # 14: test.yaml\n",
      "🌀  # 15: that.yaml\n",
      "🌀  # 16: this.yaml\n"
     ]
    }
   ],
   "source": [
    "success, list_of_files = storage.ls(object_name=object_name, where=\"cloud\")\n",
    "assert success\n",
    "\n",
    "logger.info(\"{} file(s)\".format(len(list_of_files)))\n",
    "for index, filename in enumerate(list_of_files):\n",
    "    logger.info(\"#{: 3d}: {}\".format(index+1, filename))"
   ]
  },
  {
   "cell_type": "code",
   "execution_count": 9,
   "metadata": {},
   "outputs": [],
   "source": [
    "assert path.delete(local_path)"
   ]
  },
  {
   "cell_type": "markdown",
   "metadata": {},
   "source": [
    "# download"
   ]
  },
  {
   "cell_type": "code",
   "execution_count": 10,
   "metadata": {},
   "outputs": [
    {
     "name": "stderr",
     "output_type": "stream",
     "text": [
      "  0%|          | 0/16 [00:00<?, ?it/s]🌀  WebDAVRequestInterface.download test-WebDAV-2025-05-16-14-45-46-yuv5w3/subfolder/that.yaml\n",
      "  6%|▋         | 1/16 [00:01<00:16,  1.13s/it]🌀  WebDAVRequestInterface.download test-WebDAV-2025-05-16-14-45-46-yuv5w3/subfolder/this.yaml\n",
      " 12%|█▎        | 2/16 [00:02<00:18,  1.32s/it]🌀  WebDAVRequestInterface.download test-WebDAV-2025-05-16-14-45-46-yuv5w3/test-00.png\n",
      " 19%|█▉        | 3/16 [00:09<00:49,  3.83s/it]🌀  WebDAVRequestInterface.download test-WebDAV-2025-05-16-14-45-46-yuv5w3/test-01.png\n",
      " 25%|██▌       | 4/16 [00:14<00:52,  4.38s/it]🌀  WebDAVRequestInterface.download test-WebDAV-2025-05-16-14-45-46-yuv5w3/test-02.png\n",
      " 31%|███▏      | 5/16 [00:21<00:59,  5.39s/it]🌀  WebDAVRequestInterface.download test-WebDAV-2025-05-16-14-45-46-yuv5w3/test-03.png\n",
      " 38%|███▊      | 6/16 [00:29<01:02,  6.20s/it]🌀  WebDAVRequestInterface.download test-WebDAV-2025-05-16-14-45-46-yuv5w3/test-04.png\n",
      " 44%|████▍     | 7/16 [00:39<01:05,  7.32s/it]🌀  WebDAVRequestInterface.download test-WebDAV-2025-05-16-14-45-46-yuv5w3/test-05.png\n",
      " 50%|█████     | 8/16 [00:41<00:45,  5.73s/it]🌀  WebDAVRequestInterface.download test-WebDAV-2025-05-16-14-45-46-yuv5w3/test-06.png\n",
      " 56%|█████▋    | 9/16 [00:45<00:36,  5.21s/it]🌀  WebDAVRequestInterface.download test-WebDAV-2025-05-16-14-45-46-yuv5w3/test-07.png\n",
      " 62%|██████▎   | 10/16 [00:51<00:31,  5.29s/it]🌀  WebDAVRequestInterface.download test-WebDAV-2025-05-16-14-45-46-yuv5w3/test-08.png\n",
      " 69%|██████▉   | 11/16 [00:59<00:30,  6.15s/it]🌀  WebDAVRequestInterface.download test-WebDAV-2025-05-16-14-45-46-yuv5w3/test-09.png\n",
      " 75%|███████▌  | 12/16 [01:06<00:26,  6.63s/it]🌀  WebDAVRequestInterface.download test-WebDAV-2025-05-16-14-45-46-yuv5w3/test.json\n",
      " 81%|████████▏ | 13/16 [01:09<00:16,  5.45s/it]🌀  WebDAVRequestInterface.download test-WebDAV-2025-05-16-14-45-46-yuv5w3/test.yaml\n",
      " 88%|████████▊ | 14/16 [01:11<00:08,  4.37s/it]🌀  WebDAVRequestInterface.download test-WebDAV-2025-05-16-14-45-46-yuv5w3/that.yaml\n",
      " 94%|█████████▍| 15/16 [01:14<00:03,  3.93s/it]🌀  WebDAVRequestInterface.download test-WebDAV-2025-05-16-14-45-46-yuv5w3/this.yaml\n",
      "100%|██████████| 16/16 [01:16<00:00,  4.81s/it]\n"
     ]
    }
   ],
   "source": [
    "assert storage.download(object_name=object_name)"
   ]
  },
  {
   "cell_type": "code",
   "execution_count": 11,
   "metadata": {},
   "outputs": [
    {
     "name": "stdout",
     "output_type": "stream",
     "text": [
      "\u001b[34msubfolder\u001b[m\u001b[m   test-02.png test-05.png test-08.png test.yaml\n",
      "test-00.png test-03.png test-06.png test-09.png that.yaml\n",
      "test-01.png test-04.png test-07.png test.json   this.yaml\n"
     ]
    }
   ],
   "source": [
    "! ls {local_path}"
   ]
  },
  {
   "cell_type": "markdown",
   "metadata": {},
   "source": [
    "# delete"
   ]
  },
  {
   "cell_type": "code",
   "execution_count": 12,
   "metadata": {},
   "outputs": [
    {
     "name": "stderr",
     "output_type": "stream",
     "text": [
      "🌀  WebDAVRequestInterface.delete(test-WebDAV-2025-05-16-14-45-46-yuv5w3)\n"
     ]
    }
   ],
   "source": [
    "assert storage.delete(\n",
    "    object_name=object_name,\n",
    "    do_dryrun=False,\n",
    ")"
   ]
  },
  {
   "cell_type": "code",
   "execution_count": 15,
   "metadata": {},
   "outputs": [
    {
     "name": "stderr",
     "output_type": "stream",
     "text": [
      "🌀  16 file(s)\n",
      "🌀  #  1: subfolder/that.yaml\n",
      "🌀  #  2: subfolder/this.yaml\n",
      "🌀  #  3: test-00.png\n",
      "🌀  #  4: test-01.png\n",
      "🌀  #  5: test-02.png\n",
      "🌀  #  6: test-03.png\n",
      "🌀  #  7: test-04.png\n",
      "🌀  #  8: test-05.png\n",
      "🌀  #  9: test-06.png\n",
      "🌀  # 10: test-07.png\n",
      "🌀  # 11: test-08.png\n",
      "🌀  # 12: test-09.png\n",
      "🌀  # 13: test.json\n",
      "🌀  # 14: test.yaml\n",
      "🌀  # 15: that.yaml\n",
      "🌀  # 16: this.yaml\n"
     ]
    }
   ],
   "source": [
    "success, list_of_files_cloud = storage.ls(\n",
    "    object_name=object_name,\n",
    "    where=\"cloud\",\n",
    ")\n",
    "\n",
    "logger.info(\"{} file(s)\".format(len(list_of_files)))\n",
    "for index, filename in enumerate(list_of_files):\n",
    "    logger.info(\"#{: 3d}: {}\".format(index+1, filename))"
   ]
  },
  {
   "attachments": {},
   "cell_type": "markdown",
   "metadata": {},
   "source": [
    "---"
   ]
  },
  {
   "cell_type": "code",
   "execution_count": 14,
   "metadata": {},
   "outputs": [],
   "source": [
    "# END"
   ]
  }
 ],
 "metadata": {
  "kernelspec": {
   "display_name": "base",
   "language": "python",
   "name": "python3"
  },
  "language_info": {
   "codemirror_mode": {
    "name": "ipython",
    "version": 3
   },
   "file_extension": ".py",
   "mimetype": "text/x-python",
   "name": "python",
   "nbconvert_exporter": "python",
   "pygments_lexer": "ipython3",
   "version": "3.12.9"
  },
  "toc": {
   "base_numbering": 1,
   "nav_menu": {},
   "number_sections": true,
   "sideBar": true,
   "skip_h1_title": false,
   "title_cell": "Table of Contents",
   "title_sidebar": "Contents",
   "toc_cell": false,
   "toc_position": {},
   "toc_section_display": true,
   "toc_window_display": false
  }
 },
 "nbformat": 4,
 "nbformat_minor": 2
}
