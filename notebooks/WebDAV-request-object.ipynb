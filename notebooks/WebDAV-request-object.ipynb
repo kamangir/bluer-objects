{
 "cells": [
  {
   "attachments": {},
   "cell_type": "markdown",
   "metadata": {},
   "source": [
    "# WebDAV - request: object\n",
    "\n",
    "https://chatgpt.com/c/6824cf43-6738-8005-8733-54b6a77f20ee"
   ]
  },
  {
   "cell_type": "code",
   "execution_count": 1,
   "metadata": {},
   "outputs": [
    {
     "name": "stderr",
     "output_type": "stream",
     "text": [
      "🌀  bluer_objects-6.119.1.bluer_ai-12.141.1.bluer_objects-6.119.1.bluer_options-5.97.1.torch-2.2.2.Python 3.12.9.Darwin 23.6.0..Jupyter-Notebook,\n",
      "built on 16 May 2025, 13:58:18\n"
     ]
    }
   ],
   "source": [
    "from bluer_options import string\n",
    "\n",
    "from bluer_objects import objects\n",
    "from bluer_objects.host import signature\n",
    "from bluer_objects.testing import create_test_asset\n",
    "from bluer_objects.storage import WebDAVRequestInterface\n",
    "from bluer_objects import path\n",
    "from bluer_objects.logger import logger\n",
    "\n",
    "logger.info(f\"{'.'.join(signature())},\\nbuilt on {string.pretty_date()}\")"
   ]
  },
  {
   "cell_type": "code",
   "execution_count": 2,
   "metadata": {},
   "outputs": [],
   "source": [
    "storage = WebDAVRequestInterface()"
   ]
  },
  {
   "cell_type": "code",
   "execution_count": 3,
   "metadata": {},
   "outputs": [
    {
     "name": "stderr",
     "output_type": "stream",
     "text": [
      "🌀  📂 test-WebDAV-2025-05-16-13-58-18-0qt3jb\n"
     ]
    }
   ],
   "source": [
    "object_name = objects.unique_object(\"test-WebDAV\")\n",
    "\n",
    "local_path=objects.object_path(object_name=object_name)"
   ]
  },
  {
   "cell_type": "code",
   "execution_count": 4,
   "metadata": {},
   "outputs": [
    {
     "name": "stderr",
     "output_type": "stream",
     "text": [
      "🌀  bluer_objects.testing.functions.create_test_asset: test-WebDAV-2025-05-16-13-58-18-0qt3jb\n",
      "🌀  bluer_objects.file.save.save_image: 512x512x3:uint8 -> /Users/kamangir/storage/abcli/test-WebDAV-2025-05-16-13-58-18-0qt3jb/test-00.png\n",
      "🌀  bluer_objects.file.save.save_image: 512x512x3:uint8 -> /Users/kamangir/storage/abcli/test-WebDAV-2025-05-16-13-58-18-0qt3jb/test-01.png\n",
      "🌀  bluer_objects.file.save.save_image: 512x512x3:uint8 -> /Users/kamangir/storage/abcli/test-WebDAV-2025-05-16-13-58-18-0qt3jb/test-02.png\n",
      "🌀  bluer_objects.file.save.save_image: 512x512x3:uint8 -> /Users/kamangir/storage/abcli/test-WebDAV-2025-05-16-13-58-18-0qt3jb/test-03.png\n",
      "🌀  bluer_objects.file.save.save_image: 512x512x3:uint8 -> /Users/kamangir/storage/abcli/test-WebDAV-2025-05-16-13-58-18-0qt3jb/test-04.png\n",
      "🌀  bluer_objects.file.save.save_image: 512x512x3:uint8 -> /Users/kamangir/storage/abcli/test-WebDAV-2025-05-16-13-58-18-0qt3jb/test-05.png\n",
      "🌀  bluer_objects.file.save.save_image: 512x512x3:uint8 -> /Users/kamangir/storage/abcli/test-WebDAV-2025-05-16-13-58-18-0qt3jb/test-06.png\n",
      "🌀  bluer_objects.file.save.save_image: 512x512x3:uint8 -> /Users/kamangir/storage/abcli/test-WebDAV-2025-05-16-13-58-18-0qt3jb/test-07.png\n",
      "🌀  bluer_objects.file.save.save_image: 512x512x3:uint8 -> /Users/kamangir/storage/abcli/test-WebDAV-2025-05-16-13-58-18-0qt3jb/test-08.png\n",
      "🌀  bluer_objects.file.save.save_image: 512x512x3:uint8 -> /Users/kamangir/storage/abcli/test-WebDAV-2025-05-16-13-58-18-0qt3jb/test-09.png\n",
      "🌀  bluer_objects.file.save.save_yaml: bxc3atxh46, l7s2xzymqd, dfdnkba9ew, vldcnsylyq, kub0pyu3es, g9e0y4hahs, m1nrxtm1eo, bdee3o4xwf, z24yw08t00, srcthbspgg -> /Users/kamangir/storage/abcli/test-WebDAV-2025-05-16-13-58-18-0qt3jb/this.yaml.\n",
      "🌀  bluer_objects.file.save.save_yaml: bxc3atxh46, l7s2xzymqd, dfdnkba9ew, vldcnsylyq, kub0pyu3es, g9e0y4hahs, m1nrxtm1eo, bdee3o4xwf, z24yw08t00, srcthbspgg -> /Users/kamangir/storage/abcli/test-WebDAV-2025-05-16-13-58-18-0qt3jb/that.yaml.\n",
      "🌀  bluer_objects.file.save.save_yaml: bxc3atxh46, l7s2xzymqd, dfdnkba9ew, vldcnsylyq, kub0pyu3es, g9e0y4hahs, m1nrxtm1eo, bdee3o4xwf, z24yw08t00, srcthbspgg -> /Users/kamangir/storage/abcli/test-WebDAV-2025-05-16-13-58-18-0qt3jb/subfolder/this.yaml.\n",
      "🌀  bluer_objects.file.save.save_yaml: bxc3atxh46, l7s2xzymqd, dfdnkba9ew, vldcnsylyq, kub0pyu3es, g9e0y4hahs, m1nrxtm1eo, bdee3o4xwf, z24yw08t00, srcthbspgg -> /Users/kamangir/storage/abcli/test-WebDAV-2025-05-16-13-58-18-0qt3jb/subfolder/that.yaml.\n",
      "🌀  bluer_objects.file.save.save_yaml: bxc3atxh46, l7s2xzymqd, dfdnkba9ew, vldcnsylyq, kub0pyu3es, g9e0y4hahs, m1nrxtm1eo, bdee3o4xwf, z24yw08t00, srcthbspgg -> /Users/kamangir/storage/abcli/test-WebDAV-2025-05-16-13-58-18-0qt3jb/test.yaml.\n"
     ]
    }
   ],
   "source": [
    "assert create_test_asset(object_name)"
   ]
  },
  {
   "attachments": {},
   "cell_type": "markdown",
   "metadata": {},
   "source": [
    "---"
   ]
  },
  {
   "cell_type": "markdown",
   "metadata": {},
   "source": [
    "# ls"
   ]
  },
  {
   "cell_type": "code",
   "execution_count": 5,
   "metadata": {},
   "outputs": [
    {
     "name": "stderr",
     "output_type": "stream",
     "text": [
      "🌀  16 file(s)\n",
      "🌀  #  1: subfolder/that.yaml\n",
      "🌀  #  2: subfolder/this.yaml\n",
      "🌀  #  3: test-00.png\n",
      "🌀  #  4: test-01.png\n",
      "🌀  #  5: test-02.png\n",
      "🌀  #  6: test-03.png\n",
      "🌀  #  7: test-04.png\n",
      "🌀  #  8: test-05.png\n",
      "🌀  #  9: test-06.png\n",
      "🌀  # 10: test-07.png\n",
      "🌀  # 11: test-08.png\n",
      "🌀  # 12: test-09.png\n",
      "🌀  # 13: test.json\n",
      "🌀  # 14: test.yaml\n",
      "🌀  # 15: that.yaml\n",
      "🌀  # 16: this.yaml\n"
     ]
    }
   ],
   "source": [
    "success, list_of_files = storage.ls(object_name=object_name, where=\"local\")\n",
    "assert success\n",
    "\n",
    "logger.info(\"{} file(s)\".format(len(list_of_files)))\n",
    "for index, filename in enumerate(list_of_files):\n",
    "    logger.info(\"#{: 3d}: {}\".format(index+1, filename))"
   ]
  },
  {
   "cell_type": "code",
   "execution_count": 6,
   "metadata": {},
   "outputs": [
    {
     "name": "stderr",
     "output_type": "stream",
     "text": [
      "🌀  0 file(s)\n"
     ]
    }
   ],
   "source": [
    "success, list_of_files = storage.ls(object_name=object_name, where=\"cloud\")\n",
    "assert success\n",
    "\n",
    "logger.info(\"{} file(s)\".format(len(list_of_files)))\n",
    "for index, filename in enumerate(list_of_files):\n",
    "    logger.info(\"#{: 3d}: {}\".format(index+1, filename))"
   ]
  },
  {
   "cell_type": "markdown",
   "metadata": {},
   "source": [
    "# upload"
   ]
  },
  {
   "cell_type": "code",
   "execution_count": 7,
   "metadata": {},
   "outputs": [
    {
     "name": "stderr",
     "output_type": "stream",
     "text": [
      "🌀  WebDAVRequestInterface.mkdir /test-WebDAV-2025-05-16-13-58-18-0qt3jb/\n",
      "🌀  WebDAVRequestInterface.mkdir /test-WebDAV-2025-05-16-13-58-18-0qt3jb/subfolder/\n",
      "🌀  WebDAVRequestInterface.upload test-WebDAV-2025-05-16-13-58-18-0qt3jb/subfolder/that.yaml\n",
      "🌀  WebDAVRequestInterface.upload test-WebDAV-2025-05-16-13-58-18-0qt3jb/subfolder/this.yaml\n",
      "🌀  WebDAVRequestInterface.upload test-WebDAV-2025-05-16-13-58-18-0qt3jb/test.yaml\n",
      "🌀  WebDAVRequestInterface.upload test-WebDAV-2025-05-16-13-58-18-0qt3jb/that.yaml\n",
      "🌀  WebDAVRequestInterface.upload test-WebDAV-2025-05-16-13-58-18-0qt3jb/test.json\n",
      "🌀  WebDAVRequestInterface.upload test-WebDAV-2025-05-16-13-58-18-0qt3jb/test-09.png\n",
      "🌀  WebDAVRequestInterface.upload test-WebDAV-2025-05-16-13-58-18-0qt3jb/test-08.png\n",
      "🌀  WebDAVRequestInterface.upload test-WebDAV-2025-05-16-13-58-18-0qt3jb/test-05.png\n",
      "🌀  WebDAVRequestInterface.upload test-WebDAV-2025-05-16-13-58-18-0qt3jb/test-04.png\n",
      "🌀  WebDAVRequestInterface.upload test-WebDAV-2025-05-16-13-58-18-0qt3jb/test-06.png\n",
      "🌀  WebDAVRequestInterface.upload test-WebDAV-2025-05-16-13-58-18-0qt3jb/test-07.png\n",
      "🌀  WebDAVRequestInterface.upload test-WebDAV-2025-05-16-13-58-18-0qt3jb/test-03.png\n",
      "🌀  WebDAVRequestInterface.upload test-WebDAV-2025-05-16-13-58-18-0qt3jb/test-02.png\n",
      "🌀  WebDAVRequestInterface.upload test-WebDAV-2025-05-16-13-58-18-0qt3jb/test-00.png\n",
      "🌀  WebDAVRequestInterface.upload test-WebDAV-2025-05-16-13-58-18-0qt3jb/test-01.png\n",
      "🌀  WebDAVRequestInterface.upload test-WebDAV-2025-05-16-13-58-18-0qt3jb/this.yaml\n"
     ]
    }
   ],
   "source": [
    "assert storage.upload(object_name=object_name)"
   ]
  },
  {
   "cell_type": "code",
   "execution_count": 8,
   "metadata": {},
   "outputs": [
    {
     "name": "stderr",
     "output_type": "stream",
     "text": [
      "🌀  16 file(s)\n",
      "🌀  #  1: subfolder/that.yaml\n",
      "🌀  #  2: subfolder/this.yaml\n",
      "🌀  #  3: test-00.png\n",
      "🌀  #  4: test-01.png\n",
      "🌀  #  5: test-02.png\n",
      "🌀  #  6: test-03.png\n",
      "🌀  #  7: test-04.png\n",
      "🌀  #  8: test-05.png\n",
      "🌀  #  9: test-06.png\n",
      "🌀  # 10: test-07.png\n",
      "🌀  # 11: test-08.png\n",
      "🌀  # 12: test-09.png\n",
      "🌀  # 13: test.json\n",
      "🌀  # 14: test.yaml\n",
      "🌀  # 15: that.yaml\n",
      "🌀  # 16: this.yaml\n"
     ]
    }
   ],
   "source": [
    "success, list_of_files = storage.ls(object_name=object_name, where=\"cloud\")\n",
    "assert success\n",
    "\n",
    "logger.info(\"{} file(s)\".format(len(list_of_files)))\n",
    "for index, filename in enumerate(list_of_files):\n",
    "    logger.info(\"#{: 3d}: {}\".format(index+1, filename))"
   ]
  },
  {
   "cell_type": "code",
   "execution_count": 9,
   "metadata": {},
   "outputs": [],
   "source": [
    "assert path.delete(local_path)"
   ]
  },
  {
   "cell_type": "markdown",
   "metadata": {},
   "source": [
    "# download"
   ]
  },
  {
   "cell_type": "code",
   "execution_count": 10,
   "metadata": {},
   "outputs": [
    {
     "name": "stderr",
     "output_type": "stream",
     "text": [
      "  0%|          | 0/16 [00:00<?, ?it/s]🌀  WebDAVRequestInterface.download test-WebDAV-2025-05-16-13-58-18-0qt3jb/subfolder/that.yaml\n",
      "  6%|▋         | 1/16 [00:01<00:18,  1.23s/it]🌀  WebDAVRequestInterface.download test-WebDAV-2025-05-16-13-58-18-0qt3jb/subfolder/this.yaml\n",
      " 12%|█▎        | 2/16 [00:02<00:16,  1.18s/it]🌀  WebDAVRequestInterface.download test-WebDAV-2025-05-16-13-58-18-0qt3jb/test-00.png\n",
      " 19%|█▉        | 3/16 [00:04<00:21,  1.63s/it]🌀  WebDAVRequestInterface.download test-WebDAV-2025-05-16-13-58-18-0qt3jb/test-01.png\n",
      " 25%|██▌       | 4/16 [00:06<00:20,  1.74s/it]🌀  WebDAVRequestInterface.download test-WebDAV-2025-05-16-13-58-18-0qt3jb/test-02.png\n",
      " 31%|███▏      | 5/16 [00:08<00:20,  1.82s/it]🌀  WebDAVRequestInterface.download test-WebDAV-2025-05-16-13-58-18-0qt3jb/test-03.png\n",
      " 38%|███▊      | 6/16 [00:11<00:23,  2.34s/it]🌀  WebDAVRequestInterface.download test-WebDAV-2025-05-16-13-58-18-0qt3jb/test-04.png\n",
      " 44%|████▍     | 7/16 [00:14<00:22,  2.48s/it]🌀  WebDAVRequestInterface.download test-WebDAV-2025-05-16-13-58-18-0qt3jb/test-05.png\n",
      " 50%|█████     | 8/16 [00:16<00:17,  2.19s/it]🌀  WebDAVRequestInterface.download test-WebDAV-2025-05-16-13-58-18-0qt3jb/test-06.png\n",
      " 56%|█████▋    | 9/16 [00:17<00:14,  2.01s/it]🌀  WebDAVRequestInterface.download test-WebDAV-2025-05-16-13-58-18-0qt3jb/test-07.png\n",
      " 62%|██████▎   | 10/16 [00:19<00:11,  1.92s/it]🌀  WebDAVRequestInterface.download test-WebDAV-2025-05-16-13-58-18-0qt3jb/test-08.png\n",
      " 69%|██████▉   | 11/16 [00:20<00:09,  1.80s/it]🌀  WebDAVRequestInterface.download test-WebDAV-2025-05-16-13-58-18-0qt3jb/test-09.png\n",
      " 75%|███████▌  | 12/16 [00:22<00:07,  1.83s/it]🌀  WebDAVRequestInterface.download test-WebDAV-2025-05-16-13-58-18-0qt3jb/test.json\n",
      " 81%|████████▏ | 13/16 [00:24<00:04,  1.63s/it]🌀  WebDAVRequestInterface.download test-WebDAV-2025-05-16-13-58-18-0qt3jb/test.yaml\n",
      " 88%|████████▊ | 14/16 [00:25<00:02,  1.44s/it]🌀  WebDAVRequestInterface.download test-WebDAV-2025-05-16-13-58-18-0qt3jb/that.yaml\n",
      " 94%|█████████▍| 15/16 [00:26<00:01,  1.31s/it]🌀  WebDAVRequestInterface.download test-WebDAV-2025-05-16-13-58-18-0qt3jb/this.yaml\n",
      "100%|██████████| 16/16 [00:27<00:00,  1.69s/it]\n"
     ]
    }
   ],
   "source": [
    "assert storage.download(object_name=object_name)"
   ]
  },
  {
   "cell_type": "code",
   "execution_count": 11,
   "metadata": {},
   "outputs": [
    {
     "name": "stdout",
     "output_type": "stream",
     "text": [
      "\u001b[34msubfolder\u001b[m\u001b[m   test-02.png test-05.png test-08.png test.yaml\n",
      "test-00.png test-03.png test-06.png test-09.png that.yaml\n",
      "test-01.png test-04.png test-07.png test.json   this.yaml\n"
     ]
    }
   ],
   "source": [
    "! ls {local_path}"
   ]
  },
  {
   "attachments": {},
   "cell_type": "markdown",
   "metadata": {},
   "source": [
    "---"
   ]
  },
  {
   "cell_type": "code",
   "execution_count": 12,
   "metadata": {},
   "outputs": [],
   "source": [
    "# END"
   ]
  }
 ],
 "metadata": {
  "kernelspec": {
   "display_name": "base",
   "language": "python",
   "name": "python3"
  },
  "language_info": {
   "codemirror_mode": {
    "name": "ipython",
    "version": 3
   },
   "file_extension": ".py",
   "mimetype": "text/x-python",
   "name": "python",
   "nbconvert_exporter": "python",
   "pygments_lexer": "ipython3",
   "version": "3.12.9"
  },
  "toc": {
   "base_numbering": 1,
   "nav_menu": {},
   "number_sections": true,
   "sideBar": true,
   "skip_h1_title": false,
   "title_cell": "Table of Contents",
   "title_sidebar": "Contents",
   "toc_cell": false,
   "toc_position": {},
   "toc_section_display": true,
   "toc_window_display": false
  }
 },
 "nbformat": 4,
 "nbformat_minor": 2
}
