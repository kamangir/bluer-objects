{
 "cells": [
  {
   "attachments": {},
   "cell_type": "markdown",
   "metadata": {},
   "source": [
    "# WebDAV - request: object\n",
    "\n",
    "https://chatgpt.com/c/6824cf43-6738-8005-8733-54b6a77f20ee"
   ]
  },
  {
   "cell_type": "code",
   "execution_count": 1,
   "metadata": {},
   "outputs": [
    {
     "name": "stderr",
     "output_type": "stream",
     "text": [
      "🌀  bluer_objects-6.110.1.bluer_ai-12.141.1.bluer_objects-6.110.1.bluer_options-5.97.1.torch-2.2.2.Python 3.12.9.Darwin 23.6.0..Jupyter-Notebook,\n",
      "built on 14 May 2025, 23:13:58\n"
     ]
    }
   ],
   "source": [
    "from bluer_options import string\n",
    "\n",
    "from bluer_objects import objects\n",
    "from bluer_objects.host import signature\n",
    "from bluer_objects.testing import create_test_asset\n",
    "from bluer_objects.storage import WebDAVRequestInterface\n",
    "from bluer_objects import path\n",
    "from bluer_objects.logger import logger\n",
    "\n",
    "logger.info(f\"{'.'.join(signature())},\\nbuilt on {string.pretty_date()}\")"
   ]
  },
  {
   "cell_type": "code",
   "execution_count": 2,
   "metadata": {},
   "outputs": [],
   "source": [
    "storage = WebDAVRequestInterface()"
   ]
  },
  {
   "cell_type": "code",
   "execution_count": 3,
   "metadata": {},
   "outputs": [
    {
     "name": "stderr",
     "output_type": "stream",
     "text": [
      "🌀  📂 test-WebDAV-2025-05-14-23-13-58-ubg7cf\n"
     ]
    }
   ],
   "source": [
    "object_name = objects.unique_object(\"test-WebDAV\")\n",
    "\n",
    "local_path=objects.object_path(object_name=object_name)"
   ]
  },
  {
   "cell_type": "code",
   "execution_count": 4,
   "metadata": {},
   "outputs": [
    {
     "name": "stderr",
     "output_type": "stream",
     "text": [
      "🌀  bluer_objects.testing.functions.create_test_asset: test-WebDAV-2025-05-14-23-13-58-ubg7cf\n",
      "🌀  bluer_objects.file.save.save_image: 512x512x3:uint8 -> /Users/kamangir/storage/abcli/test-WebDAV-2025-05-14-23-13-58-ubg7cf/test-00.png\n",
      "🌀  bluer_objects.file.save.save_image: 512x512x3:uint8 -> /Users/kamangir/storage/abcli/test-WebDAV-2025-05-14-23-13-58-ubg7cf/test-01.png\n",
      "🌀  bluer_objects.file.save.save_image: 512x512x3:uint8 -> /Users/kamangir/storage/abcli/test-WebDAV-2025-05-14-23-13-58-ubg7cf/test-02.png\n",
      "🌀  bluer_objects.file.save.save_image: 512x512x3:uint8 -> /Users/kamangir/storage/abcli/test-WebDAV-2025-05-14-23-13-58-ubg7cf/test-03.png\n",
      "🌀  bluer_objects.file.save.save_image: 512x512x3:uint8 -> /Users/kamangir/storage/abcli/test-WebDAV-2025-05-14-23-13-58-ubg7cf/test-04.png\n",
      "🌀  bluer_objects.file.save.save_image: 512x512x3:uint8 -> /Users/kamangir/storage/abcli/test-WebDAV-2025-05-14-23-13-58-ubg7cf/test-05.png\n",
      "🌀  bluer_objects.file.save.save_image: 512x512x3:uint8 -> /Users/kamangir/storage/abcli/test-WebDAV-2025-05-14-23-13-58-ubg7cf/test-06.png\n",
      "🌀  bluer_objects.file.save.save_image: 512x512x3:uint8 -> /Users/kamangir/storage/abcli/test-WebDAV-2025-05-14-23-13-58-ubg7cf/test-07.png\n",
      "🌀  bluer_objects.file.save.save_image: 512x512x3:uint8 -> /Users/kamangir/storage/abcli/test-WebDAV-2025-05-14-23-13-58-ubg7cf/test-08.png\n",
      "🌀  bluer_objects.file.save.save_image: 512x512x3:uint8 -> /Users/kamangir/storage/abcli/test-WebDAV-2025-05-14-23-13-58-ubg7cf/test-09.png\n",
      "🌀  bluer_objects.file.save.save_yaml: ncxfq3wvkz, rjtqeyb438, j3s9vamukb, 61akrfm4mw, 38bylaf5vu, 82dlu4mdx6, 1or4v4zm0x, x901panoz6, b5fofsqujo, h73f705xju -> /Users/kamangir/storage/abcli/test-WebDAV-2025-05-14-23-13-58-ubg7cf/this.yaml.\n",
      "🌀  bluer_objects.file.save.save_yaml: ncxfq3wvkz, rjtqeyb438, j3s9vamukb, 61akrfm4mw, 38bylaf5vu, 82dlu4mdx6, 1or4v4zm0x, x901panoz6, b5fofsqujo, h73f705xju -> /Users/kamangir/storage/abcli/test-WebDAV-2025-05-14-23-13-58-ubg7cf/that.yaml.\n",
      "🌀  bluer_objects.file.save.save_yaml: ncxfq3wvkz, rjtqeyb438, j3s9vamukb, 61akrfm4mw, 38bylaf5vu, 82dlu4mdx6, 1or4v4zm0x, x901panoz6, b5fofsqujo, h73f705xju -> /Users/kamangir/storage/abcli/test-WebDAV-2025-05-14-23-13-58-ubg7cf/subfolder/this.yaml.\n",
      "🌀  bluer_objects.file.save.save_yaml: ncxfq3wvkz, rjtqeyb438, j3s9vamukb, 61akrfm4mw, 38bylaf5vu, 82dlu4mdx6, 1or4v4zm0x, x901panoz6, b5fofsqujo, h73f705xju -> /Users/kamangir/storage/abcli/test-WebDAV-2025-05-14-23-13-58-ubg7cf/subfolder/that.yaml.\n",
      "🌀  bluer_objects.file.save.save_yaml: ncxfq3wvkz, rjtqeyb438, j3s9vamukb, 61akrfm4mw, 38bylaf5vu, 82dlu4mdx6, 1or4v4zm0x, x901panoz6, b5fofsqujo, h73f705xju -> /Users/kamangir/storage/abcli/test-WebDAV-2025-05-14-23-13-58-ubg7cf/test.yaml.\n"
     ]
    }
   ],
   "source": [
    "assert create_test_asset(object_name)"
   ]
  },
  {
   "attachments": {},
   "cell_type": "markdown",
   "metadata": {},
   "source": [
    "---"
   ]
  },
  {
   "cell_type": "markdown",
   "metadata": {},
   "source": [
    "# upload"
   ]
  },
  {
   "cell_type": "code",
   "execution_count": 5,
   "metadata": {},
   "outputs": [
    {
     "name": "stderr",
     "output_type": "stream",
     "text": [
      "🌀  WebDAVRequestInterface.mkdir /test-WebDAV-2025-05-14-23-13-58-ubg7cf/\n",
      "🌀  WebDAVRequestInterface.mkdir /test-WebDAV-2025-05-14-23-13-58-ubg7cf/subfolder/\n",
      "🌀  WebDAVRequestInterface.upload test-WebDAV-2025-05-14-23-13-58-ubg7cf/subfolder/that.yaml\n",
      "🌀  WebDAVRequestInterface.upload test-WebDAV-2025-05-14-23-13-58-ubg7cf/subfolder/this.yaml\n",
      "🌀  WebDAVRequestInterface.upload test-WebDAV-2025-05-14-23-13-58-ubg7cf/test.yaml\n",
      "🌀  WebDAVRequestInterface.upload test-WebDAV-2025-05-14-23-13-58-ubg7cf/that.yaml\n",
      "🌀  WebDAVRequestInterface.upload test-WebDAV-2025-05-14-23-13-58-ubg7cf/test.json\n",
      "🌀  WebDAVRequestInterface.upload test-WebDAV-2025-05-14-23-13-58-ubg7cf/test-09.png\n",
      "🌀  WebDAVRequestInterface.upload test-WebDAV-2025-05-14-23-13-58-ubg7cf/test-08.png\n",
      "🌀  WebDAVRequestInterface.upload test-WebDAV-2025-05-14-23-13-58-ubg7cf/test-05.png\n",
      "🌀  WebDAVRequestInterface.upload test-WebDAV-2025-05-14-23-13-58-ubg7cf/test-04.png\n",
      "🌀  WebDAVRequestInterface.upload test-WebDAV-2025-05-14-23-13-58-ubg7cf/test-06.png\n",
      "🌀  WebDAVRequestInterface.upload test-WebDAV-2025-05-14-23-13-58-ubg7cf/test-07.png\n",
      "🌀  WebDAVRequestInterface.upload test-WebDAV-2025-05-14-23-13-58-ubg7cf/test-03.png\n",
      "🌀  WebDAVRequestInterface.upload test-WebDAV-2025-05-14-23-13-58-ubg7cf/test-02.png\n",
      "🌀  WebDAVRequestInterface.upload test-WebDAV-2025-05-14-23-13-58-ubg7cf/test-00.png\n",
      "🌀  WebDAVRequestInterface.upload test-WebDAV-2025-05-14-23-13-58-ubg7cf/test-01.png\n",
      "🌀  WebDAVRequestInterface.upload test-WebDAV-2025-05-14-23-13-58-ubg7cf/this.yaml\n"
     ]
    }
   ],
   "source": [
    "assert storage.upload(object_name=object_name)"
   ]
  },
  {
   "cell_type": "code",
   "execution_count": 6,
   "metadata": {},
   "outputs": [],
   "source": [
    "assert path.delete(local_path)"
   ]
  },
  {
   "cell_type": "markdown",
   "metadata": {},
   "source": [
    "# download"
   ]
  },
  {
   "cell_type": "code",
   "execution_count": 7,
   "metadata": {},
   "outputs": [
    {
     "name": "stderr",
     "output_type": "stream",
     "text": [
      "❗️ 🌀  not implemented\n"
     ]
    },
    {
     "ename": "AssertionError",
     "evalue": "",
     "output_type": "error",
     "traceback": [
      "\u001b[31m---------------------------------------------------------------------------\u001b[39m",
      "\u001b[31mAssertionError\u001b[39m                            Traceback (most recent call last)",
      "\u001b[36mCell\u001b[39m\u001b[36m \u001b[39m\u001b[32mIn[7]\u001b[39m\u001b[32m, line 1\u001b[39m\n\u001b[32m----> \u001b[39m\u001b[32m1\u001b[39m \u001b[38;5;28;01massert\u001b[39;00m storage.download(object_name=object_name)\n",
      "\u001b[31mAssertionError\u001b[39m: "
     ]
    }
   ],
   "source": [
    "assert storage.download(object_name=object_name)\n"
   ]
  },
  {
   "cell_type": "code",
   "execution_count": null,
   "metadata": {},
   "outputs": [],
   "source": [
    "! ls {local_path}"
   ]
  },
  {
   "attachments": {},
   "cell_type": "markdown",
   "metadata": {},
   "source": [
    "---"
   ]
  },
  {
   "cell_type": "code",
   "execution_count": null,
   "metadata": {},
   "outputs": [],
   "source": [
    "# END"
   ]
  }
 ],
 "metadata": {
  "kernelspec": {
   "display_name": "base",
   "language": "python",
   "name": "python3"
  },
  "language_info": {
   "codemirror_mode": {
    "name": "ipython",
    "version": 3
   },
   "file_extension": ".py",
   "mimetype": "text/x-python",
   "name": "python",
   "nbconvert_exporter": "python",
   "pygments_lexer": "ipython3",
   "version": "3.12.9"
  },
  "toc": {
   "base_numbering": 1,
   "nav_menu": {},
   "number_sections": true,
   "sideBar": true,
   "skip_h1_title": false,
   "title_cell": "Table of Contents",
   "title_sidebar": "Contents",
   "toc_cell": false,
   "toc_position": {},
   "toc_section_display": true,
   "toc_window_display": false
  }
 },
 "nbformat": 4,
 "nbformat_minor": 2
}
