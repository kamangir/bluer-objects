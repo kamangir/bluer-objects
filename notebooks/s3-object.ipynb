{
 "cells": [
  {
   "attachments": {},
   "cell_type": "markdown",
   "metadata": {},
   "source": [
    "# WebDAV - request: object\n",
    "\n",
    "https://chatgpt.com/c/6824cf43-6738-8005-8733-54b6a77f20ee"
   ]
  },
  {
   "cell_type": "code",
   "execution_count": 1,
   "metadata": {},
   "outputs": [
    {
     "name": "stderr",
     "output_type": "stream",
     "text": [
      "🌀  bluer_objects-6.148.1.bluer_ai-12.160.1.bluer_objects-6.148.1.bluer_options-5.127.1.torch-2.2.2.Python 3.12.9.Darwin 23.6.0..Jupyter-Notebook,\n",
      "built on 29 May 2025, 16:46:19\n"
     ]
    }
   ],
   "source": [
    "from bluer_options import string\n",
    "\n",
    "from bluer_objects import objects\n",
    "from bluer_objects.host import signature\n",
    "from bluer_objects.testing import create_test_asset\n",
    "from bluer_objects.storage import S3Interface\n",
    "from bluer_objects import path\n",
    "from bluer_objects.logger import logger\n",
    "\n",
    "logger.info(f\"{'.'.join(signature())},\\nbuilt on {string.pretty_date()}\")"
   ]
  },
  {
   "cell_type": "code",
   "execution_count": 2,
   "metadata": {},
   "outputs": [],
   "source": [
    "storage = S3Interface()"
   ]
  },
  {
   "cell_type": "code",
   "execution_count": 3,
   "metadata": {},
   "outputs": [
    {
     "name": "stderr",
     "output_type": "stream",
     "text": [
      "🌀  📂 test-s3-2025-05-29-16-46-19-to6y33\n"
     ]
    }
   ],
   "source": [
    "object_name = objects.unique_object(\"test-s3\")\n",
    "\n",
    "local_path=objects.object_path(object_name=object_name)"
   ]
  },
  {
   "cell_type": "code",
   "execution_count": 4,
   "metadata": {},
   "outputs": [
    {
     "name": "stderr",
     "output_type": "stream",
     "text": [
      "🌀  bluer_objects.testing.functions.create_test_asset: test-s3-2025-05-29-16-46-19-to6y33\n",
      "🌀  bluer_objects.file.save.save_image: 512x512x3:uint8 -> /Users/kamangir/storage/abcli/test-s3-2025-05-29-16-46-19-to6y33/test-00.png\n",
      "🌀  bluer_objects.file.save.save_image: 512x512x3:uint8 -> /Users/kamangir/storage/abcli/test-s3-2025-05-29-16-46-19-to6y33/test-01.png\n",
      "🌀  bluer_objects.file.save.save_image: 512x512x3:uint8 -> /Users/kamangir/storage/abcli/test-s3-2025-05-29-16-46-19-to6y33/test-02.png\n",
      "🌀  bluer_objects.file.save.save_image: 512x512x3:uint8 -> /Users/kamangir/storage/abcli/test-s3-2025-05-29-16-46-19-to6y33/test-03.png\n",
      "🌀  bluer_objects.file.save.save_image: 512x512x3:uint8 -> /Users/kamangir/storage/abcli/test-s3-2025-05-29-16-46-19-to6y33/test-04.png\n",
      "🌀  bluer_objects.file.save.save_image: 512x512x3:uint8 -> /Users/kamangir/storage/abcli/test-s3-2025-05-29-16-46-19-to6y33/test-05.png\n",
      "🌀  bluer_objects.file.save.save_image: 512x512x3:uint8 -> /Users/kamangir/storage/abcli/test-s3-2025-05-29-16-46-19-to6y33/test-06.png\n",
      "🌀  bluer_objects.file.save.save_image: 512x512x3:uint8 -> /Users/kamangir/storage/abcli/test-s3-2025-05-29-16-46-19-to6y33/test-07.png\n",
      "🌀  bluer_objects.file.save.save_image: 512x512x3:uint8 -> /Users/kamangir/storage/abcli/test-s3-2025-05-29-16-46-19-to6y33/test-08.png\n",
      "🌀  bluer_objects.file.save.save_image: 512x512x3:uint8 -> /Users/kamangir/storage/abcli/test-s3-2025-05-29-16-46-19-to6y33/test-09.png\n",
      "🌀  bluer_objects.file.save.save_yaml: yjn07jh16r, bp5u22smis, lxjy0193bd, 4zf0uvdu4e, j79bszsa90, hfpx3c6jew, v98e3vn7d7, 2tu3hfpodb, ui2ld7mzm8, vsm9skmyi5 -> /Users/kamangir/storage/abcli/test-s3-2025-05-29-16-46-19-to6y33/this.yaml.\n",
      "🌀  bluer_objects.file.save.save_yaml: yjn07jh16r, bp5u22smis, lxjy0193bd, 4zf0uvdu4e, j79bszsa90, hfpx3c6jew, v98e3vn7d7, 2tu3hfpodb, ui2ld7mzm8, vsm9skmyi5 -> /Users/kamangir/storage/abcli/test-s3-2025-05-29-16-46-19-to6y33/that.yaml.\n",
      "🌀  bluer_objects.file.save.save_yaml: yjn07jh16r, bp5u22smis, lxjy0193bd, 4zf0uvdu4e, j79bszsa90, hfpx3c6jew, v98e3vn7d7, 2tu3hfpodb, ui2ld7mzm8, vsm9skmyi5 -> /Users/kamangir/storage/abcli/test-s3-2025-05-29-16-46-19-to6y33/subfolder/this.yaml.\n",
      "🌀  bluer_objects.file.save.save_yaml: yjn07jh16r, bp5u22smis, lxjy0193bd, 4zf0uvdu4e, j79bszsa90, hfpx3c6jew, v98e3vn7d7, 2tu3hfpodb, ui2ld7mzm8, vsm9skmyi5 -> /Users/kamangir/storage/abcli/test-s3-2025-05-29-16-46-19-to6y33/subfolder/that.yaml.\n",
      "🌀  bluer_objects.file.save.save_yaml: yjn07jh16r, bp5u22smis, lxjy0193bd, 4zf0uvdu4e, j79bszsa90, hfpx3c6jew, v98e3vn7d7, 2tu3hfpodb, ui2ld7mzm8, vsm9skmyi5 -> /Users/kamangir/storage/abcli/test-s3-2025-05-29-16-46-19-to6y33/test.yaml.\n"
     ]
    }
   ],
   "source": [
    "assert create_test_asset(object_name)"
   ]
  },
  {
   "attachments": {},
   "cell_type": "markdown",
   "metadata": {},
   "source": [
    "---"
   ]
  },
  {
   "cell_type": "markdown",
   "metadata": {},
   "source": [
    "# ls"
   ]
  },
  {
   "cell_type": "code",
   "execution_count": 5,
   "metadata": {},
   "outputs": [
    {
     "name": "stderr",
     "output_type": "stream",
     "text": [
      "🌀  16 file(s)\n",
      "🌀  #  1: subfolder/that.yaml\n",
      "🌀  #  2: subfolder/this.yaml\n",
      "🌀  #  3: test-00.png\n",
      "🌀  #  4: test-01.png\n",
      "🌀  #  5: test-02.png\n",
      "🌀  #  6: test-03.png\n",
      "🌀  #  7: test-04.png\n",
      "🌀  #  8: test-05.png\n",
      "🌀  #  9: test-06.png\n",
      "🌀  # 10: test-07.png\n",
      "🌀  # 11: test-08.png\n",
      "🌀  # 12: test-09.png\n",
      "🌀  # 13: test.json\n",
      "🌀  # 14: test.yaml\n",
      "🌀  # 15: that.yaml\n",
      "🌀  # 16: this.yaml\n"
     ]
    }
   ],
   "source": [
    "success, list_of_files = storage.ls(object_name=object_name, where=\"local\")\n",
    "assert success\n",
    "\n",
    "logger.info(\"{} file(s)\".format(len(list_of_files)))\n",
    "for index, filename in enumerate(list_of_files):\n",
    "    logger.info(\"#{: 3d}: {}\".format(index+1, filename))"
   ]
  },
  {
   "cell_type": "code",
   "execution_count": 6,
   "metadata": {},
   "outputs": [
    {
     "name": "stderr",
     "output_type": "stream",
     "text": [
      "🌀  0 file(s)\n"
     ]
    }
   ],
   "source": [
    "success, list_of_files = storage.ls(object_name=object_name, where=\"cloud\")\n",
    "assert success\n",
    "\n",
    "logger.info(\"{} file(s)\".format(len(list_of_files)))\n",
    "for index, filename in enumerate(list_of_files):\n",
    "    logger.info(\"#{: 3d}: {}\".format(index+1, filename))"
   ]
  },
  {
   "cell_type": "markdown",
   "metadata": {},
   "source": [
    "# upload"
   ]
  },
  {
   "cell_type": "code",
   "execution_count": 7,
   "metadata": {},
   "outputs": [
    {
     "name": "stderr",
     "output_type": "stream",
     "text": [
      "  0%|          | 0/18 [00:00<?, ?it/s]🌀  S3Interface.upload test-s3-2025-05-29-16-46-19-to6y33/subfolder/that.yaml\n",
      " 17%|█▋        | 3/18 [00:04<00:20,  1.36s/it]🌀  S3Interface.upload test-s3-2025-05-29-16-46-19-to6y33/subfolder/this.yaml\n",
      " 22%|██▏       | 4/18 [00:13<00:54,  3.87s/it]🌀  S3Interface.upload test-s3-2025-05-29-16-46-19-to6y33/test-00.png\n",
      " 28%|██▊       | 5/18 [00:40<02:27, 11.35s/it]🌀  S3Interface.upload test-s3-2025-05-29-16-46-19-to6y33/test-01.png\n",
      " 33%|███▎      | 6/18 [00:48<02:03, 10.28s/it]🌀  S3Interface.upload test-s3-2025-05-29-16-46-19-to6y33/test-02.png\n",
      " 39%|███▉      | 7/18 [00:57<01:46,  9.72s/it]🌀  S3Interface.upload test-s3-2025-05-29-16-46-19-to6y33/test-03.png\n",
      " 44%|████▍     | 8/18 [01:04<01:29,  8.93s/it]🌀  S3Interface.upload test-s3-2025-05-29-16-46-19-to6y33/test-04.png\n",
      " 50%|█████     | 9/18 [01:11<01:15,  8.35s/it]🌀  S3Interface.upload test-s3-2025-05-29-16-46-19-to6y33/test-05.png\n",
      " 56%|█████▌    | 10/18 [01:16<00:59,  7.47s/it]🌀  S3Interface.upload test-s3-2025-05-29-16-46-19-to6y33/test-06.png\n",
      " 61%|██████    | 11/18 [01:21<00:46,  6.65s/it]🌀  S3Interface.upload test-s3-2025-05-29-16-46-19-to6y33/test-07.png\n",
      " 67%|██████▋   | 12/18 [01:33<00:49,  8.25s/it]🌀  S3Interface.upload test-s3-2025-05-29-16-46-19-to6y33/test-08.png\n",
      " 72%|███████▏  | 13/18 [01:38<00:35,  7.18s/it]🌀  S3Interface.upload test-s3-2025-05-29-16-46-19-to6y33/test-09.png\n",
      " 78%|███████▊  | 14/18 [01:46<00:29,  7.44s/it]🌀  S3Interface.upload test-s3-2025-05-29-16-46-19-to6y33/test.json\n",
      " 83%|████████▎ | 15/18 [01:47<00:16,  5.58s/it]🌀  S3Interface.upload test-s3-2025-05-29-16-46-19-to6y33/test.yaml\n",
      " 89%|████████▉ | 16/18 [01:48<00:08,  4.26s/it]🌀  S3Interface.upload test-s3-2025-05-29-16-46-19-to6y33/that.yaml\n",
      " 94%|█████████▍| 17/18 [01:49<00:03,  3.36s/it]🌀  S3Interface.upload test-s3-2025-05-29-16-46-19-to6y33/this.yaml\n",
      "100%|██████████| 18/18 [01:50<00:00,  6.17s/it]\n"
     ]
    }
   ],
   "source": [
    "assert storage.upload(object_name=object_name)"
   ]
  },
  {
   "cell_type": "code",
   "execution_count": 8,
   "metadata": {},
   "outputs": [
    {
     "name": "stderr",
     "output_type": "stream",
     "text": [
      "🌀  16 file(s)\n",
      "🌀  #  1: subfolder/that.yaml\n",
      "🌀  #  2: subfolder/this.yaml\n",
      "🌀  #  3: test-00.png\n",
      "🌀  #  4: test-01.png\n",
      "🌀  #  5: test-02.png\n",
      "🌀  #  6: test-03.png\n",
      "🌀  #  7: test-04.png\n",
      "🌀  #  8: test-05.png\n",
      "🌀  #  9: test-06.png\n",
      "🌀  # 10: test-07.png\n",
      "🌀  # 11: test-08.png\n",
      "🌀  # 12: test-09.png\n",
      "🌀  # 13: test.json\n",
      "🌀  # 14: test.yaml\n",
      "🌀  # 15: that.yaml\n",
      "🌀  # 16: this.yaml\n"
     ]
    }
   ],
   "source": [
    "success, list_of_files = storage.ls(object_name=object_name, where=\"cloud\")\n",
    "assert success\n",
    "\n",
    "logger.info(\"{} file(s)\".format(len(list_of_files)))\n",
    "for index, filename in enumerate(list_of_files):\n",
    "    logger.info(\"#{: 3d}: {}\".format(index+1, filename))"
   ]
  },
  {
   "cell_type": "code",
   "execution_count": 9,
   "metadata": {},
   "outputs": [],
   "source": [
    "assert path.delete(local_path)"
   ]
  },
  {
   "cell_type": "markdown",
   "metadata": {},
   "source": [
    "# download"
   ]
  },
  {
   "cell_type": "code",
   "execution_count": 10,
   "metadata": {},
   "outputs": [
    {
     "name": "stderr",
     "output_type": "stream",
     "text": [
      "  0%|          | 0/16 [00:00<?, ?it/s]🌀  S3Interface.download test-s3-2025-05-29-16-46-19-to6y33/subfolder/that.yaml\n",
      "  6%|▋         | 1/16 [00:01<00:21,  1.43s/it]🌀  S3Interface.download test-s3-2025-05-29-16-46-19-to6y33/subfolder/this.yaml\n",
      " 12%|█▎        | 2/16 [00:02<00:20,  1.44s/it]🌀  S3Interface.download test-s3-2025-05-29-16-46-19-to6y33/test-00.png\n",
      " 19%|█▉        | 3/16 [00:06<00:29,  2.24s/it]🌀  S3Interface.download test-s3-2025-05-29-16-46-19-to6y33/test-01.png\n",
      " 25%|██▌       | 4/16 [00:09<00:32,  2.69s/it]🌀  S3Interface.download test-s3-2025-05-29-16-46-19-to6y33/test-02.png\n",
      " 31%|███▏      | 5/16 [00:12<00:30,  2.75s/it]🌀  S3Interface.download test-s3-2025-05-29-16-46-19-to6y33/test-03.png\n",
      " 38%|███▊      | 6/16 [00:35<01:37,  9.76s/it]🌀  S3Interface.download test-s3-2025-05-29-16-46-19-to6y33/test-04.png\n",
      " 44%|████▍     | 7/16 [00:38<01:07,  7.46s/it]🌀  S3Interface.download test-s3-2025-05-29-16-46-19-to6y33/test-05.png\n",
      " 50%|█████     | 8/16 [00:41<00:47,  5.92s/it]🌀  S3Interface.download test-s3-2025-05-29-16-46-19-to6y33/test-06.png\n",
      " 56%|█████▋    | 9/16 [00:44<00:36,  5.19s/it]🌀  S3Interface.download test-s3-2025-05-29-16-46-19-to6y33/test-07.png\n",
      " 62%|██████▎   | 10/16 [00:47<00:26,  4.38s/it]🌀  S3Interface.download test-s3-2025-05-29-16-46-19-to6y33/test-08.png\n",
      " 69%|██████▉   | 11/16 [00:49<00:19,  3.88s/it]🌀  S3Interface.download test-s3-2025-05-29-16-46-19-to6y33/test-09.png\n",
      " 75%|███████▌  | 12/16 [00:52<00:14,  3.53s/it]🌀  S3Interface.download test-s3-2025-05-29-16-46-19-to6y33/test.json\n",
      " 81%|████████▏ | 13/16 [00:54<00:08,  2.93s/it]🌀  S3Interface.download test-s3-2025-05-29-16-46-19-to6y33/test.yaml\n",
      " 88%|████████▊ | 14/16 [00:55<00:05,  2.58s/it]🌀  S3Interface.download test-s3-2025-05-29-16-46-19-to6y33/that.yaml\n",
      " 94%|█████████▍| 15/16 [00:57<00:02,  2.28s/it]🌀  S3Interface.download test-s3-2025-05-29-16-46-19-to6y33/this.yaml\n",
      "100%|██████████| 16/16 [00:58<00:00,  3.69s/it]\n"
     ]
    }
   ],
   "source": [
    "assert storage.download(object_name=object_name)"
   ]
  },
  {
   "cell_type": "code",
   "execution_count": 11,
   "metadata": {},
   "outputs": [
    {
     "name": "stdout",
     "output_type": "stream",
     "text": [
      "\u001b[34msubfolder\u001b[m\u001b[m   test-02.png test-05.png test-08.png test.yaml\n",
      "test-00.png test-03.png test-06.png test-09.png that.yaml\n",
      "test-01.png test-04.png test-07.png test.json   this.yaml\n"
     ]
    }
   ],
   "source": [
    "! ls {local_path}"
   ]
  },
  {
   "attachments": {},
   "cell_type": "markdown",
   "metadata": {},
   "source": [
    "---"
   ]
  },
  {
   "cell_type": "code",
   "execution_count": 12,
   "metadata": {},
   "outputs": [],
   "source": [
    "# END"
   ]
  }
 ],
 "metadata": {
  "kernelspec": {
   "display_name": "base",
   "language": "python",
   "name": "python3"
  },
  "language_info": {
   "codemirror_mode": {
    "name": "ipython",
    "version": 3
   },
   "file_extension": ".py",
   "mimetype": "text/x-python",
   "name": "python",
   "nbconvert_exporter": "python",
   "pygments_lexer": "ipython3",
   "version": "3.12.9"
  },
  "toc": {
   "base_numbering": 1,
   "nav_menu": {},
   "number_sections": true,
   "sideBar": true,
   "skip_h1_title": false,
   "title_cell": "Table of Contents",
   "title_sidebar": "Contents",
   "toc_cell": false,
   "toc_position": {},
   "toc_section_display": true,
   "toc_window_display": false
  }
 },
 "nbformat": 4,
 "nbformat_minor": 2
}
