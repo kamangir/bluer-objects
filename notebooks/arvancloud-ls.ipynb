{
 "cells": [
  {
   "attachments": {},
   "cell_type": "markdown",
   "metadata": {},
   "source": [
    "# arvancloud: ls\n",
    "\n",
    "https://docs.arvancloud.ir/fa/developer-tools/sdk/object-storage/upload-object/"
   ]
  },
  {
   "cell_type": "code",
   "execution_count": null,
   "metadata": {},
   "outputs": [
    {
     "name": "stderr",
     "output_type": "stream",
     "text": [
      "🌀  bluer_objects-6.144.1.bluer_ai-12.160.1.bluer_objects-6.144.1.bluer_options-5.127.1.torch-2.2.2.Python 3.12.9.Darwin 23.6.0..Jupyter-Notebook,\n",
      "built on 29 May 2025, 16:07:07\n"
     ]
    }
   ],
   "source": [
    "from bluer_options import string\n",
    "\n",
    "from bluer_objects.host import signature\n",
    "from bluer_objects.storage import ArvancloudInterface\n",
    "from bluer_objects.logger import logger\n",
    "\n",
    "logger.info(f\"{'.'.join(signature())},\\nbuilt on {string.pretty_date()}\")"
   ]
  },
  {
   "cell_type": "code",
   "execution_count": 2,
   "metadata": {},
   "outputs": [],
   "source": [
    "storage = ArvancloudInterface()"
   ]
  },
  {
   "cell_type": "code",
   "execution_count": 3,
   "metadata": {},
   "outputs": [],
   "source": [
    "object_name = \"test-arvancloud-2025-05-29-15-52-56-gduk77\""
   ]
  },
  {
   "attachments": {},
   "cell_type": "markdown",
   "metadata": {},
   "source": [
    "---"
   ]
  },
  {
   "cell_type": "code",
   "execution_count": 4,
   "metadata": {},
   "outputs": [
    {
     "name": "stderr",
     "output_type": "stream",
     "text": [
      "🌀  16 file(s)\n",
      "🌀  #  1: subfolder/that.yaml\n",
      "🌀  #  2: subfolder/this.yaml\n",
      "🌀  #  3: test-00.png\n",
      "🌀  #  4: test-01.png\n",
      "🌀  #  5: test-02.png\n",
      "🌀  #  6: test-03.png\n",
      "🌀  #  7: test-04.png\n",
      "🌀  #  8: test-05.png\n",
      "🌀  #  9: test-06.png\n",
      "🌀  # 10: test-07.png\n",
      "🌀  # 11: test-08.png\n",
      "🌀  # 12: test-09.png\n",
      "🌀  # 13: test.json\n",
      "🌀  # 14: test.yaml\n",
      "🌀  # 15: that.yaml\n",
      "🌀  # 16: this.yaml\n"
     ]
    }
   ],
   "source": [
    "success, list_of_files = storage.ls(object_name=object_name, where=\"cloud\")\n",
    "assert success\n",
    "\n",
    "logger.info(\"{} file(s)\".format(len(list_of_files)))\n",
    "for index, filename in enumerate(list_of_files):\n",
    "    logger.info(\"#{: 3d}: {}\".format(index+1, filename))"
   ]
  },
  {
   "attachments": {},
   "cell_type": "markdown",
   "metadata": {},
   "source": [
    "---"
   ]
  },
  {
   "cell_type": "code",
   "execution_count": 5,
   "metadata": {},
   "outputs": [],
   "source": [
    "# END"
   ]
  }
 ],
 "metadata": {
  "kernelspec": {
   "display_name": "base",
   "language": "python",
   "name": "python3"
  },
  "language_info": {
   "codemirror_mode": {
    "name": "ipython",
    "version": 3
   },
   "file_extension": ".py",
   "mimetype": "text/x-python",
   "name": "python",
   "nbconvert_exporter": "python",
   "pygments_lexer": "ipython3",
   "version": "3.12.9"
  },
  "toc": {
   "base_numbering": 1,
   "nav_menu": {},
   "number_sections": true,
   "sideBar": true,
   "skip_h1_title": false,
   "title_cell": "Table of Contents",
   "title_sidebar": "Contents",
   "toc_cell": false,
   "toc_position": {},
   "toc_section_display": true,
   "toc_window_display": false
  }
 },
 "nbformat": 4,
 "nbformat_minor": 2
}
