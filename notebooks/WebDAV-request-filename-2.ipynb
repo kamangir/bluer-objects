{
 "cells": [
  {
   "attachments": {},
   "cell_type": "markdown",
   "metadata": {},
   "source": [
    "# WebDAV - request: filename\n",
    "\n",
    "https://chatgpt.com/c/6824cf43-6738-8005-8733-54b6a77f20ee"
   ]
  },
  {
   "cell_type": "code",
   "execution_count": 1,
   "metadata": {},
   "outputs": [
    {
     "name": "stderr",
     "output_type": "stream",
     "text": [
      "🌀  bluer_objects-6.108.1.bluer_ai-12.141.1.bluer_objects-6.108.1.bluer_options-5.97.1.torch-2.2.2.Python 3.12.9.Darwin 23.6.0..Jupyter-Notebook,\n",
      "built on 14 May 2025, 22:51:32\n"
     ]
    }
   ],
   "source": [
    "from bluer_options import string\n",
    "\n",
    "from bluer_objects import objects\n",
    "from bluer_objects.host import signature\n",
    "from bluer_objects.testing import create_test_asset\n",
    "from bluer_objects.storage import WebDAVRequestInterface\n",
    "from bluer_objects import file, env\n",
    "from bluer_objects.logger import logger\n",
    "\n",
    "logger.info(f\"{'.'.join(signature())},\\nbuilt on {string.pretty_date()}\")"
   ]
  },
  {
   "cell_type": "code",
   "execution_count": 2,
   "metadata": {},
   "outputs": [],
   "source": [
    "storage = WebDAVRequestInterface()"
   ]
  },
  {
   "cell_type": "code",
   "execution_count": 3,
   "metadata": {},
   "outputs": [],
   "source": [
    "# filename = \"test-00.png\"\n",
    "\n",
    "# filename = \"this.yaml\"\n",
    "\n",
    "filename = \"subfolder/this.yaml\""
   ]
  },
  {
   "cell_type": "code",
   "execution_count": 4,
   "metadata": {},
   "outputs": [
    {
     "name": "stderr",
     "output_type": "stream",
     "text": [
      "🌀  📂 test-WebDAV-2025-05-14-22-51-32-7iov4e\n"
     ]
    }
   ],
   "source": [
    "object_name = objects.unique_object(\"test-WebDAV\")\n",
    "\n",
    "local_path=objects.path_of(\n",
    "        object_name=object_name,\n",
    "        filename=filename,\n",
    "    )"
   ]
  },
  {
   "cell_type": "code",
   "execution_count": 5,
   "metadata": {},
   "outputs": [
    {
     "name": "stderr",
     "output_type": "stream",
     "text": [
      "🌀  bluer_objects.testing.functions.create_test_asset: test-WebDAV-2025-05-14-22-51-32-7iov4e\n",
      "🌀  bluer_objects.file.save.save_image: 512x512x3:uint8 -> /Users/kamangir/storage/abcli/test-WebDAV-2025-05-14-22-51-32-7iov4e/test-00.png\n",
      "🌀  bluer_objects.file.save.save_image: 512x512x3:uint8 -> /Users/kamangir/storage/abcli/test-WebDAV-2025-05-14-22-51-32-7iov4e/test-01.png\n",
      "🌀  bluer_objects.file.save.save_image: 512x512x3:uint8 -> /Users/kamangir/storage/abcli/test-WebDAV-2025-05-14-22-51-32-7iov4e/test-02.png\n",
      "🌀  bluer_objects.file.save.save_image: 512x512x3:uint8 -> /Users/kamangir/storage/abcli/test-WebDAV-2025-05-14-22-51-32-7iov4e/test-03.png\n",
      "🌀  bluer_objects.file.save.save_image: 512x512x3:uint8 -> /Users/kamangir/storage/abcli/test-WebDAV-2025-05-14-22-51-32-7iov4e/test-04.png\n",
      "🌀  bluer_objects.file.save.save_image: 512x512x3:uint8 -> /Users/kamangir/storage/abcli/test-WebDAV-2025-05-14-22-51-32-7iov4e/test-05.png\n",
      "🌀  bluer_objects.file.save.save_image: 512x512x3:uint8 -> /Users/kamangir/storage/abcli/test-WebDAV-2025-05-14-22-51-32-7iov4e/test-06.png\n",
      "🌀  bluer_objects.file.save.save_image: 512x512x3:uint8 -> /Users/kamangir/storage/abcli/test-WebDAV-2025-05-14-22-51-32-7iov4e/test-07.png\n",
      "🌀  bluer_objects.file.save.save_image: 512x512x3:uint8 -> /Users/kamangir/storage/abcli/test-WebDAV-2025-05-14-22-51-32-7iov4e/test-08.png\n",
      "🌀  bluer_objects.file.save.save_image: 512x512x3:uint8 -> /Users/kamangir/storage/abcli/test-WebDAV-2025-05-14-22-51-32-7iov4e/test-09.png\n",
      "🌀  bluer_objects.file.save.save_yaml: vnalvc3tqu, s32aoacdm6, sf17yz9k2k, bm04oua6l9, rjhbb5k12p, jtdr5hj1e8, foxqq9s04y, z0z2oivm04, 14ruzz9uhu, ffohjej229 -> /Users/kamangir/storage/abcli/test-WebDAV-2025-05-14-22-51-32-7iov4e/this.yaml.\n",
      "🌀  bluer_objects.file.save.save_yaml: vnalvc3tqu, s32aoacdm6, sf17yz9k2k, bm04oua6l9, rjhbb5k12p, jtdr5hj1e8, foxqq9s04y, z0z2oivm04, 14ruzz9uhu, ffohjej229 -> /Users/kamangir/storage/abcli/test-WebDAV-2025-05-14-22-51-32-7iov4e/that.yaml.\n",
      "🌀  bluer_objects.file.save.save_yaml: vnalvc3tqu, s32aoacdm6, sf17yz9k2k, bm04oua6l9, rjhbb5k12p, jtdr5hj1e8, foxqq9s04y, z0z2oivm04, 14ruzz9uhu, ffohjej229 -> /Users/kamangir/storage/abcli/test-WebDAV-2025-05-14-22-51-32-7iov4e/subfolder/this.yaml.\n",
      "🌀  bluer_objects.file.save.save_yaml: vnalvc3tqu, s32aoacdm6, sf17yz9k2k, bm04oua6l9, rjhbb5k12p, jtdr5hj1e8, foxqq9s04y, z0z2oivm04, 14ruzz9uhu, ffohjej229 -> /Users/kamangir/storage/abcli/test-WebDAV-2025-05-14-22-51-32-7iov4e/subfolder/that.yaml.\n",
      "🌀  bluer_objects.file.save.save_yaml: vnalvc3tqu, s32aoacdm6, sf17yz9k2k, bm04oua6l9, rjhbb5k12p, jtdr5hj1e8, foxqq9s04y, z0z2oivm04, 14ruzz9uhu, ffohjej229 -> /Users/kamangir/storage/abcli/test-WebDAV-2025-05-14-22-51-32-7iov4e/test.yaml.\n"
     ]
    }
   ],
   "source": [
    "assert create_test_asset(object_name)"
   ]
  },
  {
   "attachments": {},
   "cell_type": "markdown",
   "metadata": {},
   "source": [
    "---"
   ]
  },
  {
   "cell_type": "markdown",
   "metadata": {},
   "source": [
    "# upload"
   ]
  },
  {
   "cell_type": "code",
   "execution_count": 6,
   "metadata": {},
   "outputs": [
    {
     "name": "stderr",
     "output_type": "stream",
     "text": [
      "🌀  WebDAVRequestInterface.mkdir /test-WebDAV-2025-05-14-22-51-32-7iov4e/\n",
      "🌀  WebDAVRequestInterface.mkdir /test-WebDAV-2025-05-14-22-51-32-7iov4e/subfolder/\n",
      "🌀  WebDAVRequestInterface.upload test-WebDAV-2025-05-14-22-51-32-7iov4e/subfolder/this.yaml\n"
     ]
    }
   ],
   "source": [
    "assert storage.upload(\n",
    "    object_name=object_name,\n",
    "    filename=filename,\n",
    ")"
   ]
  },
  {
   "cell_type": "code",
   "execution_count": 7,
   "metadata": {},
   "outputs": [],
   "source": [
    "assert file.delete(local_path)"
   ]
  },
  {
   "cell_type": "markdown",
   "metadata": {},
   "source": [
    "# download"
   ]
  },
  {
   "cell_type": "code",
   "execution_count": null,
   "metadata": {},
   "outputs": [
    {
     "name": "stderr",
     "output_type": "stream",
     "text": [
      "🌀  WebDAVRequestInterface.download test-WebDAV-2025-05-14-22-51-32-7iov4e/subfolder/this.yaml\n"
     ]
    }
   ],
   "source": [
    "assert storage.download(\n",
    "    object_name=object_name,\n",
    "    filename=filename,\n",
    ")"
   ]
  },
  {
   "cell_type": "code",
   "execution_count": 9,
   "metadata": {},
   "outputs": [
    {
     "name": "stdout",
     "output_type": "stream",
     "text": [
      "/Users/kamangir/storage/abcli/test-WebDAV-2025-05-14-22-51-32-7iov4e/subfolder/this.yaml\n"
     ]
    }
   ],
   "source": [
    "! ls {local_path}"
   ]
  },
  {
   "attachments": {},
   "cell_type": "markdown",
   "metadata": {},
   "source": [
    "---"
   ]
  },
  {
   "cell_type": "code",
   "execution_count": 10,
   "metadata": {},
   "outputs": [],
   "source": [
    "# END"
   ]
  }
 ],
 "metadata": {
  "kernelspec": {
   "display_name": "base",
   "language": "python",
   "name": "python3"
  },
  "language_info": {
   "codemirror_mode": {
    "name": "ipython",
    "version": 3
   },
   "file_extension": ".py",
   "mimetype": "text/x-python",
   "name": "python",
   "nbconvert_exporter": "python",
   "pygments_lexer": "ipython3",
   "version": "3.12.9"
  },
  "toc": {
   "base_numbering": 1,
   "nav_menu": {},
   "number_sections": true,
   "sideBar": true,
   "skip_h1_title": false,
   "title_cell": "Table of Contents",
   "title_sidebar": "Contents",
   "toc_cell": false,
   "toc_position": {},
   "toc_section_display": true,
   "toc_window_display": false
  }
 },
 "nbformat": 4,
 "nbformat_minor": 2
}
