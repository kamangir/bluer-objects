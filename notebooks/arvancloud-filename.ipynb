{
 "cells": [
  {
   "attachments": {},
   "cell_type": "markdown",
   "metadata": {},
   "source": [
    "# arvancloud: filename\n",
    "\n",
    "https://docs.arvancloud.ir/fa/developer-tools/sdk/object-storage/upload-object/"
   ]
  },
  {
   "cell_type": "code",
   "execution_count": 1,
   "metadata": {},
   "outputs": [
    {
     "name": "stderr",
     "output_type": "stream",
     "text": [
      "🌀  bluer_objects-6.139.1.bluer_ai-12.160.1.bluer_objects-6.139.1.bluer_options-5.127.1.torch-2.2.2.Python 3.12.9.Darwin 23.6.0..Jupyter-Notebook,\n",
      "built on 29 May 2025, 14:00:37\n"
     ]
    }
   ],
   "source": [
    "from bluer_options import string\n",
    "\n",
    "from bluer_objects import objects\n",
    "from bluer_objects.host import signature\n",
    "from bluer_objects.testing import create_test_asset\n",
    "from bluer_objects import file, storage, env\n",
    "from bluer_objects.logger import logger\n",
    "\n",
    "logger.info(f\"{'.'.join(signature())},\\nbuilt on {string.pretty_date()}\")"
   ]
  },
  {
   "cell_type": "code",
   "execution_count": 2,
   "metadata": {},
   "outputs": [],
   "source": [
    "# filename = \"test-00.png\"\n",
    "\n",
    "# filename = \"this.yaml\"\n",
    "\n",
    "filename = \"subfolder/this.yaml\""
   ]
  },
  {
   "cell_type": "code",
   "execution_count": 3,
   "metadata": {},
   "outputs": [
    {
     "name": "stderr",
     "output_type": "stream",
     "text": [
      "🌀  📂 test-arvancloud-2025-05-29-14-00-37-euk3l6\n"
     ]
    }
   ],
   "source": [
    "object_name = objects.unique_object(\"test-arvancloud\")\n",
    "\n",
    "local_path=objects.path_of(\n",
    "        object_name=object_name,\n",
    "        filename=filename,\n",
    "    )"
   ]
  },
  {
   "cell_type": "code",
   "execution_count": 4,
   "metadata": {},
   "outputs": [
    {
     "name": "stderr",
     "output_type": "stream",
     "text": [
      "🌀  bluer_objects.testing.functions.create_test_asset: test-arvancloud-2025-05-29-14-00-37-euk3l6\n",
      "🌀  bluer_objects.file.save.save_image: 512x512x3:uint8 -> /Users/kamangir/storage/abcli/test-arvancloud-2025-05-29-14-00-37-euk3l6/test-00.png\n",
      "🌀  bluer_objects.file.save.save_image: 512x512x3:uint8 -> /Users/kamangir/storage/abcli/test-arvancloud-2025-05-29-14-00-37-euk3l6/test-01.png\n",
      "🌀  bluer_objects.file.save.save_image: 512x512x3:uint8 -> /Users/kamangir/storage/abcli/test-arvancloud-2025-05-29-14-00-37-euk3l6/test-02.png\n",
      "🌀  bluer_objects.file.save.save_image: 512x512x3:uint8 -> /Users/kamangir/storage/abcli/test-arvancloud-2025-05-29-14-00-37-euk3l6/test-03.png\n",
      "🌀  bluer_objects.file.save.save_image: 512x512x3:uint8 -> /Users/kamangir/storage/abcli/test-arvancloud-2025-05-29-14-00-37-euk3l6/test-04.png\n",
      "🌀  bluer_objects.file.save.save_image: 512x512x3:uint8 -> /Users/kamangir/storage/abcli/test-arvancloud-2025-05-29-14-00-37-euk3l6/test-05.png\n",
      "🌀  bluer_objects.file.save.save_image: 512x512x3:uint8 -> /Users/kamangir/storage/abcli/test-arvancloud-2025-05-29-14-00-37-euk3l6/test-06.png\n",
      "🌀  bluer_objects.file.save.save_image: 512x512x3:uint8 -> /Users/kamangir/storage/abcli/test-arvancloud-2025-05-29-14-00-37-euk3l6/test-07.png\n",
      "🌀  bluer_objects.file.save.save_image: 512x512x3:uint8 -> /Users/kamangir/storage/abcli/test-arvancloud-2025-05-29-14-00-37-euk3l6/test-08.png\n",
      "🌀  bluer_objects.file.save.save_image: 512x512x3:uint8 -> /Users/kamangir/storage/abcli/test-arvancloud-2025-05-29-14-00-37-euk3l6/test-09.png\n",
      "🌀  bluer_objects.file.save.save_yaml: 3uvlf44vqg, e4dmm2h81q, k3pt0nsciu, aaff4dgxh0, 4cnuhsflg2, pj0owsp8z7, pd3vcscw1k, q8lwqzoill, ydknwx728v, 9bm5w7fad6 -> /Users/kamangir/storage/abcli/test-arvancloud-2025-05-29-14-00-37-euk3l6/this.yaml.\n",
      "🌀  bluer_objects.file.save.save_yaml: 3uvlf44vqg, e4dmm2h81q, k3pt0nsciu, aaff4dgxh0, 4cnuhsflg2, pj0owsp8z7, pd3vcscw1k, q8lwqzoill, ydknwx728v, 9bm5w7fad6 -> /Users/kamangir/storage/abcli/test-arvancloud-2025-05-29-14-00-37-euk3l6/that.yaml.\n",
      "🌀  bluer_objects.file.save.save_yaml: 3uvlf44vqg, e4dmm2h81q, k3pt0nsciu, aaff4dgxh0, 4cnuhsflg2, pj0owsp8z7, pd3vcscw1k, q8lwqzoill, ydknwx728v, 9bm5w7fad6 -> /Users/kamangir/storage/abcli/test-arvancloud-2025-05-29-14-00-37-euk3l6/subfolder/this.yaml.\n",
      "🌀  bluer_objects.file.save.save_yaml: 3uvlf44vqg, e4dmm2h81q, k3pt0nsciu, aaff4dgxh0, 4cnuhsflg2, pj0owsp8z7, pd3vcscw1k, q8lwqzoill, ydknwx728v, 9bm5w7fad6 -> /Users/kamangir/storage/abcli/test-arvancloud-2025-05-29-14-00-37-euk3l6/subfolder/that.yaml.\n",
      "🌀  bluer_objects.file.save.save_yaml: 3uvlf44vqg, e4dmm2h81q, k3pt0nsciu, aaff4dgxh0, 4cnuhsflg2, pj0owsp8z7, pd3vcscw1k, q8lwqzoill, ydknwx728v, 9bm5w7fad6 -> /Users/kamangir/storage/abcli/test-arvancloud-2025-05-29-14-00-37-euk3l6/test.yaml.\n"
     ]
    }
   ],
   "source": [
    "assert create_test_asset(object_name)"
   ]
  },
  {
   "attachments": {},
   "cell_type": "markdown",
   "metadata": {},
   "source": [
    "---"
   ]
  },
  {
   "cell_type": "markdown",
   "metadata": {},
   "source": [
    "# upload"
   ]
  },
  {
   "cell_type": "code",
   "execution_count": 5,
   "metadata": {},
   "outputs": [],
   "source": [
    "import boto3\n",
    "import logging\n",
    "from botocore.exceptions import ClientError\n",
    "\n",
    "# Configure logging\n",
    "logging.basicConfig(level=logging.INFO)\n",
    "\n",
    "try:\n",
    "   s3_resource = boto3.resource(\n",
    "       's3',\n",
    "       endpoint_url=env.ARVANCLOUD_STORAGE_ENDPOINT_URL,\n",
    "       aws_access_key_id=env.ARVANCLOUD_STORAGE_AWS_ACCESS_KEY_ID,\n",
    "       aws_secret_access_key=env.ARVANCLOUD_STORAGE_AWS_SECRET_ACCESS_KEY\n",
    "   )\n",
    "\n",
    "except Exception as exc:\n",
    "   logging.error(exc)\n",
    "else:\n",
    "   try:\n",
    "       bucket = s3_resource.Bucket(env.ARVANCLOUD_STORAGE_BUCKET)\n",
    "       file_path = local_path\n",
    "       object_name = f\"{object_name}/{filename}\"\n",
    "\n",
    "       with open(file_path, \"rb\") as fp:\n",
    "           bucket.put_object(\n",
    "               ACL='private',\n",
    "               Body=fp,\n",
    "               Key=object_name\n",
    "           )\n",
    "   except ClientError as e:\n",
    "       logging.error(e)\n"
   ]
  },
  {
   "cell_type": "code",
   "execution_count": 6,
   "metadata": {},
   "outputs": [],
   "source": [
    "assert file.delete(local_path)"
   ]
  },
  {
   "cell_type": "markdown",
   "metadata": {},
   "source": [
    "# download"
   ]
  },
  {
   "cell_type": "code",
   "execution_count": 7,
   "metadata": {},
   "outputs": [
    {
     "data": {
      "text/plain": [
       "Ellipsis"
      ]
     },
     "execution_count": 7,
     "metadata": {},
     "output_type": "execute_result"
    }
   ],
   "source": [
    "..."
   ]
  },
  {
   "cell_type": "code",
   "execution_count": 8,
   "metadata": {},
   "outputs": [
    {
     "name": "stdout",
     "output_type": "stream",
     "text": [
      "ls: /Users/kamangir/storage/abcli/test-arvancloud-2025-05-29-14-00-37-euk3l6/subfolder/this.yaml: No such file or directory\n"
     ]
    }
   ],
   "source": [
    "! ls {local_path}"
   ]
  },
  {
   "attachments": {},
   "cell_type": "markdown",
   "metadata": {},
   "source": [
    "---"
   ]
  },
  {
   "cell_type": "code",
   "execution_count": 9,
   "metadata": {},
   "outputs": [],
   "source": [
    "# END"
   ]
  }
 ],
 "metadata": {
  "kernelspec": {
   "display_name": "base",
   "language": "python",
   "name": "python3"
  },
  "language_info": {
   "codemirror_mode": {
    "name": "ipython",
    "version": 3
   },
   "file_extension": ".py",
   "mimetype": "text/x-python",
   "name": "python",
   "nbconvert_exporter": "python",
   "pygments_lexer": "ipython3",
   "version": "3.12.9"
  },
  "toc": {
   "base_numbering": 1,
   "nav_menu": {},
   "number_sections": true,
   "sideBar": true,
   "skip_h1_title": false,
   "title_cell": "Table of Contents",
   "title_sidebar": "Contents",
   "toc_cell": false,
   "toc_position": {},
   "toc_section_display": true,
   "toc_window_display": false
  }
 },
 "nbformat": 4,
 "nbformat_minor": 2
}
